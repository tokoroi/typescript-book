{
  "nbformat": 4,
  "nbformat_minor": 0,
  "metadata": {
    "colab": {
      "provenance": [],
      "toc_visible": true,
      "authorship_tag": "ABX9TyMS8mRuQmwIn7zA08jl3seL",
      "include_colab_link": true
    },
    "kernelspec": {
      "name": "python3",
      "display_name": "Python 3"
    },
    "language_info": {
      "name": "python"
    }
  },
  "cells": [
    {
      "cell_type": "markdown",
      "metadata": {
        "id": "view-in-github",
        "colab_type": "text"
      },
      "source": [
        "<a href=\"https://colab.research.google.com/github/tokoroi/typescript-book/blob/master/Untitled0.ipynb\" target=\"_parent\"><img src=\"https://colab.research.google.com/assets/colab-badge.svg\" alt=\"Open In Colab\"/></a>"
      ]
    },
    {
      "cell_type": "markdown",
      "source": [
        "print文 シングルクォーテーションとダブルクォーテーションは区別されない"
      ],
      "metadata": {
        "id": "ktThnwxNAEYU"
      }
    },
    {
      "cell_type": "code",
      "execution_count": null,
      "metadata": {
        "colab": {
          "base_uri": "https://localhost:8080/"
        },
        "id": "FLuitn9W-0Nr",
        "outputId": "2c0d657f-a357-4979-fac8-068fb03ac0b4"
      },
      "outputs": [
        {
          "output_type": "stream",
          "name": "stdout",
          "text": [
            "This line will be printed.\n"
          ]
        }
      ],
      "source": [
        "print('This line will be printed.')"
      ]
    },
    {
      "cell_type": "markdown",
      "source": [
        " {}の代わりにインデントを使用する"
      ],
      "metadata": {
        "id": "C3NKavRf_8KM"
      }
    },
    {
      "cell_type": "code",
      "source": [
        "x = 1\n",
        "if x == 1:\n",
        "    #　indented four spaces\n",
        "    print('x is 1.')"
      ],
      "metadata": {
        "colab": {
          "base_uri": "https://localhost:8080/"
        },
        "id": "A00HY2xk_eQW",
        "outputId": "9dcbf938-aba9-44ca-dd2f-48706f8ccc81"
      },
      "execution_count": null,
      "outputs": [
        {
          "output_type": "stream",
          "name": "stdout",
          "text": [
            "x is 1.\n"
          ]
        }
      ]
    },
    {
      "cell_type": "code",
      "source": [
        "print('Hello World!')"
      ],
      "metadata": {
        "colab": {
          "base_uri": "https://localhost:8080/"
        },
        "id": "GqyNWzxUAQ6L",
        "outputId": "95ff1358-413c-4d7f-db27-6484c08448c0"
      },
      "execution_count": null,
      "outputs": [
        {
          "output_type": "stream",
          "name": "stdout",
          "text": [
            "Hello World!\n"
          ]
        }
      ]
    },
    {
      "cell_type": "markdown",
      "source": [
        "**変数と型**"
      ],
      "metadata": {
        "id": "5x2lIobVAnWT"
      }
    },
    {
      "cell_type": "markdown",
      "source": [
        "Pythonはオブジェクト指向\n",
        "変数を使用する前の宣言や型の宣言は必要ない"
      ],
      "metadata": {
        "id": "CRJyAUMSAuxw"
      }
    },
    {
      "cell_type": "markdown",
      "source": [
        "整数の定義"
      ],
      "metadata": {
        "id": "faMGXNMJBGmP"
      }
    },
    {
      "cell_type": "code",
      "source": [
        "myint = 7\n",
        "print(myint)"
      ],
      "metadata": {
        "colab": {
          "base_uri": "https://localhost:8080/"
        },
        "id": "Cp0fv96NA8tK",
        "outputId": "2a4b5530-4a89-46a7-d612-1a3e6ca41490"
      },
      "execution_count": null,
      "outputs": [
        {
          "output_type": "stream",
          "name": "stdout",
          "text": [
            "7\n"
          ]
        }
      ]
    },
    {
      "cell_type": "markdown",
      "source": [
        "浮動小数点の定義は下記のどちらか"
      ],
      "metadata": {
        "id": "lXepHwGwBNNB"
      }
    },
    {
      "cell_type": "code",
      "source": [
        "myfloat = 7.0\n",
        "print(myfloat)\n",
        "myfloat = float(7)\n",
        "print(myfloat)"
      ],
      "metadata": {
        "colab": {
          "base_uri": "https://localhost:8080/"
        },
        "id": "z6oWE99UBLPe",
        "outputId": "99a18763-df25-48e8-d1e9-a51be5881bff"
      },
      "execution_count": null,
      "outputs": [
        {
          "output_type": "stream",
          "name": "stdout",
          "text": [
            "7.0\n",
            "7.0\n"
          ]
        }
      ]
    },
    {
      "cell_type": "markdown",
      "source": [
        "文字列型の定義"
      ],
      "metadata": {
        "id": "a5F8OgIZBjMC"
      }
    },
    {
      "cell_type": "code",
      "source": [
        "mystring = 'hello'\n",
        "print(mystring)"
      ],
      "metadata": {
        "colab": {
          "base_uri": "https://localhost:8080/"
        },
        "id": "38Pw1fhYBm2m",
        "outputId": "e506c102-2855-44a6-d24c-4ea683df75de"
      },
      "execution_count": null,
      "outputs": [
        {
          "output_type": "stream",
          "name": "stdout",
          "text": [
            "hello\n"
          ]
        }
      ]
    },
    {
      "cell_type": "markdown",
      "source": [
        "文字列の中でシングルクォートを使用する際はダブルクォートで囲む"
      ],
      "metadata": {
        "id": "piKbsZ3aCHmn"
      }
    },
    {
      "cell_type": "code",
      "source": [
        "mystring = \"Don't worry about apostrophes\"\n",
        "print(mystring)"
      ],
      "metadata": {
        "colab": {
          "base_uri": "https://localhost:8080/"
        },
        "id": "ioehWC93B3Sw",
        "outputId": "e3ef440f-c13a-4583-f456-824dff6d8516"
      },
      "execution_count": null,
      "outputs": [
        {
          "output_type": "stream",
          "name": "stdout",
          "text": [
            "Don't worry about apostrophes\n"
          ]
        }
      ]
    },
    {
      "cell_type": "markdown",
      "source": [
        "演算子"
      ],
      "metadata": {
        "id": "Vn68BDAGCYM4"
      }
    },
    {
      "cell_type": "code",
      "source": [
        "one = 1\n",
        "two = 2\n",
        "three = one + two\n",
        "print(three)\n",
        "\n",
        "hello = 'hello'\n",
        "world = 'world'\n",
        "helloworld = hello + ' ' + world\n",
        "print(helloworld)"
      ],
      "metadata": {
        "colab": {
          "base_uri": "https://localhost:8080/"
        },
        "id": "D7373izaCaD1",
        "outputId": "3cb845cd-d823-4588-b307-9c7d6865944c"
      },
      "execution_count": null,
      "outputs": [
        {
          "output_type": "stream",
          "name": "stdout",
          "text": [
            "3\n",
            "hello world\n"
          ]
        }
      ]
    },
    {
      "cell_type": "markdown",
      "source": [
        "代入は同時にできる"
      ],
      "metadata": {
        "id": "GvXh7-ikCx3O"
      }
    },
    {
      "cell_type": "code",
      "source": [
        "a, b = 3, 4\n",
        "print(a, b)"
      ],
      "metadata": {
        "colab": {
          "base_uri": "https://localhost:8080/"
        },
        "id": "kTkLEpd6C0E0",
        "outputId": "853b5d0f-e223-4abd-8c8c-fab9e23b2a2a"
      },
      "execution_count": null,
      "outputs": [
        {
          "output_type": "stream",
          "name": "stdout",
          "text": [
            "3 4\n"
          ]
        }
      ]
    },
    {
      "cell_type": "markdown",
      "source": [
        "数値と文字列を演算子でつなぐとPythonではエラーになる"
      ],
      "metadata": {
        "id": "FN69VORdC71d"
      }
    },
    {
      "cell_type": "code",
      "source": [
        "#This will not work!\n",
        "one = 1\n",
        "two = 2\n",
        "hello = 'hello'\n",
        "print(one + two + hello)"
      ],
      "metadata": {
        "colab": {
          "base_uri": "https://localhost:8080/",
          "height": 205
        },
        "id": "_sBzskpQDAV6",
        "outputId": "ea7e46a0-6843-4064-e74c-23fcfb0143c2"
      },
      "execution_count": null,
      "outputs": [
        {
          "output_type": "error",
          "ename": "TypeError",
          "evalue": "ignored",
          "traceback": [
            "\u001b[0;31m---------------------------------------------------------------------------\u001b[0m",
            "\u001b[0;31mTypeError\u001b[0m                                 Traceback (most recent call last)",
            "\u001b[0;32m<ipython-input-10-46a4302081f5>\u001b[0m in \u001b[0;36m<module>\u001b[0;34m\u001b[0m\n\u001b[1;32m      3\u001b[0m \u001b[0mtwo\u001b[0m \u001b[0;34m=\u001b[0m \u001b[0;36m2\u001b[0m\u001b[0;34m\u001b[0m\u001b[0;34m\u001b[0m\u001b[0m\n\u001b[1;32m      4\u001b[0m \u001b[0mhello\u001b[0m \u001b[0;34m=\u001b[0m \u001b[0;34m'hello'\u001b[0m\u001b[0;34m\u001b[0m\u001b[0;34m\u001b[0m\u001b[0m\n\u001b[0;32m----> 5\u001b[0;31m \u001b[0mprint\u001b[0m\u001b[0;34m(\u001b[0m\u001b[0mone\u001b[0m \u001b[0;34m+\u001b[0m \u001b[0mtwo\u001b[0m \u001b[0;34m+\u001b[0m \u001b[0mhello\u001b[0m\u001b[0;34m)\u001b[0m\u001b[0;34m\u001b[0m\u001b[0;34m\u001b[0m\u001b[0m\n\u001b[0m",
            "\u001b[0;31mTypeError\u001b[0m: unsupported operand type(s) for +: 'int' and 'str'"
          ]
        }
      ]
    },
    {
      "cell_type": "code",
      "source": [
        "mystring = 'hello'\n",
        "myfloat = 10.0\n",
        "myint = 20\n",
        "\n",
        "if mystring == 'hello':\n",
        "  print('String: %s' % mystring)\n",
        "if isinstance(myfloat, float) and myfloat == 10.0:\n",
        "    print('flot: %f' % myfloat)\n",
        "if isinstance(myint, int) and myint == 20:\n",
        "    print('Integer: %d' % myint)"
      ],
      "metadata": {
        "colab": {
          "base_uri": "https://localhost:8080/"
        },
        "id": "ciqmMBxZDSCf",
        "outputId": "5cc9d112-cc9a-4830-8668-1042b38dc65d"
      },
      "execution_count": null,
      "outputs": [
        {
          "output_type": "stream",
          "name": "stdout",
          "text": [
            "String: hello\n",
            "flot: 10.000000\n",
            "Integer: 20\n"
          ]
        }
      ]
    },
    {
      "cell_type": "markdown",
      "source": [
        "# リスト"
      ],
      "metadata": {
        "id": "orxOfgUVEBLR"
      }
    },
    {
      "cell_type": "markdown",
      "source": [
        "任意の型の変数を含めることができる"
      ],
      "metadata": {
        "id": "yBfj9_pqEK1B"
      }
    },
    {
      "cell_type": "code",
      "source": [
        "mylist = []\n",
        "mylist.append(1)\n",
        "mylist.append(2)\n",
        "mylist.append(3)\n",
        "print(mylist[0]) #prints 1\n",
        "print(mylist[1]) #prints 2\n",
        "print(mylist[2]) #prints 3\n",
        "\n",
        "# 変数 x にmylistの中身を入れてfor文で回してるっぽい\n",
        "for x in mylist:\n",
        "    print(x)"
      ],
      "metadata": {
        "colab": {
          "base_uri": "https://localhost:8080/"
        },
        "id": "qDsWRUF6ESZS",
        "outputId": "9965d5d9-7248-423e-c916-45520e9ef2ca"
      },
      "execution_count": null,
      "outputs": [
        {
          "output_type": "stream",
          "name": "stdout",
          "text": [
            "1\n",
            "2\n",
            "3\n",
            "1\n",
            "2\n",
            "3\n"
          ]
        }
      ]
    },
    {
      "cell_type": "markdown",
      "source": [
        "リストの範囲外にアクセスするとエラーになる"
      ],
      "metadata": {
        "id": "0nmmA1AYE_br"
      }
    },
    {
      "cell_type": "code",
      "source": [
        "mylist = [1,2,3]\n",
        "print(mylist[10])"
      ],
      "metadata": {
        "id": "Gp-YWahWFCnK"
      },
      "execution_count": null,
      "outputs": []
    },
    {
      "cell_type": "code",
      "source": [
        "numbers = []\n",
        "strings = []\n",
        "names = ['John', 'Eric', 'Jessica']\n",
        "\n",
        "numbers.append(1)\n",
        "numbers.append(2)\n",
        "numbers.append(3)\n",
        "\n",
        "strings.append('hello')\n",
        "strings.append('world')\n",
        "\n",
        "second_name = names[1] \n",
        "\n",
        "print(numbers)\n",
        "print(strings)\n",
        "print('The second name on the names list is %s' % second_name)"
      ],
      "metadata": {
        "colab": {
          "base_uri": "https://localhost:8080/"
        },
        "id": "tmWD__b6FQlL",
        "outputId": "350cd413-5876-4567-dad6-c19cb9cc4202"
      },
      "execution_count": null,
      "outputs": [
        {
          "output_type": "stream",
          "name": "stdout",
          "text": [
            "[1, 2, 3]\n",
            "['hello', 'world']\n",
            "The second name on the names list is Eric\n"
          ]
        }
      ]
    },
    {
      "cell_type": "markdown",
      "source": [
        "# 基本演算子"
      ],
      "metadata": {
        "id": "L5cL-smoGiB_"
      }
    },
    {
      "cell_type": "code",
      "source": [
        "number = 1 + 2 * 3 / 4.0\n",
        "print(number)"
      ],
      "metadata": {
        "colab": {
          "base_uri": "https://localhost:8080/"
        },
        "id": "qpg2Ih7vLFb0",
        "outputId": "162fc83b-d1b9-4671-97d7-c9bfba048767"
      },
      "execution_count": null,
      "outputs": [
        {
          "output_type": "stream",
          "name": "stdout",
          "text": [
            "2.5\n"
          ]
        }
      ]
    },
    {
      "cell_type": "code",
      "source": [
        "remainder = 11 % 3\n",
        "print(remainder)"
      ],
      "metadata": {
        "colab": {
          "base_uri": "https://localhost:8080/"
        },
        "id": "mVYvhuv9LTn0",
        "outputId": "989d9874-6a31-4249-87b9-fe8afed58549"
      },
      "execution_count": null,
      "outputs": [
        {
          "output_type": "stream",
          "name": "stdout",
          "text": [
            "2\n"
          ]
        }
      ]
    },
    {
      "cell_type": "markdown",
      "source": [
        "文字列も結合可能"
      ],
      "metadata": {
        "id": "lJD3MZwHLl7R"
      }
    },
    {
      "cell_type": "code",
      "source": [
        "HW = 'hwllo' + ' ' + \"world\"\n",
        "print(HW)"
      ],
      "metadata": {
        "colab": {
          "base_uri": "https://localhost:8080/"
        },
        "id": "XC7AaDE4LpT2",
        "outputId": "8de2fb4b-00ab-4b75-fec0-faacec91e9fd"
      },
      "execution_count": null,
      "outputs": [
        {
          "output_type": "stream",
          "name": "stdout",
          "text": [
            "hwllo world\n"
          ]
        }
      ]
    },
    {
      "cell_type": "markdown",
      "source": [
        "リストも結合可能"
      ],
      "metadata": {
        "id": "2or_ATrQLxVl"
      }
    },
    {
      "cell_type": "code",
      "source": [
        "even_numbers = [2,4,6,8]\n",
        "odd_numbers = [1,3,5,7]\n",
        "all_numbers = odd_numbers + even_numbers\n",
        "print(all_numbers)"
      ],
      "metadata": {
        "colab": {
          "base_uri": "https://localhost:8080/"
        },
        "id": "CcigkvPzLzD1",
        "outputId": "8eb01a6b-ee96-4c2a-9b25-f6ecac4bc7a0"
      },
      "execution_count": null,
      "outputs": [
        {
          "output_type": "stream",
          "name": "stdout",
          "text": [
            "[1, 3, 5, 7, 2, 4, 6, 8]\n"
          ]
        }
      ]
    },
    {
      "cell_type": "markdown",
      "source": [
        "リストを掛けた回数分繰り返す"
      ],
      "metadata": {
        "id": "tHw9qgSfMMZb"
      }
    },
    {
      "cell_type": "code",
      "source": [
        "print([1,2,3] * 3)"
      ],
      "metadata": {
        "colab": {
          "base_uri": "https://localhost:8080/"
        },
        "id": "b5S50u5NMHr1",
        "outputId": "a9191cbd-572a-45f4-f76c-faf5dad3f270"
      },
      "execution_count": null,
      "outputs": [
        {
          "output_type": "stream",
          "name": "stdout",
          "text": [
            "[1, 2, 3, 1, 2, 3, 1, 2, 3]\n"
          ]
        }
      ]
    },
    {
      "cell_type": "code",
      "source": [
        "x = object()\n",
        "y = object()\n",
        "\n",
        "x_list = [x] * 10\n",
        "y_list = [y] * 10\n",
        "big_list = x_list + y_list\n",
        "\n",
        "print('x_list contains %d objects' % len(x_list))\n",
        "print('y_list contains %d objects' % len(y_list))\n",
        "print('big_list contains %d objects' % len(big_list))\n",
        "\n",
        "if x_list.count(x) == 10 and y_list.count(y) == 10:\n",
        "    print('Almost there...')\n",
        "if big_list.count(x) == 10 and big_list.count(y) == 10:\n",
        "    print('Great!')"
      ],
      "metadata": {
        "colab": {
          "base_uri": "https://localhost:8080/"
        },
        "id": "lA3BwuXmMUEA",
        "outputId": "305f22b0-fa7c-4339-ce3f-52f06c1fd690"
      },
      "execution_count": null,
      "outputs": [
        {
          "output_type": "stream",
          "name": "stdout",
          "text": [
            "x_list contains 10 objects\n",
            "y_list contains 10 objects\n",
            "big_list contains 20 objects\n",
            "Almost there...\n",
            "Great!\n"
          ]
        }
      ]
    },
    {
      "cell_type": "markdown",
      "source": [
        "# 文字列の書式設定"
      ],
      "metadata": {
        "id": "gqM4wg6pNoTL"
      }
    },
    {
      "cell_type": "markdown",
      "source": [],
      "metadata": {
        "id": "Cltv3fHRNt68"
      }
    },
    {
      "cell_type": "code",
      "source": [
        "#This prints out 'Hello, John!'\n",
        "name = 'John'\n",
        "print('Hello, %s!' %name)"
      ],
      "metadata": {
        "colab": {
          "base_uri": "https://localhost:8080/"
        },
        "id": "nRffoYHBNzh_",
        "outputId": "d9cdcc7d-4328-4f80-8f6f-b18a6cb85aca"
      },
      "execution_count": null,
      "outputs": [
        {
          "output_type": "stream",
          "name": "stdout",
          "text": [
            "Hello, John!\n"
          ]
        }
      ]
    },
    {
      "cell_type": "markdown",
      "source": [
        "二つ以上の場合"
      ],
      "metadata": {
        "id": "DmzdjrjyOBpV"
      }
    },
    {
      "cell_type": "code",
      "source": [
        "#This prints out 'John is 23 years olt.'\n",
        "name = 'John'\n",
        "age = 23\n",
        "print('%s is %d years old.' % (name, age))"
      ],
      "metadata": {
        "colab": {
          "base_uri": "https://localhost:8080/"
        },
        "id": "QWrs-nfVODp6",
        "outputId": "76d51e15-b43d-42cd-85c6-080f2b81418e"
      },
      "execution_count": null,
      "outputs": [
        {
          "output_type": "stream",
          "name": "stdout",
          "text": [
            "John is 23 years old.\n"
          ]
        }
      ]
    },
    {
      "cell_type": "markdown",
      "source": [
        "文字列以外の変数も%s演算子を使用すると文字列になる"
      ],
      "metadata": {
        "id": "X6tpx6tUOZrK"
      }
    },
    {
      "cell_type": "code",
      "source": [
        "#This prints out: A list: [1,2,3]\n",
        "mylist = [1,2,3]\n",
        "print('A list: %s' % mylist)"
      ],
      "metadata": {
        "colab": {
          "base_uri": "https://localhost:8080/"
        },
        "id": "d9G936ncOg0h",
        "outputId": "8ea00d82-08b0-4d67-e9e9-383ffc7c741c"
      },
      "execution_count": null,
      "outputs": [
        {
          "output_type": "stream",
          "name": "stdout",
          "text": [
            "A list: [1, 2, 3]\n"
          ]
        }
      ]
    },
    {
      "cell_type": "markdown",
      "source": [
        "%s -String (or any object with a string representation, like numers)"
      ],
      "metadata": {
        "id": "m2gbmqeLOvPQ"
      }
    },
    {
      "cell_type": "markdown",
      "source": [
        "%d -Integers"
      ],
      "metadata": {
        "id": "Jqzi9oLdO2SG"
      }
    },
    {
      "cell_type": "markdown",
      "source": [
        "%f -Froating point numbers"
      ],
      "metadata": {
        "id": "_4a_cFIuO43H"
      }
    },
    {
      "cell_type": "markdown",
      "source": [
        "%.<number of digits>f - Floating point numers with a fixed amount of digits to the right of the dot."
      ],
      "metadata": {
        "id": "r2t4HFecO9At"
      }
    },
    {
      "cell_type": "markdown",
      "source": [
        "%x - Integers in hex representation (lowercase/uppercase)"
      ],
      "metadata": {
        "id": "QlIx8myRPIcM"
      }
    },
    {
      "cell_type": "code",
      "source": [
        "data = ('John', 'Doe', 53.44)\n",
        "format_string = 'hello %s %s. Your current balance is $%s.'\n",
        "\n",
        "print(format_string % data)"
      ],
      "metadata": {
        "colab": {
          "base_uri": "https://localhost:8080/"
        },
        "id": "7iR4F7NpPRGS",
        "outputId": "e3ad1812-bf10-4849-cf3e-364e1bce314b"
      },
      "execution_count": null,
      "outputs": [
        {
          "output_type": "stream",
          "name": "stdout",
          "text": [
            "hello John Doe. Your current balance is $53.44.\n"
          ]
        }
      ]
    },
    {
      "cell_type": "markdown",
      "source": [
        "# 基本的な文字列操作"
      ],
      "metadata": {
        "id": "N5G2lx9KPw-6"
      }
    },
    {
      "cell_type": "markdown",
      "source": [
        "Hello World! は12文字のため、12が出力される"
      ],
      "metadata": {
        "id": "7KBmV1D6QY88"
      }
    },
    {
      "cell_type": "code",
      "source": [
        "astring = 'Hello World!'\n",
        "print(\"single quotes are ' '\")\n",
        "\n",
        "print(len(astring))"
      ],
      "metadata": {
        "colab": {
          "base_uri": "https://localhost:8080/"
        },
        "id": "BLb68zJXP7Bv",
        "outputId": "b0633d2a-1930-4adb-c956-072b91e35f6f"
      },
      "execution_count": null,
      "outputs": [
        {
          "output_type": "stream",
          "name": "stdout",
          "text": [
            "single quotes are ' '\n",
            "12\n"
          ]
        }
      ]
    },
    {
      "cell_type": "markdown",
      "source": [
        "「o」の最初の出現位置を出力する\n",
        "oは二回使用されているが、最初に使用されたもののみ認識する"
      ],
      "metadata": {
        "id": "rs6QNFyTQrpP"
      }
    },
    {
      "cell_type": "code",
      "source": [
        "astring = 'Hello World!'\n",
        "print(astring.index(\"o\"))"
      ],
      "metadata": {
        "colab": {
          "base_uri": "https://localhost:8080/"
        },
        "id": "Z1lSVT44Qfk5",
        "outputId": "eb31ac88-0915-4022-a13c-1f3a460337b9"
      },
      "execution_count": null,
      "outputs": [
        {
          "output_type": "stream",
          "name": "stdout",
          "text": [
            "4\n"
          ]
        }
      ]
    },
    {
      "cell_type": "markdown",
      "source": [
        "二つの数値を指定すると指定した範囲の間の文字列を抜き出して出力する"
      ],
      "metadata": {
        "id": "OO8qLTv-RaL9"
      }
    },
    {
      "cell_type": "code",
      "source": [
        "astring = 'Hello World!'\n",
        "print(astring[3:7])"
      ],
      "metadata": {
        "colab": {
          "base_uri": "https://localhost:8080/"
        },
        "id": "tUYY-iC7RJFh",
        "outputId": "6dcb55e9-edf1-4402-d303-67f97222d761"
      },
      "execution_count": null,
      "outputs": [
        {
          "output_type": "stream",
          "name": "stdout",
          "text": [
            "lo W\n"
          ]
        }
      ]
    },
    {
      "cell_type": "markdown",
      "source": [
        "1文字をスキップして3から7までの文字列の文字を出力する"
      ],
      "metadata": {
        "id": "-kpku8frSD5d"
      }
    },
    {
      "cell_type": "code",
      "source": [
        "astring = \"Hello world!\"\n",
        "print(astring[3:7:2])"
      ],
      "metadata": {
        "colab": {
          "base_uri": "https://localhost:8080/"
        },
        "id": "1INCTCrHRgVF",
        "outputId": "2ebd4cd7-5b36-4317-d851-5fe7eb5432c8"
      },
      "execution_count": null,
      "outputs": [
        {
          "output_type": "stream",
          "name": "stdout",
          "text": [
            "l \n"
          ]
        }
      ]
    },
    {
      "cell_type": "markdown",
      "source": [
        "-3のように負の値を指定すると「最後から数えて３番目」という形で指定できる"
      ],
      "metadata": {
        "id": "yImfsQaqRwBy"
      }
    },
    {
      "cell_type": "markdown",
      "source": [
        "文字列の順序を逆にする"
      ],
      "metadata": {
        "id": "MUJ2J3sOSmnU"
      }
    },
    {
      "cell_type": "code",
      "source": [
        "astring = \"Hello world!\"\n",
        "print(astring[::-1])"
      ],
      "metadata": {
        "colab": {
          "base_uri": "https://localhost:8080/"
        },
        "id": "7rN-dSbzSgeb",
        "outputId": "47357ced-a5ba-4194-d838-d212f9ed5c0e"
      },
      "execution_count": null,
      "outputs": [
        {
          "output_type": "stream",
          "name": "stdout",
          "text": [
            "!dlrow olleH\n"
          ]
        }
      ]
    },
    {
      "cell_type": "markdown",
      "source": [
        "大文字に変換、小文字に変換"
      ],
      "metadata": {
        "id": "jMDzsL3sSq8Q"
      }
    },
    {
      "cell_type": "code",
      "source": [
        "astring = \"Hello world!\"\n",
        "print(astring.upper())\n",
        "print(astring.lower())"
      ],
      "metadata": {
        "colab": {
          "base_uri": "https://localhost:8080/"
        },
        "id": "XqsOPtNoSkj4",
        "outputId": "12a79541-d40b-4d65-c0fa-8ca35a621fb3"
      },
      "execution_count": null,
      "outputs": [
        {
          "output_type": "stream",
          "name": "stdout",
          "text": [
            "HELLO WORLD!\n",
            "hello world!\n"
          ]
        }
      ]
    },
    {
      "cell_type": "markdown",
      "source": [
        "文字列が何で始まり何で終了するかを判断する\n",
        "最初の文字列はHelloで始まるためTrueを出力する\n",
        "\n",
        "二番目の文字列はasdfasdfasdfで終了していないため、Falseを出力する"
      ],
      "metadata": {
        "id": "djXUaxOrTa9N"
      }
    },
    {
      "cell_type": "code",
      "source": [
        "astring = 'Hello world!'\n",
        "print(astring.startswith('Hello'))\n",
        "print(astring.endswith('asdfasdfasdf'))"
      ],
      "metadata": {
        "colab": {
          "base_uri": "https://localhost:8080/"
        },
        "id": "MsX7jvuATszZ",
        "outputId": "c0b25d94-30c3-45a9-fd20-59bb012cc801"
      },
      "execution_count": null,
      "outputs": [
        {
          "output_type": "stream",
          "name": "stdout",
          "text": [
            "True\n",
            "False\n"
          ]
        }
      ]
    },
    {
      "cell_type": "markdown",
      "source": [
        "文字列の分割\n",
        "スペースで分割するよう指定しているため、リストの最初の項目がHello、2番目の項目がworld!になる"
      ],
      "metadata": {
        "id": "V6XUnqlGUH5U"
      }
    },
    {
      "cell_type": "code",
      "source": [
        "astring = 'Hello world!'\n",
        "afewwords = astring.split(' ')"
      ],
      "metadata": {
        "id": "lWoCWfd1UJfJ"
      },
      "execution_count": null,
      "outputs": []
    },
    {
      "cell_type": "code",
      "source": [
        "s = 'Strings are awesome!'\n",
        "#Length should be 20\n",
        "print('Length of s = %d' % len(s))\n",
        "\n",
        "#First occurrence of 'a' should be at index 8\n",
        "print('The first occurrence of the letter a = %d' % s.index('a'))\n",
        "\n",
        "#Number of a should be 2\n",
        "print('a occurs %d times' % s.count('a'))\n",
        "\n",
        "#Slicing the string into bits\n",
        "print(\"The first five characters are '%s'\" % s[:5]) # Start to 5\n",
        "print(\"The next fice characters are  '%s'\" % s[5:10]) # 5 to 10\n",
        "print(\"The thirteenth character is '%s'\" %s[12]) #Just number 12\n",
        "print(\"The chatacters with odd index are '%s'\" %s[1::2]) #(0-based indexing)\n",
        "print(\"The last five characters are '%s'\" % s[-5:]) # 5th-from-last to end\n",
        "\n",
        "#Convert everything to uppercase \n",
        "print(\"String in uppercase: %s\" % s.upper())\n",
        "\n",
        "#Cibvert everything to lowercase\n",
        "print(\"String in lowercase: %s\" % s.lower())\n",
        "\n",
        "#Check how a string starts\n",
        "if s.startswith(\"Str\"):\n",
        "      print(\"String starts with 'Str' .Good!\")\n",
        "\n",
        "#Check how a string ends\n",
        "if s.endswith(\"ome!\"):\n",
        "      print(\"String neds with 'ome!' .Good!\")\n",
        "\n",
        "#Split the string into three separate strings,\n",
        "# each containing only a word\n",
        "print(\"Split the words of the string: %s\" % s.split(\" \"))"
      ],
      "metadata": {
        "colab": {
          "base_uri": "https://localhost:8080/"
        },
        "id": "lxV5_0kuX1z1",
        "outputId": "d4607a6d-98a3-4f02-d8d0-627b82d6c22f"
      },
      "execution_count": null,
      "outputs": [
        {
          "output_type": "stream",
          "name": "stdout",
          "text": [
            "Length of s = 20\n",
            "The first occurrence of the letter a = 8\n",
            "a occurs 2 times\n",
            "The first five characters are 'Strin'\n",
            "The next fice characters are  'gs ar'\n",
            "The thirteenth character is 'a'\n",
            "The chatacters with odd index are 'tig r wsm!'\n",
            "The last five characters are 'some!'\n",
            "String in uppercase: STRINGS ARE AWESOME!\n",
            "String in lowercase: strings are awesome!\n",
            "String starts with 'Str' .Good!\n",
            "String neds with 'ome!' .Good!\n",
            "Split the words of the string: ['Strings', 'are', 'awesome!']\n"
          ]
        }
      ]
    },
    {
      "cell_type": "markdown",
      "source": [
        "# 条件式"
      ],
      "metadata": {
        "id": "6b6-1Xk7aac9"
      }
    },
    {
      "cell_type": "markdown",
      "source": [
        "イコールは==\n",
        "ノットイコールは!=\n"
      ],
      "metadata": {
        "id": "NNpkbJu6a6Pz"
      }
    },
    {
      "cell_type": "code",
      "source": [
        "x = 2\n",
        "print(x == 2) #prints out True\n",
        "print(x == 3) #prints oput False\n",
        "print(x < 3) #prints out True"
      ],
      "metadata": {
        "colab": {
          "base_uri": "https://localhost:8080/"
        },
        "id": "XKpYvzp7aqFZ",
        "outputId": "76c9c68e-ddf1-4600-fdc3-3415b7ecaf97"
      },
      "execution_count": null,
      "outputs": [
        {
          "output_type": "stream",
          "name": "stdout",
          "text": [
            "True\n",
            "False\n",
            "True\n"
          ]
        }
      ]
    },
    {
      "cell_type": "markdown",
      "source": [
        "プール演算子"
      ],
      "metadata": {
        "id": "OFS2GhGlbFS-"
      }
    },
    {
      "cell_type": "code",
      "source": [
        "name = 'John'\n",
        "age =23\n",
        "if name == 'John' and age == 23:\n",
        "  print('Your name is John, and you are also 23 years old.')\n",
        "\n",
        "if name == 'John' or name == 'Rick':\n",
        "  print('Your name is either John or Rick.')"
      ],
      "metadata": {
        "colab": {
          "base_uri": "https://localhost:8080/"
        },
        "id": "xW9b165CbH8M",
        "outputId": "f9735791-29c5-40f6-e2d5-97e886965198"
      },
      "execution_count": null,
      "outputs": [
        {
          "output_type": "stream",
          "name": "stdout",
          "text": [
            "Your name is John, and you are also 23 years old.\n",
            "Your name is either John or Rick.\n"
          ]
        }
      ]
    },
    {
      "cell_type": "markdown",
      "source": [
        "in演算子を使用して指定されたオブジェクトがリストなどの反復可能なオブジェクトコンテナ内に存在するかどうかを確認することが可能"
      ],
      "metadata": {
        "id": "M1K3GdH4biHL"
      }
    },
    {
      "cell_type": "code",
      "source": [
        "name = 'John'\n",
        "if name in ['John', 'Rick']:\n",
        "    print('Your name is either John or Rick.')"
      ],
      "metadata": {
        "colab": {
          "base_uri": "https://localhost:8080/"
        },
        "id": "D6F7Kyopbhg5",
        "outputId": "d161d9b8-815d-4c00-9b76-3610dce67361"
      },
      "execution_count": null,
      "outputs": [
        {
          "output_type": "stream",
          "name": "stdout",
          "text": [
            "Your name is either John or Rick.\n"
          ]
        }
      ]
    },
    {
      "cell_type": "markdown",
      "source": [
        "Pythonでは角括弧の代わりにインデントを使用してコードブロックを定義する\n",
        "標準のインデントは4スペースだが、一貫性がある限りタブやその他のスペースサイズでも機能する\n"
      ],
      "metadata": {
        "id": "pg-gzna6b6A_"
      }
    },
    {
      "cell_type": "code",
      "source": [
        "statement = False\n",
        "another_statement = True\n",
        "if statement is True:\n",
        "  #do something\n",
        "    pass\n",
        "elif another_statement is True: #else if\n",
        "  #do something else\n",
        "    pass\n",
        "else:\n",
        "    #do another thing\n",
        "    pass"
      ],
      "metadata": {
        "id": "ZQcdYFnncLJ0"
      },
      "execution_count": null,
      "outputs": []
    },
    {
      "cell_type": "code",
      "source": [
        "x = 2\n",
        "if x == 2:\n",
        "    print(\"x equals two!\")\n",
        "else:\n",
        "    print(\"x does not equal to two.\")"
      ],
      "metadata": {
        "colab": {
          "base_uri": "https://localhost:8080/"
        },
        "id": "eiAJcr2Uc0gP",
        "outputId": "391957be-6513-4f5b-a4f6-16f328126611"
      },
      "execution_count": null,
      "outputs": [
        {
          "output_type": "stream",
          "name": "stdout",
          "text": [
            "x equals two!\n"
          ]
        }
      ]
    },
    {
      "cell_type": "markdown",
      "source": [
        "ステートメントは次のいずれかが正しい場合にtrueとして評価される\n",
        "1 Trueブール変数が与えられるか、算術比較などの式を使用して計算される\n",
        "2 空とみなされないオブジェクトが渡される\n",
        "（空とみなされるオブジェクト\n",
        "空の文字列 \"\"\n",
        "空のリスト[]\n",
        "数字ゼロ 0\n",
        "偽のブール変数 偽"
      ],
      "metadata": {
        "id": "fwGPqNB1c7ZT"
      }
    },
    {
      "cell_type": "markdown",
      "source": [
        "is演算子 \n",
        "is演算子は変数の値ではなくインスタンス自体と一致する\n"
      ],
      "metadata": {
        "id": "iYTg7Iv4dcdd"
      }
    },
    {
      "cell_type": "code",
      "source": [
        "x = [1,2,3]\n",
        "y = [1,2,3]\n",
        "print(x == y) #Ptints out True\n",
        "print(x is y) #Prints out False"
      ],
      "metadata": {
        "colab": {
          "base_uri": "https://localhost:8080/"
        },
        "id": "QFkJhjKJdkiI",
        "outputId": "9e6dd80b-6939-4838-f626-c4c71594450c"
      },
      "execution_count": null,
      "outputs": [
        {
          "output_type": "stream",
          "name": "stdout",
          "text": [
            "True\n",
            "False\n"
          ]
        }
      ]
    },
    {
      "cell_type": "markdown",
      "source": [
        "not演算子\n",
        "ブール式の前にnotを使用すると反転する"
      ],
      "metadata": {
        "id": "9b_RMXlzeIgG"
      }
    },
    {
      "cell_type": "code",
      "source": [
        "print(not False) #Prints out True\n",
        "print((not False) == (False)) #Prints out False"
      ],
      "metadata": {
        "colab": {
          "base_uri": "https://localhost:8080/"
        },
        "id": "20smXnRLeJ5M",
        "outputId": "c5b922cc-bea4-45fc-f2d0-888bb56b709c"
      },
      "execution_count": null,
      "outputs": [
        {
          "output_type": "stream",
          "name": "stdout",
          "text": [
            "True\n",
            "False\n"
          ]
        }
      ]
    },
    {
      "cell_type": "code",
      "source": [
        "number = 16\n",
        "second_number = 0\n",
        "first_array = [1,2,3]\n",
        "second_array = [1,2]\n",
        "\n",
        "if number > 15:\n",
        "  print('1')\n",
        "\n",
        "if first_array:\n",
        "  print('2')\n",
        "\n",
        "if len(second_array) == 2:\n",
        "    print(\"3\")\n",
        "\n",
        "if len(first_array) + len(second_array) == 5:\n",
        "    print(\"4\")\n",
        "\n",
        "if first_array and first_array[0] == 1:\n",
        "    print(\"5\")\n",
        "\n",
        "if not second_number:\n",
        "    print(\"6\")"
      ],
      "metadata": {
        "colab": {
          "base_uri": "https://localhost:8080/"
        },
        "id": "W2a6VrD4ebmM",
        "outputId": "bc52090a-ad56-432e-dbdd-d7ea0deb2158"
      },
      "execution_count": null,
      "outputs": [
        {
          "output_type": "stream",
          "name": "stdout",
          "text": [
            "1\n",
            "2\n",
            "3\n",
            "4\n",
            "5\n",
            "6\n"
          ]
        }
      ]
    },
    {
      "cell_type": "markdown",
      "source": [
        "# 繰り返しループ"
      ],
      "metadata": {
        "id": "JXTMIihOh1mX"
      }
    },
    {
      "cell_type": "markdown",
      "source": [
        "for"
      ],
      "metadata": {
        "id": "O8ET-oiOh8Kq"
      }
    },
    {
      "cell_type": "code",
      "source": [
        "primes = [2, 3, 5, 7]\n",
        "for prime in primes:\n",
        "    print(prime)"
      ],
      "metadata": {
        "colab": {
          "base_uri": "https://localhost:8080/"
        },
        "id": "FmXaEk_Zh-MQ",
        "outputId": "660e9b30-56cb-4187-f885-89c844c6290f"
      },
      "execution_count": null,
      "outputs": [
        {
          "output_type": "stream",
          "name": "stdout",
          "text": [
            "2\n",
            "3\n",
            "5\n",
            "7\n"
          ]
        }
      ]
    },
    {
      "cell_type": "markdown",
      "source": [
        "for文はrange関数とxrange関数を使用して一連の数値を反復処理することが可能\n",
        "range関数は指定された範囲の数値を含む新しいリストを返す\n",
        "xrangeは反復子を返すため効率的\n",
        "範囲関数は0から始まる"
      ],
      "metadata": {
        "id": "LAuLDpVXjmLH"
      }
    },
    {
      "cell_type": "code",
      "source": [
        "#Prints out the numbers 0,1,2,3,4\n",
        "for x in range(5):\n",
        "  print(x)\n",
        "\n",
        "#Prints out 3,4,5\n",
        "for x in range(3,6):\n",
        "  print(x)\n",
        "#prints out 3,5,7\n",
        "for x in range(3,8,2):\n",
        "  print(x)"
      ],
      "metadata": {
        "colab": {
          "base_uri": "https://localhost:8080/"
        },
        "id": "uBzDCca0j6Dc",
        "outputId": "e670a597-78d9-423e-e66e-1b5d158973ba"
      },
      "execution_count": null,
      "outputs": [
        {
          "output_type": "stream",
          "name": "stdout",
          "text": [
            "0\n",
            "1\n",
            "2\n",
            "3\n",
            "4\n",
            "3\n",
            "4\n",
            "5\n",
            "3\n",
            "5\n",
            "7\n"
          ]
        }
      ]
    },
    {
      "cell_type": "markdown",
      "source": [
        "while"
      ],
      "metadata": {
        "id": "1w6sS-woj5Tt"
      }
    },
    {
      "cell_type": "code",
      "source": [
        "#Prints out the numbers 0,1,2,3,4\n",
        "#0から5未満になるまで1ずつ足しながら繰り返し\n",
        "count = 0\n",
        "while count < 5:\n",
        "    print(count)\n",
        "    count += 1"
      ],
      "metadata": {
        "colab": {
          "base_uri": "https://localhost:8080/"
        },
        "id": "f_SnSE0Hkl3C",
        "outputId": "3e40b3a5-dc23-4427-ddf3-d0c5ed8163cb"
      },
      "execution_count": null,
      "outputs": [
        {
          "output_type": "stream",
          "name": "stdout",
          "text": [
            "0\n",
            "1\n",
            "2\n",
            "3\n",
            "4\n"
          ]
        }
      ]
    },
    {
      "cell_type": "markdown",
      "source": [
        "中断ステートメントと続行ステートメント"
      ],
      "metadata": {
        "id": "xWD7fkujlJgj"
      }
    },
    {
      "cell_type": "code",
      "source": [
        "#Prints out 0,1,2,3,4\n",
        "\n",
        "count = 0\n",
        "while True:\n",
        "  print(count)\n",
        "  count += 1\n",
        "  if count >= 5:\n",
        "      break #beakは終了\n",
        "#Prints out only odd numbers - 1,3,5,7,9\n",
        "for x in range(10):\n",
        "    #Check if x is even\n",
        "    if x % 2 == 0:\n",
        "        continue #continueは現在のブロックをスキップしてwhileステートメントに戻る\n",
        "    print(x)"
      ],
      "metadata": {
        "colab": {
          "base_uri": "https://localhost:8080/"
        },
        "id": "CFqKWKP4lNbY",
        "outputId": "10e2fc96-b229-4ea7-9fd7-440be8aaac88"
      },
      "execution_count": null,
      "outputs": [
        {
          "output_type": "stream",
          "name": "stdout",
          "text": [
            "0\n",
            "1\n",
            "2\n",
            "3\n",
            "4\n",
            "1\n",
            "3\n",
            "5\n",
            "7\n",
            "9\n"
          ]
        }
      ]
    },
    {
      "cell_type": "markdown",
      "source": [
        "ループにelseを使用する\n",
        "Pythonではループにelseを使用することが可能\n",
        "forまたはwhileのループ条件がfalseだとelseが実行される\n",
        "\n",
        "breakがループ内で実行されるとelseはスキップされる\n",
        "continue文の場合はelseも実行される"
      ],
      "metadata": {
        "id": "BaUOTSKCmBRM"
      }
    },
    {
      "cell_type": "code",
      "source": [
        "#Prints out 0,1,2,3,4 and then it prints 'count value reached 5'\n",
        "\n",
        "count = 0\n",
        "while(count<5):\n",
        "  print(count)\n",
        "  count += 1\n",
        "else:\n",
        "  print('count value reached %d' %(count))\n",
        "\n",
        "  #Prints out 1,2,3,4\n",
        "  for i in range(1,10):\n",
        "    if(i%5==0):\n",
        "      break #breakがあるのでelseは実行されない\n",
        "    print(i)\n",
        "  else:\n",
        "    print('this is not printed because for loop is terminated because of break but not due to fail in condition')\n"
      ],
      "metadata": {
        "colab": {
          "base_uri": "https://localhost:8080/"
        },
        "id": "5tzG17u6mbYc",
        "outputId": "738a0521-e919-4613-90e8-9f8fe21638da"
      },
      "execution_count": null,
      "outputs": [
        {
          "output_type": "stream",
          "name": "stdout",
          "text": [
            "0\n",
            "1\n",
            "2\n",
            "3\n",
            "4\n",
            "count value reached 5\n",
            "1\n",
            "2\n",
            "3\n",
            "4\n"
          ]
        }
      ]
    },
    {
      "cell_type": "code",
      "source": [
        "numbers = [\n",
        "    951, 402, 984, 651, 360, 69, 408, 319, 601, 485, 980, 507, 725, 547, 544,\n",
        "    615, 83, 165, 141, 501, 263, 617, 865, 575, 219, 390, 984, 592, 236, 105, 942, 941,\n",
        "    386, 462, 47, 418, 907, 344, 236, 375, 823, 566, 597, 978, 328, 615, 953, 345,\n",
        "    399, 162, 758, 219, 918, 237, 412, 566, 826, 248, 866, 950, 626, 949, 687, 217,\n",
        "    815, 67, 104, 58, 512, 24, 892, 894, 767, 553, 81, 379, 843, 831, 445, 742, 717,\n",
        "    958, 609, 842, 451, 688, 753, 854, 685, 93, 857, 440, 380, 126, 721, 328, 753, 470,\n",
        "    743, 527\n",
        "]\n",
        "\n",
        "# your code goes here\n",
        "for number in numbers:\n",
        " if number == 237:\n",
        "   break\n",
        " if number % 2 == 1:\n",
        "    continue\n",
        "\n",
        "    print(number)\n"
      ],
      "metadata": {
        "id": "MinyV-NwnT_Y"
      },
      "execution_count": null,
      "outputs": []
    },
    {
      "cell_type": "markdown",
      "source": [
        "# 関数\n"
      ],
      "metadata": {
        "id": "7op7ZgH82nsn"
      }
    },
    {
      "cell_type": "code",
      "source": [],
      "metadata": {
        "id": "EoHwQFlqxgso"
      },
      "execution_count": null,
      "outputs": []
    },
    {
      "cell_type": "markdown",
      "source": [
        "コードを便利にブロックに分割するために使う\n",
        "\n",
        "Pythonの関数は def 使用して定義される\n",
        "def の後にブロックの名前として関数名を記述する\n"
      ],
      "metadata": {
        "id": "2Pt4Kncw2v4-"
      }
    },
    {
      "cell_type": "code",
      "source": [
        "def my_function():\n",
        "    print('Hello from My Function!')"
      ],
      "metadata": {
        "id": "8_Rdx4IH20X-"
      },
      "execution_count": null,
      "outputs": []
    },
    {
      "cell_type": "markdown",
      "source": [
        "引数を受け取る"
      ],
      "metadata": {
        "id": "P9xeIWot3Z7N"
      }
    },
    {
      "cell_type": "code",
      "source": [
        "def my_functino_with_args(username, greeting):\n",
        "    print('Hello, %s , From My Function!, I wish you %s' %(username, greeting))"
      ],
      "metadata": {
        "id": "vEKhnSdJ3brc"
      },
      "execution_count": null,
      "outputs": []
    },
    {
      "cell_type": "markdown",
      "source": [
        "returnを使用して呼び出し元に値を返す"
      ],
      "metadata": {
        "id": "CkQoXmdO4B3y"
      }
    },
    {
      "cell_type": "code",
      "source": [
        "def sum_two_numbers(a, b):\n",
        "  return a + b"
      ],
      "metadata": {
        "id": "UK2JehBL4Bjn"
      },
      "execution_count": null,
      "outputs": []
    },
    {
      "cell_type": "markdown",
      "source": [
        "関数の呼び出し\n",
        "\n",
        "関数の名前の後に()を書き、必要な引数を括弧内に記述する"
      ],
      "metadata": {
        "id": "XvUvb4CX4WfK"
      }
    },
    {
      "cell_type": "code",
      "source": [
        "#Define our 3 functions\n",
        "def my_function():\n",
        "  print('Hello From My Functino!')\n",
        "\n",
        "def my_function_with_args(username, greeting):\n",
        "  print('Hello, %s, From My Function!, I wis you %s' %(username, greeting))\n",
        "\n",
        "def sum_two_numbers(a, b):\n",
        "  return a + b\n",
        "\n",
        "#print(a simple greeting)\n",
        "my_function()\n",
        "\n",
        "#prints - 'Hello, John Doe, From My Funtion!. I wish you a great year!'\n",
        "my_function_with_args('John Doe', 'a great year!')\n",
        "\n",
        "#after this line x will hold the value 3!\n",
        "x = sum_two_numbers(1, 2)"
      ],
      "metadata": {
        "colab": {
          "base_uri": "https://localhost:8080/"
        },
        "id": "GTgQfUlI4i63",
        "outputId": "8d2170e5-3a1e-4b7e-95f1-66cd9a0bcae3"
      },
      "execution_count": null,
      "outputs": [
        {
          "output_type": "stream",
          "name": "stdout",
          "text": [
            "Hello From My Functino!\n",
            "Hello, John Doe, From My Function!, I wis you a great year!\n"
          ]
        }
      ]
    },
    {
      "cell_type": "code",
      "source": [
        "#Modify this function to return a list of strings as defined above\n",
        "def list_benefits():\n",
        "  return 'More organized code','More readable code', 'Easier code reuse' , 'Allowing programmers to share and connect code together'\n",
        "\n",
        "#Modify this function to concatenate to each benefit - ' is a benefit of functions!'\n",
        "\n",
        "def build_sentence(benefit):\n",
        "    return '%s is a benefit of functions!' % benefit\n",
        "\n",
        "def name_the_benefits_of_functinos():\n",
        "  list_of_benefits = list_benefits()\n",
        "  for benefit in list_of_benefits:\n",
        "      print(build_sentence(benefit))\n",
        "\n",
        "  name_the_benefits_of_functions()"
      ],
      "metadata": {
        "id": "_ds2DYzk5l-a"
      },
      "execution_count": null,
      "outputs": []
    },
    {
      "cell_type": "markdown",
      "source": [
        "# クラスとオブジェクト"
      ],
      "metadata": {
        "id": "zONtGjrt7nKT"
      }
    },
    {
      "cell_type": "markdown",
      "source": [
        "オブジェクトは変数と関数を１つのエンティティにカプセル加したもの\n",
        "\n",
        "オブジェクトはクラスから変数と関数を取得する\n",
        "クラスはオブジェクトを作成するためのテンプレート\n",
        "\n"
      ],
      "metadata": {
        "id": "FzdtRzUv7rqp"
      }
    },
    {
      "cell_type": "code",
      "source": [
        "class MyClass:\n",
        "  variable = 'blah'\n",
        "\n",
        "  def function(self):\n",
        "    print('This is a message inside the class.')"
      ],
      "metadata": {
        "id": "0DdY6xCZ7-z1"
      },
      "execution_count": null,
      "outputs": []
    },
    {
      "cell_type": "markdown",
      "source": [
        "↑のクラスをオブジェクトに割り当てるには次のように記述する"
      ],
      "metadata": {
        "id": "DK0eoZFJ8PNd"
      }
    },
    {
      "cell_type": "code",
      "source": [
        "class MyClass:\n",
        "  variable = 'blah'\n",
        "\n",
        "  def function(self):\n",
        "    print('This is a message inside the class.')\n",
        "\n",
        "    myobjectx = MyClass()"
      ],
      "metadata": {
        "id": "80iY6xRn793k"
      },
      "execution_count": null,
      "outputs": []
    },
    {
      "cell_type": "markdown",
      "source": [
        "↑これで変数myobjectxは変数MyClassというクラス内で定義された関数を含むクラスMyClassのオブジェクトを保持する"
      ],
      "metadata": {
        "id": "vxFbiXZh8n65"
      }
    },
    {
      "cell_type": "markdown",
      "source": [
        "新しく作成されたオブジェクトmyobjectx内の変数にアクセスするには次のように記述する"
      ],
      "metadata": {
        "id": "JG7gvouo82ha"
      }
    },
    {
      "cell_type": "code",
      "source": [
        "class MyClass:\n",
        "  variable = 'blah'\n",
        "\n",
        "  def functino(self):\n",
        "    print('This is a message inside the class.')\n",
        "\n",
        "myobjectx = MyClass()\n",
        "\n",
        "myobjectx.variable"
      ],
      "metadata": {
        "colab": {
          "base_uri": "https://localhost:8080/",
          "height": 35
        },
        "id": "VovRIORV8-jP",
        "outputId": "b77d2576-4230-412e-f9cd-9bc42e3d075e"
      },
      "execution_count": null,
      "outputs": [
        {
          "output_type": "execute_result",
          "data": {
            "text/plain": [
              "'blah'"
            ],
            "application/vnd.google.colaboratory.intrinsic+json": {
              "type": "string"
            }
          },
          "metadata": {},
          "execution_count": 79
        }
      ]
    },
    {
      "cell_type": "markdown",
      "source": [
        "同じクラスの複数の異なるオブジェクトを作成できる。ただし、各オブジェクトにはクラスで定義されている変数の独立したコピーが含まれいる"
      ],
      "metadata": {
        "id": "GtqArG_e9YzH"
      }
    },
    {
      "cell_type": "code",
      "source": [
        "class MyClass:\n",
        "  variable = 'blah'\n",
        "\n",
        "  def function(self):\n",
        "    print('This is a message inside the class.')\n",
        "\n",
        "myobjectx = MyClass()\n",
        "myobjecty = MyClass()\n",
        "\n",
        "myobjecty.variable = 'yackity'\n",
        "\n",
        "#Then print out both values\n",
        "print(myobjectx.variable)\n",
        "print(myobjecty.variable)"
      ],
      "metadata": {
        "colab": {
          "base_uri": "https://localhost:8080/"
        },
        "id": "G_iKgwEI9oBu",
        "outputId": "d1442788-bc4f-49bf-ea00-dc6c11e4cda3"
      },
      "execution_count": null,
      "outputs": [
        {
          "output_type": "stream",
          "name": "stdout",
          "text": [
            "blah\n",
            "yackity\n"
          ]
        }
      ]
    },
    {
      "cell_type": "markdown",
      "source": [
        "オブジェクト関数へのアクセス\n"
      ],
      "metadata": {
        "id": "EBcf_FMf-WAt"
      }
    },
    {
      "cell_type": "code",
      "source": [
        "class MyClass:\n",
        "  variable = 'blah'\n",
        "\n",
        "  def function(self):\n",
        "    print('This is a message inside the class.')\n",
        "\n",
        "myobjectx = MyClass()\n",
        "\n",
        "myobjectx.function()"
      ],
      "metadata": {
        "colab": {
          "base_uri": "https://localhost:8080/"
        },
        "id": "C5bHV1hH-am3",
        "outputId": "c82623b9-eb98-45d4-f028-71da37675f02"
      },
      "execution_count": null,
      "outputs": [
        {
          "output_type": "stream",
          "name": "stdout",
          "text": [
            "This is a message inside the class.\n"
          ]
        }
      ]
    },
    {
      "cell_type": "markdown",
      "source": [
        "初期化関数 __init__()はクラスの開始時に呼び出される特別な関数　クラスに値を割り当てるために使用される"
      ],
      "metadata": {
        "id": "OxzBMDPA-xHL"
      }
    },
    {
      "cell_type": "code",
      "source": [
        "class NumberHolder:\n",
        "\n",
        "  def __init__(self, number):\n",
        "    self.number = number"
      ],
      "metadata": {
        "id": "va86KlxT-7pj"
      },
      "execution_count": null,
      "outputs": []
    },
    {
      "cell_type": "markdown",
      "source": [
        "We have a class defined for vehicles. Create two new vehicles calles \n",
        "car1 and car2. Set car1 to be a red convertible worth $60,000 with a name of Fer, and car2 to be a blue van named Jump worth $10,000"
      ],
      "metadata": {
        "id": "UhyYwl6p_mzp"
      }
    },
    {
      "cell_type": "code",
      "source": [
        "# define the Vehicle class\n",
        "class Vehicle:\n",
        "  name = ''\n",
        "  kind = 'car'\n",
        "  color = ''\n",
        "  value = 100.00\n",
        "  def description(self):\n",
        "      desc_str = '%s is a %s %s worth $%.2f.' % (self.name, self.color, self.kind, self.value)\n",
        "      return desc_str\n",
        "\n",
        "# your ccode goes here \n",
        "car1 = Vehicle()\n",
        "car1.name = 'Fer'\n",
        "car1.color = 'red'\n",
        "car1.kind = 'convertible'\n",
        "car1.value = 60000.00\n",
        "\n",
        "car2 = Vehicle()\n",
        "car2.name = 'Jump'"
      ],
      "metadata": {
        "id": "cORnV-l9_Kq_"
      },
      "execution_count": null,
      "outputs": []
    },
    {
      "cell_type": "markdown",
      "source": [
        "# Dictionaries"
      ],
      "metadata": {
        "id": "K-WkwXxSAkYL"
      }
    },
    {
      "cell_type": "markdown",
      "source": [
        "ディクショナリは配列に似たデータ型ですが、インデックスではなくキーと値で機能します。　ディクショナリに格納さｒている各値には、インデックスを使用してアドレス指定する代わりに、任意の型のオブジェクトにアクセスできる"
      ],
      "metadata": {
        "id": "WL58wMBzAnQW"
      }
    },
    {
      "cell_type": "markdown",
      "source": [
        "例　電話帳"
      ],
      "metadata": {
        "id": "BPKAyo1wBFWj"
      }
    },
    {
      "cell_type": "code",
      "source": [
        "phonebook = {}\n",
        "phonebook[\"John\"] = 938477566\n",
        "phonebook[\"Jack\"] = 938377264\n",
        "phonebook[\"Jill\"] = 947662781\n",
        "print(phonebook)"
      ],
      "metadata": {
        "colab": {
          "base_uri": "https://localhost:8080/"
        },
        "id": "aDESQ4XBA_mN",
        "outputId": "4d5d022f-9353-453e-8486-d6ff3128d742"
      },
      "execution_count": null,
      "outputs": [
        {
          "output_type": "stream",
          "name": "stdout",
          "text": [
            "{'John': 938477566, 'Jack': 938377264, 'Jill': 947662781}\n"
          ]
        }
      ]
    },
    {
      "cell_type": "markdown",
      "source": [
        "Dictionariesの反復処理\n",
        "\n",
        "Dictionariesはリストと同様に反復処理が可能\n",
        "ただし、リストとは異なり格納されている値の順序を保持しない。"
      ],
      "metadata": {
        "id": "waW3lY7PCPOw"
      }
    },
    {
      "cell_type": "markdown",
      "source": [
        "Dictionaries can be iterated ober, just like a list, does not keep the order of the values stored in it. To iterate over key value pairs, use the following syntax:"
      ],
      "metadata": {
        "id": "fZglylyRCkcS"
      }
    },
    {
      "cell_type": "code",
      "source": [
        "phonebook = {\"John\" : 938477566,\"Jack\" : 938377264,\"Jill\" : 947662781}\n",
        "for name, number in phonebook.items():\n",
        "    print(\"Phone number of %s is %d\" % (name, number))"
      ],
      "metadata": {
        "colab": {
          "base_uri": "https://localhost:8080/"
        },
        "id": "1lRuc5g1Cf76",
        "outputId": "d21db67d-b0b1-43fa-fecf-5fc1e6e0e939"
      },
      "execution_count": null,
      "outputs": [
        {
          "output_type": "stream",
          "name": "stdout",
          "text": [
            "Phone number of John is 938477566\n",
            "Phone number of Jack is 938377264\n",
            "Phone number of Jill is 947662781\n"
          ]
        }
      ]
    },
    {
      "cell_type": "markdown",
      "source": [
        "値の削除\n",
        "指定したインデックスを削除する"
      ],
      "metadata": {
        "id": "GZNfM0xjC4KE"
      }
    },
    {
      "cell_type": "code",
      "source": [
        "phonebook = {\n",
        "   \"John\" : 938477566,\n",
        "   \"Jack\" : 938377264,\n",
        "   \"Jill\" : 947662781\n",
        "}\n",
        "del phonebook[\"John\"]\n",
        "print(phonebook)"
      ],
      "metadata": {
        "id": "S4EceBueC7K6"
      },
      "execution_count": null,
      "outputs": []
    },
    {
      "cell_type": "markdown",
      "source": [
        "Add 'Jake' to the phonebook with the phone number 938273443, and remoce Jill from the phonebook"
      ],
      "metadata": {
        "id": "jHGABLqADB45"
      }
    },
    {
      "cell_type": "code",
      "source": [
        "phonebook = {\n",
        "    \"John\" : 938477566,\n",
        "    \"Jack\" : 938377264,\n",
        "    \"Jill\" : 947662781\n",
        "}\n",
        "\n",
        "# your code goes here\n",
        "phonebook['Jake'] = 938273443\n",
        "del phonebook['Jill']\n",
        "\n",
        "#testing code\n",
        "if 'Jake' in phonebook:\n",
        "  print('Jake is listed in the phonebook.')\n",
        "\n",
        "if 'Jill' not in phonebook:\n",
        "  print('Jill is not listed in the phonebook.')"
      ],
      "metadata": {
        "colab": {
          "base_uri": "https://localhost:8080/"
        },
        "id": "9sPzs3i-DBqB",
        "outputId": "a1d35c36-67b0-4542-bef7-9501ed47efe7"
      },
      "execution_count": null,
      "outputs": [
        {
          "output_type": "stream",
          "name": "stdout",
          "text": [
            "Jake is listed in the phonebook.\n",
            "Jill is not listed in the phonebook.\n"
          ]
        }
      ]
    },
    {
      "cell_type": "markdown",
      "source": [
        "# モジュールとパッケージ"
      ],
      "metadata": {
        "id": "1289V6igD3IV"
      }
    },
    {
      "cell_type": "markdown",
      "source": [
        "モジュールの記述\n",
        "\n",
        "Pythonのモジュールは、py拡張子を持つ単なるPuthonファイル\n",
        "\n",
        "モジュールの名前はファイル名と同じ\n",
        "\n",
        "Pythonモジュールには一連の関数、クラスまたは変数が定義され実装されている場合がある。"
      ],
      "metadata": {
        "id": "dQ64yjq9D86e"
      }
    },
    {
      "cell_type": "code",
      "source": [
        "# game.py\n",
        "# import the draw module\n",
        "import draw\n",
        "\n",
        "def play_game():\n",
        "  ...\n",
        "def main():\n",
        "  result = play_game()\n",
        "  draw.draw_game(result)\n",
        "\n",
        "#this means that if this script is executed, then\n",
        "# main() will be executed\n",
        "\n",
        "if __name__ == '__main__':\n",
        "  main()\n",
        "\n",
        "# draw.oy()\n",
        "def draw_game():\n",
        "  ...\n",
        "\n",
        "def clear_screen(screen):\n",
        "  ..."
      ],
      "metadata": {
        "colab": {
          "base_uri": "https://localhost:8080/",
          "height": 378
        },
        "id": "pD9sJB-HETm8",
        "outputId": "53f04e96-6192-4100-9f9c-33a606e34b4c"
      },
      "execution_count": null,
      "outputs": [
        {
          "output_type": "error",
          "ename": "ModuleNotFoundError",
          "evalue": "ignored",
          "traceback": [
            "\u001b[0;31m---------------------------------------------------------------------------\u001b[0m",
            "\u001b[0;31mModuleNotFoundError\u001b[0m                       Traceback (most recent call last)",
            "\u001b[0;32m<ipython-input-87-f37dd5d197eb>\u001b[0m in \u001b[0;36m<module>\u001b[0;34m\u001b[0m\n\u001b[1;32m      1\u001b[0m \u001b[0;31m# game.py\u001b[0m\u001b[0;34m\u001b[0m\u001b[0;34m\u001b[0m\u001b[0;34m\u001b[0m\u001b[0m\n\u001b[1;32m      2\u001b[0m \u001b[0;31m# import the draw module\u001b[0m\u001b[0;34m\u001b[0m\u001b[0;34m\u001b[0m\u001b[0;34m\u001b[0m\u001b[0m\n\u001b[0;32m----> 3\u001b[0;31m \u001b[0;32mimport\u001b[0m \u001b[0mdraw\u001b[0m\u001b[0;34m\u001b[0m\u001b[0;34m\u001b[0m\u001b[0m\n\u001b[0m\u001b[1;32m      4\u001b[0m \u001b[0;34m\u001b[0m\u001b[0m\n\u001b[1;32m      5\u001b[0m \u001b[0;32mdef\u001b[0m \u001b[0mplay_game\u001b[0m\u001b[0;34m(\u001b[0m\u001b[0;34m)\u001b[0m\u001b[0;34m:\u001b[0m\u001b[0;34m\u001b[0m\u001b[0;34m\u001b[0m\u001b[0m\n",
            "\u001b[0;31mModuleNotFoundError\u001b[0m: No module named 'draw'",
            "",
            "\u001b[0;31m---------------------------------------------------------------------------\u001b[0;32m\nNOTE: If your import is failing due to a missing package, you can\nmanually install dependencies using either !pip or !apt.\n\nTo view examples of installing some common dependencies, click the\n\"Open Examples\" button below.\n\u001b[0;31m---------------------------------------------------------------------------\u001b[0m\n"
          ],
          "errorDetails": {
            "actions": [
              {
                "action": "open_url",
                "actionText": "Open Examples",
                "url": "/notebooks/snippets/importing_libraries.ipynb"
              }
            ]
          }
        }
      ]
    },
    {
      "cell_type": "markdown",
      "source": [
        "In this example, the game module imports the draw module, which enables it to use functions implemented in that module. The main function uses the local function play_game to run the game, and then draws the result of the game using a function implemented in the draw module called draw_game. To use the function draw_game from the draw module, we need to specify in which module the function is implemented using the dot operator, To reference the draw_game draw.draw_game().\n",
        "\n",
        "When the import draw directive runs, the Python interpreter looks for a file in the directory in which the script was executed with the module name and a .py suffix. In this case it will look for draw.py.If it is found, it will be imported. If it's not found, it will continue looking for built-in modules.\n",
        "\n",
        "You may have noticed that when importing a module, a .pyc file is createed. This is a compiled Python file. Python compiles files into Puthon butecode so that it won't have to parse the files each time modules are loaded. If a .pyc file exists, it gets loaded instead of the .py file.This process is transparent to the user."
      ],
      "metadata": {
        "id": "RZhHFOS6FBhf"
      }
    },
    {
      "cell_type": "markdown",
      "source": [
        "**現在の名前空間へのモジュールオブジェクトのインポート**\n",
        "\n",
        "名前空間はすべてのオブジェクトに名前が付けられ、Pythonでアクセスできるシステム\n",
        "\n",
        "コマンドを使用して関数をメインスクリプトの名前空間にインポートする"
      ],
      "metadata": {
        "id": "Po3RULG4GlaP"
      }
    },
    {
      "cell_type": "code",
      "source": [
        "# game.py\n",
        "#import the draw module\n",
        "\n",
        "from draw import draw_game\n",
        "\n",
        "def main():\n",
        "  result = play_game()\n",
        "  draw_game(result)"
      ],
      "metadata": {
        "colab": {
          "base_uri": "https://localhost:8080/",
          "height": 378
        },
        "id": "U95Hm2p5G8y4",
        "outputId": "eeebe2e6-795d-479b-9ba2-226c29b7dccd"
      },
      "execution_count": null,
      "outputs": [
        {
          "output_type": "error",
          "ename": "ModuleNotFoundError",
          "evalue": "ignored",
          "traceback": [
            "\u001b[0;31m---------------------------------------------------------------------------\u001b[0m",
            "\u001b[0;31mModuleNotFoundError\u001b[0m                       Traceback (most recent call last)",
            "\u001b[0;32m<ipython-input-88-17b287a3287e>\u001b[0m in \u001b[0;36m<module>\u001b[0;34m\u001b[0m\n\u001b[1;32m      2\u001b[0m \u001b[0;31m#import the draw module\u001b[0m\u001b[0;34m\u001b[0m\u001b[0;34m\u001b[0m\u001b[0;34m\u001b[0m\u001b[0m\n\u001b[1;32m      3\u001b[0m \u001b[0;34m\u001b[0m\u001b[0m\n\u001b[0;32m----> 4\u001b[0;31m \u001b[0;32mfrom\u001b[0m \u001b[0mdraw\u001b[0m \u001b[0;32mimport\u001b[0m \u001b[0mdraw_game\u001b[0m\u001b[0;34m\u001b[0m\u001b[0;34m\u001b[0m\u001b[0m\n\u001b[0m\u001b[1;32m      5\u001b[0m \u001b[0;34m\u001b[0m\u001b[0m\n\u001b[1;32m      6\u001b[0m \u001b[0;32mdef\u001b[0m \u001b[0mmain\u001b[0m\u001b[0;34m(\u001b[0m\u001b[0;34m)\u001b[0m\u001b[0;34m:\u001b[0m\u001b[0;34m\u001b[0m\u001b[0;34m\u001b[0m\u001b[0m\n",
            "\u001b[0;31mModuleNotFoundError\u001b[0m: No module named 'draw'",
            "",
            "\u001b[0;31m---------------------------------------------------------------------------\u001b[0;32m\nNOTE: If your import is failing due to a missing package, you can\nmanually install dependencies using either !pip or !apt.\n\nTo view examples of installing some common dependencies, click the\n\"Open Examples\" button below.\n\u001b[0;31m---------------------------------------------------------------------------\u001b[0m\n"
          ],
          "errorDetails": {
            "actions": [
              {
                "action": "open_url",
                "actionText": "Open Examples",
                "url": "/notebooks/snippets/importing_libraries.ipynb"
              }
            ]
          }
        }
      ]
    },
    {
      "cell_type": "markdown",
      "source": [
        "you may have noticed in this example, the name of the module does not precede draw_game, because we've specified the module name using the import command,\n",
        "\n",
        "The advantages of this notation is that you don't hace to reference the module over and over, However, a namespace cannot have two objects with the same name, so the import command may replace an existing object in the namespace."
      ],
      "metadata": {
        "id": "11CrMuv2IPSf"
      }
    },
    {
      "cell_type": "markdown",
      "source": [
        "モジュールからのすべてのオブジェクトのインポート\n",
        "\n",
        "import *"
      ],
      "metadata": {
        "id": "Ri5oxWRgI86n"
      }
    },
    {
      "cell_type": "code",
      "source": [
        "#game.py\n",
        "#import the draw module\n",
        "from draw import *\n",
        "\n",
        "def main():\n",
        "  result = play_game()\n",
        "  draw_game(result)"
      ],
      "metadata": {
        "colab": {
          "base_uri": "https://localhost:8080/",
          "height": 378
        },
        "id": "v5LYvmdvJEYw",
        "outputId": "69efcbe9-f441-4393-d1db-26df589822ea"
      },
      "execution_count": null,
      "outputs": [
        {
          "output_type": "error",
          "ename": "ModuleNotFoundError",
          "evalue": "ignored",
          "traceback": [
            "\u001b[0;31m---------------------------------------------------------------------------\u001b[0m",
            "\u001b[0;31mModuleNotFoundError\u001b[0m                       Traceback (most recent call last)",
            "\u001b[0;32m<ipython-input-89-af512be39b2e>\u001b[0m in \u001b[0;36m<module>\u001b[0;34m\u001b[0m\n\u001b[1;32m      1\u001b[0m \u001b[0;31m#game.py\u001b[0m\u001b[0;34m\u001b[0m\u001b[0;34m\u001b[0m\u001b[0;34m\u001b[0m\u001b[0m\n\u001b[1;32m      2\u001b[0m \u001b[0;31m#import the draw module\u001b[0m\u001b[0;34m\u001b[0m\u001b[0;34m\u001b[0m\u001b[0;34m\u001b[0m\u001b[0m\n\u001b[0;32m----> 3\u001b[0;31m \u001b[0;32mfrom\u001b[0m \u001b[0mdraw\u001b[0m \u001b[0;32mimport\u001b[0m \u001b[0;34m*\u001b[0m\u001b[0;34m\u001b[0m\u001b[0;34m\u001b[0m\u001b[0m\n\u001b[0m\u001b[1;32m      4\u001b[0m \u001b[0;34m\u001b[0m\u001b[0m\n\u001b[1;32m      5\u001b[0m \u001b[0;32mdef\u001b[0m \u001b[0mmain\u001b[0m\u001b[0;34m(\u001b[0m\u001b[0;34m)\u001b[0m\u001b[0;34m:\u001b[0m\u001b[0;34m\u001b[0m\u001b[0;34m\u001b[0m\u001b[0m\n",
            "\u001b[0;31mModuleNotFoundError\u001b[0m: No module named 'draw'",
            "",
            "\u001b[0;31m---------------------------------------------------------------------------\u001b[0;32m\nNOTE: If your import is failing due to a missing package, you can\nmanually install dependencies using either !pip or !apt.\n\nTo view examples of installing some common dependencies, click the\n\"Open Examples\" button below.\n\u001b[0;31m---------------------------------------------------------------------------\u001b[0m\n"
          ],
          "errorDetails": {
            "actions": [
              {
                "action": "open_url",
                "actionText": "Open Examples",
                "url": "/notebooks/snippets/importing_libraries.ipynb"
              }
            ]
          }
        }
      ]
    },
    {
      "cell_type": "markdown",
      "source": [
        "This might be a bit risky as changes in the module may affect the module which imports it, but it is shorter, and doesn't require you to specify every object you want to import from the module."
      ],
      "metadata": {
        "id": "Jk0CGcCRJQR6"
      }
    },
    {
      "cell_type": "markdown",
      "source": [
        "Custom import name\n",
        "\n",
        "モジュールは任意の名前でよみこむことが可能\n"
      ],
      "metadata": {
        "id": "ZcSpQEbkJhTA"
      }
    },
    {
      "cell_type": "code",
      "source": [
        "#game.py\n",
        "#import the draw module\n",
        "if visual_mode:\n",
        "  # in cisual mode, we draw using graphics\n",
        "  import draw_visual as draw\n",
        "else:\n",
        "  #in textual mode, we print out text\n",
        "  import draw_textual as draw\n",
        "\n",
        "def main():\n",
        "  result = play_game()\n",
        "  #this can either be visual or textual depending on visual_mode\n",
        "  draw.draw_gane(result)"
      ],
      "metadata": {
        "id": "nFIbRidmJsR6"
      },
      "execution_count": null,
      "outputs": []
    },
    {
      "cell_type": "markdown",
      "source": [
        "モジュールの初期化\n",
        "\n",
        "実行中のPythonスクリプトにモジュールが初めて読み込まれるとき、モジュール内のコードを1回実行することで初期化される。\n",
        "コード内のモジュールが同じモジュールを再度インポートした場合、そのモジュールはリロードされない\n",
        "\n"
      ],
      "metadata": {
        "id": "tmo3tMJhKNiC"
      }
    },
    {
      "cell_type": "code",
      "source": [
        "# draw.py\n",
        "\n",
        "def draw_game():\n",
        "  # when clearing the screen we can use the main screen object initialozed in this module\n",
        "\n",
        "  clear_screen(main_screen)\n",
        "  ...\n",
        "\n",
        "def clear_screen(screen):\n",
        "  ...\n",
        "class Screen():\n",
        "  ...\n",
        "\n",
        "# initialize main_screen as a singleton\n",
        "main_screen = Screen()"
      ],
      "metadata": {
        "id": "qWMQO0K8Kmay"
      },
      "execution_count": null,
      "outputs": []
    },
    {
      "cell_type": "markdown",
      "source": [
        "モジュールのロードパスの拡張\n",
        "\n",
        "Pythonインタプリタにモジュールを探す場所を指示する方法\n",
        "\n",
        "次のようなモジュールを探すための追加ディレクトリを指定可能"
      ],
      "metadata": {
        "id": "9yaKMRquKl8z"
      }
    },
    {
      "cell_type": "code",
      "source": [
        "PYTHONPATH=/foo python game.py"
      ],
      "metadata": {
        "id": "LdHE5NzbLRoH"
      },
      "execution_count": null,
      "outputs": []
    },
    {
      "cell_type": "markdown",
      "source": [
        "This executes game.py and enables the sctipt to loat modules from the foo directory, as well as the local directory,\n",
        "\n",
        "You may also use the sys.path.append function. Execute it before running the import command:"
      ],
      "metadata": {
        "id": "6zz2CYbwLWNh"
      }
    },
    {
      "cell_type": "markdown",
      "source": [
        "**組み込みモジュールの探索**"
      ],
      "metadata": {
        "id": "76SHNuL4MDrO"
      }
    },
    {
      "cell_type": "code",
      "source": [
        "#import the library\n",
        "import urllib\n",
        "\n",
        "# use it \n",
        "urllib.urlopen(...)"
      ],
      "metadata": {
        "id": "EUbogoflMN41"
      },
      "execution_count": null,
      "outputs": []
    },
    {
      "cell_type": "markdown",
      "source": [
        "**パッケージの作成**\n",
        "\n",
        "使用方法"
      ],
      "metadata": {
        "id": "C07L80b0McIr"
      }
    },
    {
      "cell_type": "code",
      "source": [
        "import foo.bar"
      ],
      "metadata": {
        "id": "HUWovGjXMprJ"
      },
      "execution_count": null,
      "outputs": []
    },
    {
      "cell_type": "markdown",
      "source": [
        "In the tirst example aboce, we have to uew the foo prefix whenever we access the module var. In the second example, we don't because we've imported the module to our module`s namespace.\n",
        "\n",
        "The __init__.py file can also decide which modules the package exports as the API, while keeping other modules internal, by overriding the __all__ variable like so:"
      ],
      "metadata": {
        "id": "fpoQl8WnMy0K"
      }
    },
    {
      "cell_type": "code",
      "source": [
        "__init__.py:\n",
        "\n",
        "  __all__ = ['var']"
      ],
      "metadata": {
        "id": "-aa7sVJpO9Pe"
      },
      "execution_count": null,
      "outputs": []
    },
    {
      "cell_type": "code",
      "source": [
        "import re\n",
        "\n",
        "# Your code goes here \n",
        "find_membeas = []\n",
        "for member in dir(re):\n",
        "  if 'find' i member:\n",
        "      fint_members.append(member)\n",
        "\n",
        "print(sorted(find_members))"
      ],
      "metadata": {
        "colab": {
          "base_uri": "https://localhost:8080/",
          "height": 135
        },
        "id": "OJvjmkVcPD2c",
        "outputId": "b0692632-fd22-45fe-c491-3aeca22fff96"
      },
      "execution_count": null,
      "outputs": [
        {
          "output_type": "error",
          "ename": "SyntaxError",
          "evalue": "ignored",
          "traceback": [
            "\u001b[0;36m  File \u001b[0;32m\"<ipython-input-90-035757fefda0>\"\u001b[0;36m, line \u001b[0;32m6\u001b[0m\n\u001b[0;31m    if 'find' i member:\u001b[0m\n\u001b[0m              ^\u001b[0m\n\u001b[0;31mSyntaxError\u001b[0m\u001b[0;31m:\u001b[0m invalid syntax\n"
          ]
        }
      ]
    },
    {
      "cell_type": "markdown",
      "source": [
        "# Numpy配列"
      ],
      "metadata": {
        "id": "WcQINHTxPYOz"
      }
    },
    {
      "cell_type": "markdown",
      "source": [
        "リストの優れた代替手段\n",
        "\n",
        "高速で操作が簡単\n",
        "配列全体で計算を実行することも可能\n",
        "\n",
        "最初に2つのリストを作成し、Numpyパッケージをインポートし、新しく作成したリストからNumpy配列を作成する例"
      ],
      "metadata": {
        "id": "p3jYj4nEPce3"
      }
    },
    {
      "cell_type": "code",
      "source": [
        "# Create 2 new lists height and weight\n",
        "height = [1.87,  1.87, 1.82, 1.91, 1.90, 1.85]\n",
        "weight = [81.65, 97.52, 95.25, 92.98, 86.18, 88.45]\n",
        "\n",
        "# Import the numpy package as np\n",
        "import numpy as np\n",
        "\n",
        "# Create 2 numpy arrays from height and weight\n",
        "np_height = np.array(height)\n",
        "np_weight = np.array(weight)"
      ],
      "metadata": {
        "id": "z177elKYfsS9"
      },
      "execution_count": null,
      "outputs": []
    },
    {
      "cell_type": "markdown",
      "source": [
        "要素単位の計算\n"
      ],
      "metadata": {
        "id": "6r6NqavTf4W9"
      }
    },
    {
      "cell_type": "code",
      "source": [
        "# Calculate BMI\n",
        "bmi = np_weight / np_height ** 2\n",
        "\n",
        "#Print the result\n",
        "print(bmi)"
      ],
      "metadata": {
        "colab": {
          "base_uri": "https://localhost:8080/"
        },
        "id": "vGhvXxR5f_iC",
        "outputId": "5a350edc-dda4-49d5-c339-b4ce097178e5"
      },
      "execution_count": null,
      "outputs": [
        {
          "output_type": "stream",
          "name": "stdout",
          "text": [
            "[23.34925219 27.88755755 28.75558507 25.48723993 23.87257618 25.84368152]\n"
          ]
        }
      ]
    },
    {
      "cell_type": "markdown",
      "source": [
        "サブセット化\n",
        "\n",
        "BMI配列のどの観測値が23を超えているか知りたい場合の例"
      ],
      "metadata": {
        "id": "eHAO4bE9gRbj"
      }
    },
    {
      "cell_type": "code",
      "source": [
        "# For a boolean response\n",
        "bmi > 23\n",
        "\n",
        "# Print only those observations above 23\n",
        "bmi[bmi > 23]"
      ],
      "metadata": {
        "colab": {
          "base_uri": "https://localhost:8080/"
        },
        "id": "pr8vNTyEggtl",
        "outputId": "e74f4967-96c2-4428-b282-28e000e06b82"
      },
      "execution_count": null,
      "outputs": [
        {
          "output_type": "execute_result",
          "data": {
            "text/plain": [
              "array([23.34925219, 27.88755755, 28.75558507, 25.48723993, 23.87257618,\n",
              "       25.84368152])"
            ]
          },
          "metadata": {},
          "execution_count": 93
        }
      ]
    },
    {
      "cell_type": "code",
      "source": [
        "weight_kg = [81.65, 97.52, 95.25, 92.98, 86.18, 88.45]\n",
        "\n",
        "import numpy as np\n",
        "\n",
        "#Create a numpy array np_weight_kg from weight_kg\n",
        "np_weight_kg  = np.array(weight_kg)\n",
        "\n",
        "#Create np_weight_lbs from np_weight_kg\n",
        "np_weight_lbs = np_weight_kg * 2.2\n",
        "\n",
        "#Print out np weight_lbs\n",
        "print(np_weight_lbs)\n",
        "                         "
      ],
      "metadata": {
        "colab": {
          "base_uri": "https://localhost:8080/"
        },
        "id": "7CTSpZwIgwYJ",
        "outputId": "86fa9bda-aacf-48d2-915b-bf7731103b64"
      },
      "execution_count": null,
      "outputs": [
        {
          "output_type": "stream",
          "name": "stdout",
          "text": [
            "[179.63  214.544 209.55  204.556 189.596 194.59 ]\n"
          ]
        }
      ]
    },
    {
      "cell_type": "markdown",
      "source": [
        "# Pandas Basics"
      ],
      "metadata": {
        "id": "e68MFSnfhknU"
      }
    },
    {
      "cell_type": "markdown",
      "source": [
        "Pandasでは1次元はSeries、二次元はDataFrameとなる"
      ],
      "metadata": {
        "id": "wINK7ARxlg3A"
      }
    },
    {
      "cell_type": "markdown",
      "source": [
        "Seriesの作成\n",
        "\n"
      ],
      "metadata": {
        "id": "sy96HIQmls4J"
      }
    },
    {
      "cell_type": "code",
      "source": [
        "#dict\n",
        "dic = {'word' : 470, 'camera' : 78}\n",
        "Series(dic)\n",
        "#zipとdictを合わせてSeriesを生成\n",
        "Series(dict(zip(words, frequency)))"
      ],
      "metadata": {
        "id": "yAj-emXZlxyC"
      },
      "execution_count": null,
      "outputs": []
    },
    {
      "cell_type": "markdown",
      "source": [
        "インデックス参照\n",
        "index名もインデックスの引数として入れることが可能"
      ],
      "metadata": {
        "id": "l4z6LPHPmXyB"
      }
    },
    {
      "cell_type": "code",
      "source": [
        "ser = Series(np.random.randn(5), index = list('ABCDE'))\n",
        "\n",
        "#スライシング\n",
        "ser[1]\n",
        "ser['A']\n",
        "ser[1:3]\n",
        "ser[-1:]\n",
        "ser[:-1]\n",
        "ser[[1,2]]\n",
        "ser[['A','B']]\n",
        "ser > 0\n",
        "ser[ser > 0]\n",
        "\n",
        "#Read, Write両方できるので該当する者のみ右辺値を書き込むことも可能\n",
        "ser[ser > 0] = 0"
      ],
      "metadata": {
        "id": "x_wUTtCymiqJ"
      },
      "execution_count": null,
      "outputs": []
    },
    {
      "cell_type": "markdown",
      "source": [
        "DataFrameの作成"
      ],
      "metadata": {
        "id": "Cx8tP83TnKDC"
      }
    },
    {
      "cell_type": "code",
      "source": [
        "#外側も内側もdictの場合\n",
        "pop = {'Nevada' : {2001 : 2.4, 2002 : 2.9},\n",
        "       'Ohio' : {2000 : 1.5, 2001 : 1.7}}\n",
        "df2 = DataFrame(pop)\n",
        "\n",
        "#外側がdictで内側がseriesの場合\n",
        "dfA = DataFrame({'typeA' : df1['name'], 'typeB' : df2['address']})\n",
        "\n",
        "dfB = DataFrame([df1['name'], df2['address']]).T\n"
      ],
      "metadata": {
        "id": "QahZ44bZnOXK"
      },
      "execution_count": null,
      "outputs": []
    },
    {
      "cell_type": "markdown",
      "source": [
        "Pandasはデータ操作ツール\n",
        "Numpyパッケージ上に構築されている\n",
        "データフレームと呼ばれており、使用すると表形式のデータをオブザベーションの行と変数の列に格納、操作できる\n"
      ],
      "metadata": {
        "id": "Or2Sisechokj"
      }
    },
    {
      "cell_type": "code",
      "source": [
        "dict = {\"country\": [\"Brazil\", \"Russia\", \"India\", \"China\", \"South Africa\"],\n",
        "       \"capital\": [\"Brasilia\", \"Moscow\", \"New Dehli\", \"Beijing\", \"Pretoria\"],\n",
        "       \"area\": [8.516, 17.10, 3.286, 9.597, 1.221],\n",
        "       \"population\": [200.4, 143.5, 1252, 1357, 52.98] }\n",
        "\n",
        "import pandas as pd\n",
        "brics = pd.DataFrame(dict)\n",
        "print(brics)"
      ],
      "metadata": {
        "colab": {
          "base_uri": "https://localhost:8080/"
        },
        "id": "DON1JutaiACR",
        "outputId": "207a9d4c-6fe5-4cb4-b18e-a66f92e5cd4a"
      },
      "execution_count": null,
      "outputs": [
        {
          "output_type": "stream",
          "name": "stdout",
          "text": [
            "        country    capital    area  population\n",
            "0        Brazil   Brasilia   8.516      200.40\n",
            "1        Russia     Moscow  17.100      143.50\n",
            "2         India  New Dehli   3.286     1252.00\n",
            "3         China    Beijing   9.597     1357.00\n",
            "4  South Africa   Pretoria   1.221       52.98\n"
          ]
        }
      ]
    },
    {
      "cell_type": "markdown",
      "source": [
        "インデックスを指定する場合は\n",
        "\n",
        "brics.index = [] の括弧の中に記述する"
      ],
      "metadata": {
        "id": "P-aNejduiYDw"
      }
    },
    {
      "cell_type": "code",
      "source": [
        "#Set the index for brics\n",
        "brics.index = ['BR', \"RU\", \"IN\", \"CH\", \"SA\"]\n",
        "\n",
        "#Print out brics with new index values\n",
        "print(brics)"
      ],
      "metadata": {
        "colab": {
          "base_uri": "https://localhost:8080/"
        },
        "id": "pow-Quz1ig62",
        "outputId": "4ad222b8-9cdd-4b18-8951-9380d97868d0"
      },
      "execution_count": null,
      "outputs": [
        {
          "output_type": "stream",
          "name": "stdout",
          "text": [
            "         country    capital    area  population\n",
            "BR        Brazil   Brasilia   8.516      200.40\n",
            "RU        Russia     Moscow  17.100      143.50\n",
            "IN         India  New Dehli   3.286     1252.00\n",
            "CH         China    Beijing   9.597     1357.00\n",
            "SA  South Africa   Pretoria   1.221       52.98\n"
          ]
        }
      ]
    },
    {
      "cell_type": "markdown",
      "source": [
        "Pandasを使用してcsvファイルをインポートする"
      ],
      "metadata": {
        "id": "ObodAyfEkHX9"
      }
    },
    {
      "cell_type": "code",
      "source": [
        "#Import pandas as pd\n",
        "import pandas as pd\n",
        "#Import the cars.csv data: cars\n",
        "employee = pd.read_csv('employee.csv')\n",
        "\n",
        "#Print out cars\n",
        "print(employee)"
      ],
      "metadata": {
        "colab": {
          "base_uri": "https://localhost:8080/"
        },
        "id": "50Ye_t3PkNjb",
        "outputId": "cc6d3a1c-aac2-4f7f-a1c2-537300f35ddb"
      },
      "execution_count": null,
      "outputs": [
        {
          "output_type": "stream",
          "name": "stdout",
          "text": [
            "   Unnamed: 0  id  name       job\n",
            "0           0   1  John  Engineer\n",
            "1           1   2  Lily     Sales\n"
          ]
        }
      ]
    },
    {
      "cell_type": "markdown",
      "source": [
        "データフレームのインデックス作成\n",
        "\n",
        "角括弧を使用してDataFrameの1つの列を選択する\n",
        "\n",
        "シングルクォーテーションはPandasシリーズを出力しダブルクォーテーションはPandasデータフレームを出力する"
      ],
      "metadata": {
        "id": "Q0eBJaa9kjSs"
      }
    },
    {
      "cell_type": "code",
      "source": [
        "#Import pandas and cars.csv\n",
        "import pandas as pd\n",
        "cars = pd.read_csv('cars.csv', index_col = 0)\n",
        "\n",
        "#Print out country column as Pandas Series\n",
        "print(cars['cars_per_cap'])\n",
        "\n",
        "#Print out country colu,m as Pandas DataFrame\n",
        "print(cars[['cars_per_cap']])\n",
        "\n",
        "#Print out DataFrame with country and drives_right columns\n",
        "print(cars[['cars_per_cap', 'country']])"
      ],
      "metadata": {
        "colab": {
          "base_uri": "https://localhost:8080/",
          "height": 402
        },
        "id": "m9Ngws0gk6Dk",
        "outputId": "0b8056b8-29b3-4bf3-c5b8-e2f142395c31"
      },
      "execution_count": null,
      "outputs": [
        {
          "output_type": "error",
          "ename": "FileNotFoundError",
          "evalue": "ignored",
          "traceback": [
            "\u001b[0;31m---------------------------------------------------------------------------\u001b[0m",
            "\u001b[0;31mFileNotFoundError\u001b[0m                         Traceback (most recent call last)",
            "\u001b[0;32m<ipython-input-98-ed568921821c>\u001b[0m in \u001b[0;36m<module>\u001b[0;34m\u001b[0m\n\u001b[1;32m      1\u001b[0m \u001b[0;31m#Import pandas and cars.csv\u001b[0m\u001b[0;34m\u001b[0m\u001b[0;34m\u001b[0m\u001b[0;34m\u001b[0m\u001b[0m\n\u001b[1;32m      2\u001b[0m \u001b[0;32mimport\u001b[0m \u001b[0mpandas\u001b[0m \u001b[0;32mas\u001b[0m \u001b[0mpd\u001b[0m\u001b[0;34m\u001b[0m\u001b[0;34m\u001b[0m\u001b[0m\n\u001b[0;32m----> 3\u001b[0;31m \u001b[0mcars\u001b[0m \u001b[0;34m=\u001b[0m \u001b[0mpd\u001b[0m\u001b[0;34m.\u001b[0m\u001b[0mread_csv\u001b[0m\u001b[0;34m(\u001b[0m\u001b[0;34m'cars.csv'\u001b[0m\u001b[0;34m,\u001b[0m \u001b[0mindex_col\u001b[0m \u001b[0;34m=\u001b[0m \u001b[0;36m0\u001b[0m\u001b[0;34m)\u001b[0m\u001b[0;34m\u001b[0m\u001b[0;34m\u001b[0m\u001b[0m\n\u001b[0m\u001b[1;32m      4\u001b[0m \u001b[0;34m\u001b[0m\u001b[0m\n\u001b[1;32m      5\u001b[0m \u001b[0;31m#Print out country column as Pandas Series\u001b[0m\u001b[0;34m\u001b[0m\u001b[0;34m\u001b[0m\u001b[0;34m\u001b[0m\u001b[0m\n",
            "\u001b[0;32m/usr/local/lib/python3.8/dist-packages/pandas/util/_decorators.py\u001b[0m in \u001b[0;36mwrapper\u001b[0;34m(*args, **kwargs)\u001b[0m\n\u001b[1;32m    309\u001b[0m                     \u001b[0mstacklevel\u001b[0m\u001b[0;34m=\u001b[0m\u001b[0mstacklevel\u001b[0m\u001b[0;34m,\u001b[0m\u001b[0;34m\u001b[0m\u001b[0;34m\u001b[0m\u001b[0m\n\u001b[1;32m    310\u001b[0m                 )\n\u001b[0;32m--> 311\u001b[0;31m             \u001b[0;32mreturn\u001b[0m \u001b[0mfunc\u001b[0m\u001b[0;34m(\u001b[0m\u001b[0;34m*\u001b[0m\u001b[0margs\u001b[0m\u001b[0;34m,\u001b[0m \u001b[0;34m**\u001b[0m\u001b[0mkwargs\u001b[0m\u001b[0;34m)\u001b[0m\u001b[0;34m\u001b[0m\u001b[0;34m\u001b[0m\u001b[0m\n\u001b[0m\u001b[1;32m    312\u001b[0m \u001b[0;34m\u001b[0m\u001b[0m\n\u001b[1;32m    313\u001b[0m         \u001b[0;32mreturn\u001b[0m \u001b[0mwrapper\u001b[0m\u001b[0;34m\u001b[0m\u001b[0;34m\u001b[0m\u001b[0m\n",
            "\u001b[0;32m/usr/local/lib/python3.8/dist-packages/pandas/io/parsers/readers.py\u001b[0m in \u001b[0;36mread_csv\u001b[0;34m(filepath_or_buffer, sep, delimiter, header, names, index_col, usecols, squeeze, prefix, mangle_dupe_cols, dtype, engine, converters, true_values, false_values, skipinitialspace, skiprows, skipfooter, nrows, na_values, keep_default_na, na_filter, verbose, skip_blank_lines, parse_dates, infer_datetime_format, keep_date_col, date_parser, dayfirst, cache_dates, iterator, chunksize, compression, thousands, decimal, lineterminator, quotechar, quoting, doublequote, escapechar, comment, encoding, encoding_errors, dialect, error_bad_lines, warn_bad_lines, on_bad_lines, delim_whitespace, low_memory, memory_map, float_precision, storage_options)\u001b[0m\n\u001b[1;32m    584\u001b[0m     \u001b[0mkwds\u001b[0m\u001b[0;34m.\u001b[0m\u001b[0mupdate\u001b[0m\u001b[0;34m(\u001b[0m\u001b[0mkwds_defaults\u001b[0m\u001b[0;34m)\u001b[0m\u001b[0;34m\u001b[0m\u001b[0;34m\u001b[0m\u001b[0m\n\u001b[1;32m    585\u001b[0m \u001b[0;34m\u001b[0m\u001b[0m\n\u001b[0;32m--> 586\u001b[0;31m     \u001b[0;32mreturn\u001b[0m \u001b[0m_read\u001b[0m\u001b[0;34m(\u001b[0m\u001b[0mfilepath_or_buffer\u001b[0m\u001b[0;34m,\u001b[0m \u001b[0mkwds\u001b[0m\u001b[0;34m)\u001b[0m\u001b[0;34m\u001b[0m\u001b[0;34m\u001b[0m\u001b[0m\n\u001b[0m\u001b[1;32m    587\u001b[0m \u001b[0;34m\u001b[0m\u001b[0m\n\u001b[1;32m    588\u001b[0m \u001b[0;34m\u001b[0m\u001b[0m\n",
            "\u001b[0;32m/usr/local/lib/python3.8/dist-packages/pandas/io/parsers/readers.py\u001b[0m in \u001b[0;36m_read\u001b[0;34m(filepath_or_buffer, kwds)\u001b[0m\n\u001b[1;32m    480\u001b[0m \u001b[0;34m\u001b[0m\u001b[0m\n\u001b[1;32m    481\u001b[0m     \u001b[0;31m# Create the parser.\u001b[0m\u001b[0;34m\u001b[0m\u001b[0;34m\u001b[0m\u001b[0;34m\u001b[0m\u001b[0m\n\u001b[0;32m--> 482\u001b[0;31m     \u001b[0mparser\u001b[0m \u001b[0;34m=\u001b[0m \u001b[0mTextFileReader\u001b[0m\u001b[0;34m(\u001b[0m\u001b[0mfilepath_or_buffer\u001b[0m\u001b[0;34m,\u001b[0m \u001b[0;34m**\u001b[0m\u001b[0mkwds\u001b[0m\u001b[0;34m)\u001b[0m\u001b[0;34m\u001b[0m\u001b[0;34m\u001b[0m\u001b[0m\n\u001b[0m\u001b[1;32m    483\u001b[0m \u001b[0;34m\u001b[0m\u001b[0m\n\u001b[1;32m    484\u001b[0m     \u001b[0;32mif\u001b[0m \u001b[0mchunksize\u001b[0m \u001b[0;32mor\u001b[0m \u001b[0miterator\u001b[0m\u001b[0;34m:\u001b[0m\u001b[0;34m\u001b[0m\u001b[0;34m\u001b[0m\u001b[0m\n",
            "\u001b[0;32m/usr/local/lib/python3.8/dist-packages/pandas/io/parsers/readers.py\u001b[0m in \u001b[0;36m__init__\u001b[0;34m(self, f, engine, **kwds)\u001b[0m\n\u001b[1;32m    809\u001b[0m             \u001b[0mself\u001b[0m\u001b[0;34m.\u001b[0m\u001b[0moptions\u001b[0m\u001b[0;34m[\u001b[0m\u001b[0;34m\"has_index_names\"\u001b[0m\u001b[0;34m]\u001b[0m \u001b[0;34m=\u001b[0m \u001b[0mkwds\u001b[0m\u001b[0;34m[\u001b[0m\u001b[0;34m\"has_index_names\"\u001b[0m\u001b[0;34m]\u001b[0m\u001b[0;34m\u001b[0m\u001b[0;34m\u001b[0m\u001b[0m\n\u001b[1;32m    810\u001b[0m \u001b[0;34m\u001b[0m\u001b[0m\n\u001b[0;32m--> 811\u001b[0;31m         \u001b[0mself\u001b[0m\u001b[0;34m.\u001b[0m\u001b[0m_engine\u001b[0m \u001b[0;34m=\u001b[0m \u001b[0mself\u001b[0m\u001b[0;34m.\u001b[0m\u001b[0m_make_engine\u001b[0m\u001b[0;34m(\u001b[0m\u001b[0mself\u001b[0m\u001b[0;34m.\u001b[0m\u001b[0mengine\u001b[0m\u001b[0;34m)\u001b[0m\u001b[0;34m\u001b[0m\u001b[0;34m\u001b[0m\u001b[0m\n\u001b[0m\u001b[1;32m    812\u001b[0m \u001b[0;34m\u001b[0m\u001b[0m\n\u001b[1;32m    813\u001b[0m     \u001b[0;32mdef\u001b[0m \u001b[0mclose\u001b[0m\u001b[0;34m(\u001b[0m\u001b[0mself\u001b[0m\u001b[0;34m)\u001b[0m\u001b[0;34m:\u001b[0m\u001b[0;34m\u001b[0m\u001b[0;34m\u001b[0m\u001b[0m\n",
            "\u001b[0;32m/usr/local/lib/python3.8/dist-packages/pandas/io/parsers/readers.py\u001b[0m in \u001b[0;36m_make_engine\u001b[0;34m(self, engine)\u001b[0m\n\u001b[1;32m   1038\u001b[0m             )\n\u001b[1;32m   1039\u001b[0m         \u001b[0;31m# error: Too many arguments for \"ParserBase\"\u001b[0m\u001b[0;34m\u001b[0m\u001b[0;34m\u001b[0m\u001b[0;34m\u001b[0m\u001b[0m\n\u001b[0;32m-> 1040\u001b[0;31m         \u001b[0;32mreturn\u001b[0m \u001b[0mmapping\u001b[0m\u001b[0;34m[\u001b[0m\u001b[0mengine\u001b[0m\u001b[0;34m]\u001b[0m\u001b[0;34m(\u001b[0m\u001b[0mself\u001b[0m\u001b[0;34m.\u001b[0m\u001b[0mf\u001b[0m\u001b[0;34m,\u001b[0m \u001b[0;34m**\u001b[0m\u001b[0mself\u001b[0m\u001b[0;34m.\u001b[0m\u001b[0moptions\u001b[0m\u001b[0;34m)\u001b[0m  \u001b[0;31m# type: ignore[call-arg]\u001b[0m\u001b[0;34m\u001b[0m\u001b[0;34m\u001b[0m\u001b[0m\n\u001b[0m\u001b[1;32m   1041\u001b[0m \u001b[0;34m\u001b[0m\u001b[0m\n\u001b[1;32m   1042\u001b[0m     \u001b[0;32mdef\u001b[0m \u001b[0m_failover_to_python\u001b[0m\u001b[0;34m(\u001b[0m\u001b[0mself\u001b[0m\u001b[0;34m)\u001b[0m\u001b[0;34m:\u001b[0m\u001b[0;34m\u001b[0m\u001b[0;34m\u001b[0m\u001b[0m\n",
            "\u001b[0;32m/usr/local/lib/python3.8/dist-packages/pandas/io/parsers/c_parser_wrapper.py\u001b[0m in \u001b[0;36m__init__\u001b[0;34m(self, src, **kwds)\u001b[0m\n\u001b[1;32m     49\u001b[0m \u001b[0;34m\u001b[0m\u001b[0m\n\u001b[1;32m     50\u001b[0m         \u001b[0;31m# open handles\u001b[0m\u001b[0;34m\u001b[0m\u001b[0;34m\u001b[0m\u001b[0;34m\u001b[0m\u001b[0m\n\u001b[0;32m---> 51\u001b[0;31m         \u001b[0mself\u001b[0m\u001b[0;34m.\u001b[0m\u001b[0m_open_handles\u001b[0m\u001b[0;34m(\u001b[0m\u001b[0msrc\u001b[0m\u001b[0;34m,\u001b[0m \u001b[0mkwds\u001b[0m\u001b[0;34m)\u001b[0m\u001b[0;34m\u001b[0m\u001b[0;34m\u001b[0m\u001b[0m\n\u001b[0m\u001b[1;32m     52\u001b[0m         \u001b[0;32massert\u001b[0m \u001b[0mself\u001b[0m\u001b[0;34m.\u001b[0m\u001b[0mhandles\u001b[0m \u001b[0;32mis\u001b[0m \u001b[0;32mnot\u001b[0m \u001b[0;32mNone\u001b[0m\u001b[0;34m\u001b[0m\u001b[0;34m\u001b[0m\u001b[0m\n\u001b[1;32m     53\u001b[0m \u001b[0;34m\u001b[0m\u001b[0m\n",
            "\u001b[0;32m/usr/local/lib/python3.8/dist-packages/pandas/io/parsers/base_parser.py\u001b[0m in \u001b[0;36m_open_handles\u001b[0;34m(self, src, kwds)\u001b[0m\n\u001b[1;32m    220\u001b[0m         \u001b[0mLet\u001b[0m \u001b[0mthe\u001b[0m \u001b[0mreaders\u001b[0m \u001b[0mopen\u001b[0m \u001b[0mIOHandles\u001b[0m \u001b[0mafter\u001b[0m \u001b[0mthey\u001b[0m \u001b[0mare\u001b[0m \u001b[0mdone\u001b[0m \u001b[0;32mwith\u001b[0m \u001b[0mtheir\u001b[0m \u001b[0mpotential\u001b[0m \u001b[0mraises\u001b[0m\u001b[0;34m.\u001b[0m\u001b[0;34m\u001b[0m\u001b[0;34m\u001b[0m\u001b[0m\n\u001b[1;32m    221\u001b[0m         \"\"\"\n\u001b[0;32m--> 222\u001b[0;31m         self.handles = get_handle(\n\u001b[0m\u001b[1;32m    223\u001b[0m             \u001b[0msrc\u001b[0m\u001b[0;34m,\u001b[0m\u001b[0;34m\u001b[0m\u001b[0;34m\u001b[0m\u001b[0m\n\u001b[1;32m    224\u001b[0m             \u001b[0;34m\"r\"\u001b[0m\u001b[0;34m,\u001b[0m\u001b[0;34m\u001b[0m\u001b[0;34m\u001b[0m\u001b[0m\n",
            "\u001b[0;32m/usr/local/lib/python3.8/dist-packages/pandas/io/common.py\u001b[0m in \u001b[0;36mget_handle\u001b[0;34m(path_or_buf, mode, encoding, compression, memory_map, is_text, errors, storage_options)\u001b[0m\n\u001b[1;32m    700\u001b[0m         \u001b[0;32mif\u001b[0m \u001b[0mioargs\u001b[0m\u001b[0;34m.\u001b[0m\u001b[0mencoding\u001b[0m \u001b[0;32mand\u001b[0m \u001b[0;34m\"b\"\u001b[0m \u001b[0;32mnot\u001b[0m \u001b[0;32min\u001b[0m \u001b[0mioargs\u001b[0m\u001b[0;34m.\u001b[0m\u001b[0mmode\u001b[0m\u001b[0;34m:\u001b[0m\u001b[0;34m\u001b[0m\u001b[0;34m\u001b[0m\u001b[0m\n\u001b[1;32m    701\u001b[0m             \u001b[0;31m# Encoding\u001b[0m\u001b[0;34m\u001b[0m\u001b[0;34m\u001b[0m\u001b[0;34m\u001b[0m\u001b[0m\n\u001b[0;32m--> 702\u001b[0;31m             handle = open(\n\u001b[0m\u001b[1;32m    703\u001b[0m                 \u001b[0mhandle\u001b[0m\u001b[0;34m,\u001b[0m\u001b[0;34m\u001b[0m\u001b[0;34m\u001b[0m\u001b[0m\n\u001b[1;32m    704\u001b[0m                 \u001b[0mioargs\u001b[0m\u001b[0;34m.\u001b[0m\u001b[0mmode\u001b[0m\u001b[0;34m,\u001b[0m\u001b[0;34m\u001b[0m\u001b[0;34m\u001b[0m\u001b[0m\n",
            "\u001b[0;31mFileNotFoundError\u001b[0m: [Errno 2] No such file or directory: 'cars.csv'"
          ]
        }
      ]
    },
    {
      "cell_type": "markdown",
      "source": [
        "角括弧を使用してDataFrameから行にアクセスする例"
      ],
      "metadata": {
        "id": "grYwTv2Ik5lm"
      }
    },
    {
      "cell_type": "code",
      "source": [
        "#Import cars data\n",
        "import pandas as pd\n",
        "cars = pd.read_csv('cars.csv', index_col = 0)\n",
        "\n",
        "#Print out first 4 observations\n",
        "print(cars[0:4])\n",
        "\n",
        "#Print out fifth and sixth observation\n",
        "print(cars[4:6])"
      ],
      "metadata": {
        "colab": {
          "base_uri": "https://localhost:8080/",
          "height": 402
        },
        "id": "GCC6Qeuxlppr",
        "outputId": "97a88ee8-8d23-4937-d1fe-5d1f81327469"
      },
      "execution_count": null,
      "outputs": [
        {
          "output_type": "error",
          "ename": "FileNotFoundError",
          "evalue": "ignored",
          "traceback": [
            "\u001b[0;31m---------------------------------------------------------------------------\u001b[0m",
            "\u001b[0;31mFileNotFoundError\u001b[0m                         Traceback (most recent call last)",
            "\u001b[0;32m<ipython-input-99-df4783ad48b9>\u001b[0m in \u001b[0;36m<module>\u001b[0;34m\u001b[0m\n\u001b[1;32m      1\u001b[0m \u001b[0;31m#Import cars data\u001b[0m\u001b[0;34m\u001b[0m\u001b[0;34m\u001b[0m\u001b[0;34m\u001b[0m\u001b[0m\n\u001b[1;32m      2\u001b[0m \u001b[0;32mimport\u001b[0m \u001b[0mpandas\u001b[0m \u001b[0;32mas\u001b[0m \u001b[0mpd\u001b[0m\u001b[0;34m\u001b[0m\u001b[0;34m\u001b[0m\u001b[0m\n\u001b[0;32m----> 3\u001b[0;31m \u001b[0mcars\u001b[0m \u001b[0;34m=\u001b[0m \u001b[0mpd\u001b[0m\u001b[0;34m.\u001b[0m\u001b[0mread_csv\u001b[0m\u001b[0;34m(\u001b[0m\u001b[0;34m'cars.csv'\u001b[0m\u001b[0;34m,\u001b[0m \u001b[0mindex_col\u001b[0m \u001b[0;34m=\u001b[0m \u001b[0;36m0\u001b[0m\u001b[0;34m)\u001b[0m\u001b[0;34m\u001b[0m\u001b[0;34m\u001b[0m\u001b[0m\n\u001b[0m\u001b[1;32m      4\u001b[0m \u001b[0;34m\u001b[0m\u001b[0m\n\u001b[1;32m      5\u001b[0m \u001b[0;31m#Print out first 4 observations\u001b[0m\u001b[0;34m\u001b[0m\u001b[0;34m\u001b[0m\u001b[0;34m\u001b[0m\u001b[0m\n",
            "\u001b[0;32m/usr/local/lib/python3.8/dist-packages/pandas/util/_decorators.py\u001b[0m in \u001b[0;36mwrapper\u001b[0;34m(*args, **kwargs)\u001b[0m\n\u001b[1;32m    309\u001b[0m                     \u001b[0mstacklevel\u001b[0m\u001b[0;34m=\u001b[0m\u001b[0mstacklevel\u001b[0m\u001b[0;34m,\u001b[0m\u001b[0;34m\u001b[0m\u001b[0;34m\u001b[0m\u001b[0m\n\u001b[1;32m    310\u001b[0m                 )\n\u001b[0;32m--> 311\u001b[0;31m             \u001b[0;32mreturn\u001b[0m \u001b[0mfunc\u001b[0m\u001b[0;34m(\u001b[0m\u001b[0;34m*\u001b[0m\u001b[0margs\u001b[0m\u001b[0;34m,\u001b[0m \u001b[0;34m**\u001b[0m\u001b[0mkwargs\u001b[0m\u001b[0;34m)\u001b[0m\u001b[0;34m\u001b[0m\u001b[0;34m\u001b[0m\u001b[0m\n\u001b[0m\u001b[1;32m    312\u001b[0m \u001b[0;34m\u001b[0m\u001b[0m\n\u001b[1;32m    313\u001b[0m         \u001b[0;32mreturn\u001b[0m \u001b[0mwrapper\u001b[0m\u001b[0;34m\u001b[0m\u001b[0;34m\u001b[0m\u001b[0m\n",
            "\u001b[0;32m/usr/local/lib/python3.8/dist-packages/pandas/io/parsers/readers.py\u001b[0m in \u001b[0;36mread_csv\u001b[0;34m(filepath_or_buffer, sep, delimiter, header, names, index_col, usecols, squeeze, prefix, mangle_dupe_cols, dtype, engine, converters, true_values, false_values, skipinitialspace, skiprows, skipfooter, nrows, na_values, keep_default_na, na_filter, verbose, skip_blank_lines, parse_dates, infer_datetime_format, keep_date_col, date_parser, dayfirst, cache_dates, iterator, chunksize, compression, thousands, decimal, lineterminator, quotechar, quoting, doublequote, escapechar, comment, encoding, encoding_errors, dialect, error_bad_lines, warn_bad_lines, on_bad_lines, delim_whitespace, low_memory, memory_map, float_precision, storage_options)\u001b[0m\n\u001b[1;32m    584\u001b[0m     \u001b[0mkwds\u001b[0m\u001b[0;34m.\u001b[0m\u001b[0mupdate\u001b[0m\u001b[0;34m(\u001b[0m\u001b[0mkwds_defaults\u001b[0m\u001b[0;34m)\u001b[0m\u001b[0;34m\u001b[0m\u001b[0;34m\u001b[0m\u001b[0m\n\u001b[1;32m    585\u001b[0m \u001b[0;34m\u001b[0m\u001b[0m\n\u001b[0;32m--> 586\u001b[0;31m     \u001b[0;32mreturn\u001b[0m \u001b[0m_read\u001b[0m\u001b[0;34m(\u001b[0m\u001b[0mfilepath_or_buffer\u001b[0m\u001b[0;34m,\u001b[0m \u001b[0mkwds\u001b[0m\u001b[0;34m)\u001b[0m\u001b[0;34m\u001b[0m\u001b[0;34m\u001b[0m\u001b[0m\n\u001b[0m\u001b[1;32m    587\u001b[0m \u001b[0;34m\u001b[0m\u001b[0m\n\u001b[1;32m    588\u001b[0m \u001b[0;34m\u001b[0m\u001b[0m\n",
            "\u001b[0;32m/usr/local/lib/python3.8/dist-packages/pandas/io/parsers/readers.py\u001b[0m in \u001b[0;36m_read\u001b[0;34m(filepath_or_buffer, kwds)\u001b[0m\n\u001b[1;32m    480\u001b[0m \u001b[0;34m\u001b[0m\u001b[0m\n\u001b[1;32m    481\u001b[0m     \u001b[0;31m# Create the parser.\u001b[0m\u001b[0;34m\u001b[0m\u001b[0;34m\u001b[0m\u001b[0;34m\u001b[0m\u001b[0m\n\u001b[0;32m--> 482\u001b[0;31m     \u001b[0mparser\u001b[0m \u001b[0;34m=\u001b[0m \u001b[0mTextFileReader\u001b[0m\u001b[0;34m(\u001b[0m\u001b[0mfilepath_or_buffer\u001b[0m\u001b[0;34m,\u001b[0m \u001b[0;34m**\u001b[0m\u001b[0mkwds\u001b[0m\u001b[0;34m)\u001b[0m\u001b[0;34m\u001b[0m\u001b[0;34m\u001b[0m\u001b[0m\n\u001b[0m\u001b[1;32m    483\u001b[0m \u001b[0;34m\u001b[0m\u001b[0m\n\u001b[1;32m    484\u001b[0m     \u001b[0;32mif\u001b[0m \u001b[0mchunksize\u001b[0m \u001b[0;32mor\u001b[0m \u001b[0miterator\u001b[0m\u001b[0;34m:\u001b[0m\u001b[0;34m\u001b[0m\u001b[0;34m\u001b[0m\u001b[0m\n",
            "\u001b[0;32m/usr/local/lib/python3.8/dist-packages/pandas/io/parsers/readers.py\u001b[0m in \u001b[0;36m__init__\u001b[0;34m(self, f, engine, **kwds)\u001b[0m\n\u001b[1;32m    809\u001b[0m             \u001b[0mself\u001b[0m\u001b[0;34m.\u001b[0m\u001b[0moptions\u001b[0m\u001b[0;34m[\u001b[0m\u001b[0;34m\"has_index_names\"\u001b[0m\u001b[0;34m]\u001b[0m \u001b[0;34m=\u001b[0m \u001b[0mkwds\u001b[0m\u001b[0;34m[\u001b[0m\u001b[0;34m\"has_index_names\"\u001b[0m\u001b[0;34m]\u001b[0m\u001b[0;34m\u001b[0m\u001b[0;34m\u001b[0m\u001b[0m\n\u001b[1;32m    810\u001b[0m \u001b[0;34m\u001b[0m\u001b[0m\n\u001b[0;32m--> 811\u001b[0;31m         \u001b[0mself\u001b[0m\u001b[0;34m.\u001b[0m\u001b[0m_engine\u001b[0m \u001b[0;34m=\u001b[0m \u001b[0mself\u001b[0m\u001b[0;34m.\u001b[0m\u001b[0m_make_engine\u001b[0m\u001b[0;34m(\u001b[0m\u001b[0mself\u001b[0m\u001b[0;34m.\u001b[0m\u001b[0mengine\u001b[0m\u001b[0;34m)\u001b[0m\u001b[0;34m\u001b[0m\u001b[0;34m\u001b[0m\u001b[0m\n\u001b[0m\u001b[1;32m    812\u001b[0m \u001b[0;34m\u001b[0m\u001b[0m\n\u001b[1;32m    813\u001b[0m     \u001b[0;32mdef\u001b[0m \u001b[0mclose\u001b[0m\u001b[0;34m(\u001b[0m\u001b[0mself\u001b[0m\u001b[0;34m)\u001b[0m\u001b[0;34m:\u001b[0m\u001b[0;34m\u001b[0m\u001b[0;34m\u001b[0m\u001b[0m\n",
            "\u001b[0;32m/usr/local/lib/python3.8/dist-packages/pandas/io/parsers/readers.py\u001b[0m in \u001b[0;36m_make_engine\u001b[0;34m(self, engine)\u001b[0m\n\u001b[1;32m   1038\u001b[0m             )\n\u001b[1;32m   1039\u001b[0m         \u001b[0;31m# error: Too many arguments for \"ParserBase\"\u001b[0m\u001b[0;34m\u001b[0m\u001b[0;34m\u001b[0m\u001b[0;34m\u001b[0m\u001b[0m\n\u001b[0;32m-> 1040\u001b[0;31m         \u001b[0;32mreturn\u001b[0m \u001b[0mmapping\u001b[0m\u001b[0;34m[\u001b[0m\u001b[0mengine\u001b[0m\u001b[0;34m]\u001b[0m\u001b[0;34m(\u001b[0m\u001b[0mself\u001b[0m\u001b[0;34m.\u001b[0m\u001b[0mf\u001b[0m\u001b[0;34m,\u001b[0m \u001b[0;34m**\u001b[0m\u001b[0mself\u001b[0m\u001b[0;34m.\u001b[0m\u001b[0moptions\u001b[0m\u001b[0;34m)\u001b[0m  \u001b[0;31m# type: ignore[call-arg]\u001b[0m\u001b[0;34m\u001b[0m\u001b[0;34m\u001b[0m\u001b[0m\n\u001b[0m\u001b[1;32m   1041\u001b[0m \u001b[0;34m\u001b[0m\u001b[0m\n\u001b[1;32m   1042\u001b[0m     \u001b[0;32mdef\u001b[0m \u001b[0m_failover_to_python\u001b[0m\u001b[0;34m(\u001b[0m\u001b[0mself\u001b[0m\u001b[0;34m)\u001b[0m\u001b[0;34m:\u001b[0m\u001b[0;34m\u001b[0m\u001b[0;34m\u001b[0m\u001b[0m\n",
            "\u001b[0;32m/usr/local/lib/python3.8/dist-packages/pandas/io/parsers/c_parser_wrapper.py\u001b[0m in \u001b[0;36m__init__\u001b[0;34m(self, src, **kwds)\u001b[0m\n\u001b[1;32m     49\u001b[0m \u001b[0;34m\u001b[0m\u001b[0m\n\u001b[1;32m     50\u001b[0m         \u001b[0;31m# open handles\u001b[0m\u001b[0;34m\u001b[0m\u001b[0;34m\u001b[0m\u001b[0;34m\u001b[0m\u001b[0m\n\u001b[0;32m---> 51\u001b[0;31m         \u001b[0mself\u001b[0m\u001b[0;34m.\u001b[0m\u001b[0m_open_handles\u001b[0m\u001b[0;34m(\u001b[0m\u001b[0msrc\u001b[0m\u001b[0;34m,\u001b[0m \u001b[0mkwds\u001b[0m\u001b[0;34m)\u001b[0m\u001b[0;34m\u001b[0m\u001b[0;34m\u001b[0m\u001b[0m\n\u001b[0m\u001b[1;32m     52\u001b[0m         \u001b[0;32massert\u001b[0m \u001b[0mself\u001b[0m\u001b[0;34m.\u001b[0m\u001b[0mhandles\u001b[0m \u001b[0;32mis\u001b[0m \u001b[0;32mnot\u001b[0m \u001b[0;32mNone\u001b[0m\u001b[0;34m\u001b[0m\u001b[0;34m\u001b[0m\u001b[0m\n\u001b[1;32m     53\u001b[0m \u001b[0;34m\u001b[0m\u001b[0m\n",
            "\u001b[0;32m/usr/local/lib/python3.8/dist-packages/pandas/io/parsers/base_parser.py\u001b[0m in \u001b[0;36m_open_handles\u001b[0;34m(self, src, kwds)\u001b[0m\n\u001b[1;32m    220\u001b[0m         \u001b[0mLet\u001b[0m \u001b[0mthe\u001b[0m \u001b[0mreaders\u001b[0m \u001b[0mopen\u001b[0m \u001b[0mIOHandles\u001b[0m \u001b[0mafter\u001b[0m \u001b[0mthey\u001b[0m \u001b[0mare\u001b[0m \u001b[0mdone\u001b[0m \u001b[0;32mwith\u001b[0m \u001b[0mtheir\u001b[0m \u001b[0mpotential\u001b[0m \u001b[0mraises\u001b[0m\u001b[0;34m.\u001b[0m\u001b[0;34m\u001b[0m\u001b[0;34m\u001b[0m\u001b[0m\n\u001b[1;32m    221\u001b[0m         \"\"\"\n\u001b[0;32m--> 222\u001b[0;31m         self.handles = get_handle(\n\u001b[0m\u001b[1;32m    223\u001b[0m             \u001b[0msrc\u001b[0m\u001b[0;34m,\u001b[0m\u001b[0;34m\u001b[0m\u001b[0;34m\u001b[0m\u001b[0m\n\u001b[1;32m    224\u001b[0m             \u001b[0;34m\"r\"\u001b[0m\u001b[0;34m,\u001b[0m\u001b[0;34m\u001b[0m\u001b[0;34m\u001b[0m\u001b[0m\n",
            "\u001b[0;32m/usr/local/lib/python3.8/dist-packages/pandas/io/common.py\u001b[0m in \u001b[0;36mget_handle\u001b[0;34m(path_or_buf, mode, encoding, compression, memory_map, is_text, errors, storage_options)\u001b[0m\n\u001b[1;32m    700\u001b[0m         \u001b[0;32mif\u001b[0m \u001b[0mioargs\u001b[0m\u001b[0;34m.\u001b[0m\u001b[0mencoding\u001b[0m \u001b[0;32mand\u001b[0m \u001b[0;34m\"b\"\u001b[0m \u001b[0;32mnot\u001b[0m \u001b[0;32min\u001b[0m \u001b[0mioargs\u001b[0m\u001b[0;34m.\u001b[0m\u001b[0mmode\u001b[0m\u001b[0;34m:\u001b[0m\u001b[0;34m\u001b[0m\u001b[0;34m\u001b[0m\u001b[0m\n\u001b[1;32m    701\u001b[0m             \u001b[0;31m# Encoding\u001b[0m\u001b[0;34m\u001b[0m\u001b[0;34m\u001b[0m\u001b[0;34m\u001b[0m\u001b[0m\n\u001b[0;32m--> 702\u001b[0;31m             handle = open(\n\u001b[0m\u001b[1;32m    703\u001b[0m                 \u001b[0mhandle\u001b[0m\u001b[0;34m,\u001b[0m\u001b[0;34m\u001b[0m\u001b[0;34m\u001b[0m\u001b[0m\n\u001b[1;32m    704\u001b[0m                 \u001b[0mioargs\u001b[0m\u001b[0;34m.\u001b[0m\u001b[0mmode\u001b[0m\u001b[0;34m,\u001b[0m\u001b[0;34m\u001b[0m\u001b[0;34m\u001b[0m\u001b[0m\n",
            "\u001b[0;31mFileNotFoundError\u001b[0m: [Errno 2] No such file or directory: 'cars.csv'"
          ]
        }
      ]
    },
    {
      "cell_type": "markdown",
      "source": [
        "You can also use loc and iloc to perform just about any data selection operation, loc us label-based. which means that you have to specify rows and columns based on their row and column labels. iloc is integer index based. so you have to specify rows and columns by their integer index like you did in the previous exercise."
      ],
      "metadata": {
        "id": "WRVsrOajmDH8"
      }
    },
    {
      "cell_type": "code",
      "source": [
        "#Import cars data\n",
        "import pandas as pd\n",
        "cars = pd.read_csv('cars.csv', index_col = 0)\n",
        "\n",
        "#Print out observation for Japan\n",
        "print(cars.iloc[2])\n",
        "\n",
        "#Print out observations for Australoa and Egypt\n",
        "print(cars.loc[['AUS', 'EG']])"
      ],
      "metadata": {
        "id": "K0PNQiqsmDcS"
      },
      "execution_count": null,
      "outputs": []
    },
    {
      "cell_type": "markdown",
      "source": [
        "# polars"
      ],
      "metadata": {
        "id": "DHQ42fiEqu5S"
      }
    },
    {
      "cell_type": "markdown",
      "source": [
        "一次元配列をpl.Series　二次元配列をpl.DataFrameと呼ぶ\n",
        "\n",
        "pandasと違い**pl.DataFrameにはインデックス列が存在しない**\n",
        "\n",
        "polarsでは列名は文字列でなければならない\n",
        "\n",
        "列名の重複は許されない\n",
        "\n",
        "polarsには日付を扱うpl.Dateと日時を扱うpl.Datatimeが存在する\n",
        "\n",
        "型変換メソッドはpolarsでは.cast()"
      ],
      "metadata": {
        "id": "e_nxn9ZBq2GZ"
      }
    },
    {
      "cell_type": "markdown",
      "source": [
        "**エクスプレッション**\n",
        "\n",
        "polarsにはシリーズとデータフレームとは別にエクスプレッションというクラスが存在する\n",
        "\n",
        "一連の命令をオブジェクトとして持つことができるオブジェクトで、データフレームやシリーズの特定のメソッドに与えることで実際にその操作が行われる。"
      ],
      "metadata": {
        "id": "yG1M5RDrrtBh"
      }
    },
    {
      "cell_type": "markdown",
      "source": [
        "**csvファイルの読み書き**\n",
        "\n",
        "pandasと同様にread_csv()関数を使用する\n",
        "\n"
      ],
      "metadata": {
        "id": "EuDfM8NKsHKb"
      }
    },
    {
      "cell_type": "code",
      "source": [
        "df = pl.read_csv(\"./example/data.csv\")"
      ],
      "metadata": {
        "id": "qJ-wxmIpsRIP"
      },
      "execution_count": null,
      "outputs": []
    },
    {
      "cell_type": "markdown",
      "source": [
        "ほかの配列から変換\n",
        "pl.DataFrame()コンストラクタを使用してデータフレームを作成する際にcolumns引数を渡すと列名を設定できる"
      ],
      "metadata": {
        "id": "i62h0U3Ps655"
      }
    },
    {
      "cell_type": "code",
      "source": [
        "rng = np.random.default_rng(0)\n",
        "df = pl.DataFrame(rng.random((8, 4)), columns=\"ABCD\")\n",
        "df\n",
        "# shape: (8, 4)\n",
        "# ┌──────────┬──────────┬──────────┬──────────┐\n",
        "# │ A        ┆ B        ┆ C        ┆ D        │\n",
        "# │ ---      ┆ ---      ┆ ---      ┆ ---      │\n",
        "# │ f64      ┆ f64      ┆ f64      ┆ f64      │\n",
        "# ╞══════════╪══════════╪══════════╪══════════╡\n",
        "# │ 0.636962 ┆ 0.269787 ┆ 0.040974 ┆ 0.016528 │\n",
        "# ├╌╌╌╌╌╌╌╌╌╌┼╌╌╌╌╌╌╌╌╌╌┼╌╌╌╌╌╌╌╌╌╌┼╌╌╌╌╌╌╌╌╌╌┤\n",
        "# │ 0.8132   ┆ 0.912756 ┆ 0.606636 ┆ 0.729497 │\n",
        "# ├╌╌╌╌╌╌╌╌╌╌┼╌╌╌╌╌╌╌╌╌╌┼╌╌╌╌╌╌╌╌╌╌┼╌╌╌╌╌╌╌╌╌╌┤\n",
        "# │ 0.543625 ┆ 0.935072 ┆ 0.815854 ┆ 0.002739 │\n",
        "# ├╌╌╌╌╌╌╌╌╌╌┼╌╌╌╌╌╌╌╌╌╌┼╌╌╌╌╌╌╌╌╌╌┼╌╌╌╌╌╌╌╌╌╌┤\n",
        "# │ 0.857404 ┆ 0.033586 ┆ 0.729655 ┆ 0.175656 │\n",
        "# ├╌╌╌╌╌╌╌╌╌╌┼╌╌╌╌╌╌╌╌╌╌┼╌╌╌╌╌╌╌╌╌╌┼╌╌╌╌╌╌╌╌╌╌┤\n",
        "# │ 0.863179 ┆ 0.541461 ┆ 0.299712 ┆ 0.422687 │\n",
        "# ├╌╌╌╌╌╌╌╌╌╌┼╌╌╌╌╌╌╌╌╌╌┼╌╌╌╌╌╌╌╌╌╌┼╌╌╌╌╌╌╌╌╌╌┤\n",
        "# │ 0.0283   ┆ 0.124283 ┆ 0.670624 ┆ 0.6471   │\n",
        "# ├╌╌╌╌╌╌╌╌╌╌┼╌╌╌╌╌╌╌╌╌╌┼╌╌╌╌╌╌╌╌╌╌┼╌╌╌╌╌╌╌╌╌╌┤\n",
        "# │ 0.615385 ┆ 0.383678 ┆ 0.9972   ┆ 0.980835 │\n",
        "# ├╌╌╌╌╌╌╌╌╌╌┼╌╌╌╌╌╌╌╌╌╌┼╌╌╌╌╌╌╌╌╌╌┼╌╌╌╌╌╌╌╌╌╌┤\n",
        "# │ 0.685542 ┆ 0.650459 ┆ 0.688447 ┆ 0.388921 │\n",
        "# └──────────┴──────────┴──────────┴──────────┘"
      ],
      "metadata": {
        "id": "_8tZ3bRftJHV"
      },
      "execution_count": null,
      "outputs": []
    },
    {
      "cell_type": "markdown",
      "source": [
        "**行の抽出・フィルタリング・条件選択**\n",
        "\n",
        "[]を使用した行と列の連宅\n",
        "\n",
        "df[]の[]に列名を渡すことで列選択になる"
      ],
      "metadata": {
        "id": "Eabhk4IFtaUA"
      }
    },
    {
      "cell_type": "code",
      "source": [
        "df[\"Integer\"]\n",
        "\n",
        "# shape: (4,)\n",
        "# Series: 'Integer' [i64]\n",
        "# [\n",
        "#     1\n",
        "#     2\n",
        "#     3\n",
        "#     4\n",
        "# ]\n",
        "\n",
        "\n",
        "df[[\"Integer\", Float]]\n",
        "\n",
        "# shape: (4, 2)\n",
        "# ┌─────────┬───────┐\n",
        "# │ Integer ┆ Float │\n",
        "# │ ---     ┆ ---   │\n",
        "# │ i64     ┆ f64   │\n",
        "# ╞═════════╪═══════╡\n",
        "# │ 1       ┆ 1.0   │\n",
        "# ├╌╌╌╌╌╌╌╌╌┼╌╌╌╌╌╌╌┤\n",
        "# │ 2       ┆ 2.0   │\n",
        "# ├╌╌╌╌╌╌╌╌╌┼╌╌╌╌╌╌╌┤\n",
        "# │ 3       ┆ 3.0   │\n",
        "# ├╌╌╌╌╌╌╌╌╌┼╌╌╌╌╌╌╌┤\n",
        "# │ 4       ┆ 4.0   │\n",
        "# └─────────┴───────┘"
      ],
      "metadata": {
        "id": "EVsABaTVtp6I"
      },
      "execution_count": null,
      "outputs": []
    },
    {
      "cell_type": "markdown",
      "source": [
        "polarsはpandasと異なりインデックス列が存在しないため、df[]の[]に整数を渡すと行選択と判断される"
      ],
      "metadata": {
        "id": "9EKyoLH-t0zG"
      }
    },
    {
      "cell_type": "code",
      "source": [
        "df[0]\n",
        "# shape: (1, 4)\n",
        "# ┌─────────┬───────┬─────────────────────┬────────┐\n",
        "# │ Integer ┆ Float ┆ Datetime            ┆ String │\n",
        "# │ ---     ┆ ---   ┆ ---                 ┆ ---    │\n",
        "# │ i64     ┆ f64   ┆ datetime[ns]        ┆ str    │\n",
        "# ╞═════════╪═══════╪═════════════════════╪════════╡\n",
        "# │ 1       ┆ 1.0   ┆ 2022-04-01 00:00:00 ┆ test   │\n",
        "# └─────────┴───────┴─────────────────────┴────────┘\n",
        "\n",
        "# 行スライス\n",
        "df[1:3]\n",
        "# shape: (2, 4)\n",
        "# ┌─────────┬───────┬─────────────────────┬────────┐\n",
        "# │ Integer ┆ Float ┆ Datetime            ┆ String │\n",
        "# │ ---     ┆ ---   ┆ ---                 ┆ ---    │\n",
        "# │ i64     ┆ f64   ┆ datetime[ns]        ┆ str    │\n",
        "# ╞═════════╪═══════╪═════════════════════╪════════╡\n",
        "# │ 2       ┆ 2.0   ┆ 2022-04-01 00:00:00 ┆ train  │\n",
        "# ├╌╌╌╌╌╌╌╌╌┼╌╌╌╌╌╌╌┼╌╌╌╌╌╌╌╌╌╌╌╌╌╌╌╌╌╌╌╌╌┼╌╌╌╌╌╌╌╌┤\n",
        "# │ 3       ┆ 3.0   ┆ 2022-04-01 00:00:00 ┆ test   │\n",
        "# └─────────┴───────┴─────────────────────┴────────┘"
      ],
      "metadata": {
        "id": "ijvTW2BwuDD7"
      },
      "execution_count": null,
      "outputs": []
    },
    {
      "cell_type": "markdown",
      "source": [
        "真偽値配列によるフィルタリング\n",
        "\n",
        "pandasと同様にシリーズに比較演算子を使用すると真偽値配列となる\n"
      ],
      "metadata": {
        "id": "70hV8cZIuIYv"
      }
    },
    {
      "cell_type": "code",
      "source": [
        "df[\"Integer\"] > 3\n",
        "# shape: (4,)\n",
        "# Series: 'Integer' [bool]\n",
        "# [\n",
        "#     false\n",
        "#     false\n",
        "#     false\n",
        "#     true\n",
        "# ]"
      ],
      "metadata": {
        "id": "MPohCc2SuTtw"
      },
      "execution_count": null,
      "outputs": []
    },
    {
      "cell_type": "markdown",
      "source": [
        ".filter()メソッドによる行フィルタリング\n",
        "\n",
        ".filter()メソッドではpl.Expr()を渡すことでフィルタリングが可能"
      ],
      "metadata": {
        "id": "3DyGOyu8uXzM"
      }
    },
    {
      "cell_type": "code",
      "source": [
        "rng = np.random.default_rng()\n",
        "df_num = pl.DetaFrame(rng.integers(0, 10, (6, 3)), columns=list(\"ABC\"))\n",
        "\n",
        "df_num\n",
        "# shape: (6, 3)\n",
        "# ┌─────┬─────┬─────┐\n",
        "# │ A   ┆ B   ┆ C   │\n",
        "# │ --- ┆ --- ┆ --- │\n",
        "# │ i64 ┆ i64 ┆ i64 │\n",
        "# ╞═════╪═════╪═════╡\n",
        "# │ 7   ┆ 8   ┆ 4   │\n",
        "# ├╌╌╌╌╌┼╌╌╌╌╌┼╌╌╌╌╌┤\n",
        "# │ 4   ┆ 1   ┆ 3   │\n",
        "# ├╌╌╌╌╌┼╌╌╌╌╌┼╌╌╌╌╌┤\n",
        "# │ 4   ┆ 0   ┆ 1   │\n",
        "# ├╌╌╌╌╌┼╌╌╌╌╌┼╌╌╌╌╌┤\n",
        "# │ 6   ┆ 8   ┆ 4   │\n",
        "# ├╌╌╌╌╌┼╌╌╌╌╌┼╌╌╌╌╌┤\n",
        "# │ 1   ┆ 2   ┆ 5   │\n",
        "# ├╌╌╌╌╌┼╌╌╌╌╌┼╌╌╌╌╌┤\n",
        "# │ 2   ┆ 7   ┆ 7   │\n",
        "# └─────┴─────┴─────┘\n",
        "\n",
        "# pandasと同様の`df[]`の記法\n",
        "df_num[(df_num[\"A\"] < df_num[\"B\"]) & (df_num[\"C\"] < 5)]\n",
        "# shape: (2, 3)\n",
        "# ┌─────┬─────┬─────┐\n",
        "# │ A   ┆ B   ┆ C   │\n",
        "# │ --- ┆ --- ┆ --- │\n",
        "# │ i64 ┆ i64 ┆ i64 │\n",
        "# ╞═════╪═════╪═════╡\n",
        "# │ 7   ┆ 8   ┆ 4   │\n",
        "# ├╌╌╌╌╌┼╌╌╌╌╌┼╌╌╌╌╌┤\n",
        "# │ 6   ┆ 8   ┆ 4   │\n",
        "# └─────┴─────┴─────┘\n",
        "\n",
        "# `.filter()`メソッドの記法\n",
        "df_num.filter((pl.col(\"A\") < pl.col(\"B\")) & (pl.col(\"C\") < 5))\n",
        "# shape: (2, 3)\n",
        "# ┌─────┬─────┬─────┐\n",
        "# │ A   ┆ B   ┆ C   │\n",
        "# │ --- ┆ --- ┆ --- │\n",
        "# │ i64 ┆ i64 ┆ i64 │\n",
        "# ╞═════╪═════╪═════╡\n",
        "# │ 7   ┆ 8   ┆ 4   │\n",
        "# ├╌╌╌╌╌┼╌╌╌╌╌┼╌╌╌╌╌┤\n",
        "# │ 6   ┆ 8   ┆ 4   │\n",
        "# └─────┴─────┴─────┘"
      ],
      "metadata": {
        "id": "IusE3HpVug33"
      },
      "execution_count": null,
      "outputs": []
    },
    {
      "cell_type": "markdown",
      "source": [
        "**リストに含まれるかどうかを判定する**\n",
        "\n",
        "Series.is_in()"
      ],
      "metadata": {
        "id": "wd6hJT5LuxuA"
      }
    },
    {
      "cell_type": "code",
      "source": [
        "df[\"Integer\"].is_in([2, 4, 6])\n",
        "# shape: (4,)\n",
        "# Series: 'Integer' [bool]\n",
        "# [\n",
        "#     false\n",
        "#     true\n",
        "#     false\n",
        "#     true\n",
        "# ]\n",
        "df[df[\"Integer\"].is_in([2, 4, 6])]\n",
        "df.filter(pl.col(\"Integer\").is_in([2, 4, 6]))\n",
        "# shape: (2, 4)\n",
        "# ┌─────────┬───────┬─────────────────────┬────────┐\n",
        "# │ Integer ┆ Float ┆ Datetime            ┆ String │\n",
        "# │ ---     ┆ ---   ┆ ---                 ┆ ---    │\n",
        "# │ i64     ┆ f64   ┆ datetime[ns]        ┆ str    │\n",
        "# ╞═════════╪═══════╪═════════════════════╪════════╡\n",
        "# │ 2       ┆ 2.0   ┆ 2022-04-01 00:00:00 ┆ train  │\n",
        "# ├╌╌╌╌╌╌╌╌╌┼╌╌╌╌╌╌╌┼╌╌╌╌╌╌╌╌╌╌╌╌╌╌╌╌╌╌╌╌╌┼╌╌╌╌╌╌╌╌┤\n",
        "# │ 4       ┆ 4.0   ┆ 2022-04-01 00:00:00 ┆ train  │\n",
        "# └─────────┴───────┴─────────────────────┴────────┘"
      ],
      "metadata": {
        "colab": {
          "base_uri": "https://localhost:8080/",
          "height": 135
        },
        "id": "QLfGVxFzvyRa",
        "outputId": "8d57c91d-43d1-41cd-e4c1-11b69e6017ca"
      },
      "execution_count": null,
      "outputs": [
        {
          "output_type": "error",
          "ename": "SyntaxError",
          "evalue": "ignored",
          "traceback": [
            "\u001b[0;36m  File \u001b[0;32m\"<ipython-input-3-71f11347ebfc>\"\u001b[0;36m, line \u001b[0;32m1\u001b[0m\n\u001b[0;31m    df[]\u001b[0m\n\u001b[0m       ^\u001b[0m\n\u001b[0;31mSyntaxError\u001b[0m\u001b[0;31m:\u001b[0m invalid syntax\n"
          ]
        }
      ]
    },
    {
      "cell_type": "markdown",
      "source": [
        "重複行の削除\n",
        "unique()\n",
        "\n",
        "subset=引数:識別する列を指定する\n",
        "デフォルトではすべての列が一致した場合のみ削除される\n",
        "\n",
        "keep=引数:デフォルトのkeep=\"first\"では重複行のうち、最初に出現した行は残る\n",
        "keep=\"last\"を指定すると重複している中で一番最後の行が残る\n",
        "\n",
        "pandas のようにすべて削除することはできない"
      ],
      "metadata": {
        "id": "oNcZljU3wRvH"
      }
    },
    {
      "cell_type": "code",
      "source": [
        "df_dup = pl.DataFrame(\n",
        "    {\n",
        "          \"a\": [\"one\", \"one\", \"two\", \"two\", \"two\", \"three\", \"four\"],\n",
        "        \"b\": [\"x\", \"y\", \"x\", \"y\", \"x\", \"x\", \"x\"],\n",
        "        \"c\": rng.random(7),\n",
        "    }\n",
        ")\n",
        "\n",
        "df_dup.unique(subset=['a','b'])\n",
        "\n",
        "df_dup.unique(subset=['a'])\n",
        "\n",
        "df_dup.unique(subset=['a'], keep='last')"
      ],
      "metadata": {
        "id": "NODCrBH00XjM"
      },
      "execution_count": null,
      "outputs": []
    },
    {
      "cell_type": "markdown",
      "source": [
        "**列の選択と追加**\n",
        "[]を使った列の選択"
      ],
      "metadata": {
        "id": "v9aEG_sn016o"
      }
    },
    {
      "cell_type": "code",
      "source": [
        "adf[\"Integer\"]\n",
        "\n",
        "df[[\"Integer\", \"Float\"]]"
      ],
      "metadata": {
        "id": "M1wnNDN209Gs"
      },
      "execution_count": null,
      "outputs": []
    },
    {
      "cell_type": "markdown",
      "source": [
        "polarsでは行はint型で指定、列はstr型で指定と限定されている"
      ],
      "metadata": {
        "id": "IjNKpIWG1HBT"
      }
    },
    {
      "cell_type": "markdown",
      "source": [
        "**列の追加**\n",
        "\n",
        ".with_column()"
      ],
      "metadata": {
        "id": "60SVEqKG1cFM"
      }
    },
    {
      "cell_type": "code",
      "source": [
        "new_seires = (df[\"Integer\"] * 2).alias(\"Integer2\")\n",
        "df.with_column(new_serires)\n",
        "\n",
        "#既存の列名と同名の列を追加しようとすると、追加ではなく更新処理になる\n",
        "df.with_column(df[\"Integer\"] * 100)\n"
      ],
      "metadata": {
        "id": "y0Ebnd9h1hPq"
      },
      "execution_count": null,
      "outputs": []
    },
    {
      "cell_type": "markdown",
      "source": [
        ".with_column()ではなく.with_columns()を使用すると一度に複数の列を追加できる"
      ],
      "metadata": {
        "id": "31oA3hT014_Y"
      }
    },
    {
      "cell_type": "code",
      "source": [
        "new_seires1 =  (df[\"Integer\"] * 2).alias(\"Integer2\")\n",
        "new_seires2 = (df[\"Float\"] * 2).alias(\"Float2\")\n",
        "df.with_columns([new_seires1, new_seires2])"
      ],
      "metadata": {
        "id": "_Ip-p5Ci2CaL"
      },
      "execution_count": null,
      "outputs": []
    },
    {
      "cell_type": "markdown",
      "source": [
        "**四則演算**"
      ],
      "metadata": {
        "id": "I9QJFFhn2INl"
      }
    },
    {
      "cell_type": "code",
      "source": [
        "rng =np.random.default_rng(0)\n",
        "df_num = pl.DataFrame(rng.integers(0, 10, (6, 3)), columns=list('ABC'))\n",
        "\n",
        "df_num\n",
        "\n",
        "\n",
        "df_num + 2\n",
        "\n",
        "df_num * 2"
      ],
      "metadata": {
        "id": "sJlcFTX92Kzg"
      },
      "execution_count": null,
      "outputs": []
    },
    {
      "cell_type": "markdown",
      "source": [
        "**比較演算**\n",
        "\n",
        "データフレームに対して比較演算はできないがシリーズに対しては可能"
      ],
      "metadata": {
        "id": "JkO4GxXV2g1D"
      }
    },
    {
      "cell_type": "code",
      "source": [
        "df_num[\"A\"] == 0\n",
        "\n",
        "df_num[\"A\"] > 2\n",
        "\n",
        "#同じ長さのシリーズ同士での比較も可能\n",
        "df_num[\"A\"] > df_num[\"B\"]\n",
        "\n",
        "#等価比較 == は数値以外でも比較可能\n",
        "pl.Series([\"foo\", \"bar\",\"baz\"]) == pl.Series([\"foo\", \"bar\", \"qux\"])"
      ],
      "metadata": {
        "id": "maE_nEwF2l7k"
      },
      "execution_count": null,
      "outputs": []
    },
    {
      "cell_type": "markdown",
      "source": [
        "**集計関数**\n",
        ".sum()や.mean()は列方向に適用可能"
      ],
      "metadata": {
        "id": "NwafHneU4LqR"
      }
    },
    {
      "cell_type": "code",
      "source": [
        "df_num.sum()\n",
        "\n",
        "df_num.mean()\n",
        "\n",
        "df_num.quantile(0,5)"
      ],
      "metadata": {
        "id": "8o_Ix1rO4V9V"
      },
      "execution_count": null,
      "outputs": []
    },
    {
      "cell_type": "markdown",
      "source": [
        "列方向の集約は.fold()という特殊な関数を使用する"
      ],
      "metadata": {
        "id": "dl_-AIfN4dz-"
      }
    },
    {
      "cell_type": "code",
      "source": [
        "df_num.fold(lambda a, b: a+b)"
      ],
      "metadata": {
        "id": "WA_yWUSi4kuE"
      },
      "execution_count": null,
      "outputs": []
    },
    {
      "cell_type": "markdown",
      "source": [
        "**出現回数を集計**\n",
        "\n",
        ",value_counts()"
      ],
      "metadata": {
        "id": "99CEHSrt4x-o"
      }
    },
    {
      "cell_type": "code",
      "source": [
        "df_num[\"A\"].value_counts()"
      ],
      "metadata": {
        "id": "kQHO-35d476d"
      },
      "execution_count": null,
      "outputs": []
    },
    {
      "cell_type": "markdown",
      "source": [
        "**DataFrame.join()による結合**\n",
        "\n",
        "2つのデータフレームを結合する\n",
        "\n",
        "デフォルトでは内部結合となり、2つのデータフレームに共通して存在するキーのみを保持する"
      ],
      "metadata": {
        "id": "eF6XPRs25Wsd"
      }
    },
    {
      "cell_type": "code",
      "source": [
        "left = pl.DataFrame(\n",
        "       {\n",
        "        \"key1\": [\"K0\", \"K0\", \"K1\", \"K2\"],\n",
        "        \"key2\": [\"K0\", \"K1\", \"K0\", \"K1\"],\n",
        "        \"A\": [\"A0\", \"A1\", \"A2\", \"A3\"],\n",
        "        \"B\": [\"B0\", \"B1\", \"B2\", \"B3\"],\n",
        "    }\n",
        ")\n",
        "# shape: (4, 4)\n",
        "# ┌──────┬──────┬─────┬─────┐\n",
        "# │ key1 ┆ key2 ┆ A   ┆ B   │\n",
        "# │ ---  ┆ ---  ┆ --- ┆ --- │\n",
        "# │ str  ┆ str  ┆ str ┆ str │\n",
        "# ╞══════╪══════╪═════╪═════╡\n",
        "# │ K0   ┆ K0   ┆ A0  ┆ B0  │\n",
        "# ├╌╌╌╌╌╌┼╌╌╌╌╌╌┼╌╌╌╌╌┼╌╌╌╌╌┤\n",
        "# │ K0   ┆ K1   ┆ A1  ┆ B1  │\n",
        "# ├╌╌╌╌╌╌┼╌╌╌╌╌╌┼╌╌╌╌╌┼╌╌╌╌╌┤\n",
        "# │ K1   ┆ K0   ┆ A2  ┆ B2  │\n",
        "# ├╌╌╌╌╌╌┼╌╌╌╌╌╌┼╌╌╌╌╌┼╌╌╌╌╌┤\n",
        "# │ K2   ┆ K1   ┆ A3  ┆ B3  │\n",
        "# └──────┴──────┴─────┴─────┘\n",
        "\n",
        "right = pl.DataFrame(\n",
        "    {\n",
        "        \"key1\": [\"K0\", \"K1\", \"K1\", \"K2\"],\n",
        "        \"key2\": [\"K0\", \"K0\", \"K0\", \"K0\"],\n",
        "        \"C\": [\"C0\", \"C1\", \"C2\", \"C3\"],\n",
        "        \"D\": [\"D0\", \"D1\", \"D2\", \"D3\"],\n",
        "    }\n",
        ")\n",
        "# shape: (4, 4)\n",
        "# ┌──────┬──────┬─────┬─────┐\n",
        "# │ key1 ┆ key2 ┆ C   ┆ D   │\n",
        "# │ ---  ┆ ---  ┆ --- ┆ --- │\n",
        "# │ str  ┆ str  ┆ str ┆ str │\n",
        "# ╞══════╪══════╪═════╪═════╡\n",
        "# │ K0   ┆ K0   ┆ C0  ┆ D0  │\n",
        "# ├╌╌╌╌╌╌┼╌╌╌╌╌╌┼╌╌╌╌╌┼╌╌╌╌╌┤\n",
        "# │ K1   ┆ K0   ┆ C1  ┆ D1  │\n",
        "# ├╌╌╌╌╌╌┼╌╌╌╌╌╌┼╌╌╌╌╌┼╌╌╌╌╌┤\n",
        "# │ K1   ┆ K0   ┆ C2  ┆ D2  │\n",
        "# ├╌╌╌╌╌╌┼╌╌╌╌╌╌┼╌╌╌╌╌┼╌╌╌╌╌┤\n",
        "# │ K2   ┆ K0   ┆ C3  ┆ D3  │\n",
        "# └──────┴──────┴─────┴─────┘\n",
        "\n",
        "left.join(right, on=[\"key1\", \"key2\"])\n",
        "# shape: (3, 6)\n",
        "# ┌──────┬──────┬─────┬─────┬─────┬─────┐\n",
        "# │ key1 ┆ key2 ┆ A   ┆ B   ┆ C   ┆ D   │\n",
        "# │ ---  ┆ ---  ┆ --- ┆ --- ┆ --- ┆ --- │\n",
        "# │ str  ┆ str  ┆ str ┆ str ┆ str ┆ str │\n",
        "# ╞══════╪══════╪═════╪═════╪═════╪═════╡\n",
        "# │ K0   ┆ K0   ┆ A0  ┆ B0  ┆ C0  ┆ D0  │\n",
        "# ├╌╌╌╌╌╌┼╌╌╌╌╌╌┼╌╌╌╌╌┼╌╌╌╌╌┼╌╌╌╌╌┼╌╌╌╌╌┤\n",
        "# │ K1   ┆ K0   ┆ A2  ┆ B2  ┆ C1  ┆ D1  │\n",
        "# ├╌╌╌╌╌╌┼╌╌╌╌╌╌┼╌╌╌╌╌┼╌╌╌╌╌┼╌╌╌╌╌┼╌╌╌╌╌┤\n",
        "# │ K1   ┆ K0   ┆ A2  ┆ B2  ┆ C2  ┆ D2  │\n",
        "# └──────┴──────┴─────┴─────┴─────┴─────┘"
      ],
      "metadata": {
        "id": "Sgix1SoU5mRa"
      },
      "execution_count": null,
      "outputs": []
    },
    {
      "cell_type": "markdown",
      "source": [
        "GrupBy\n",
        "\n",
        "グループごとに関数を適用する場合に使用する\n",
        "pandasと同様に列名または列名のリストをキーとして渡す可能\n",
        "\n",
        "結果のデータフレームは並び順はランダム"
      ],
      "metadata": {
        "id": "YwtNqaGL5yyS"
      }
    },
    {
      "cell_type": "code",
      "source": [
        "rng = np.random.default_rng(0)\n",
        "df = pl.DataFrame(\n",
        "    {\n",
        "        \"A\": [\"foo\", \"bar\", \"foo\", \"bar\", \"foo\", \"bar\", \"foo\", \"foo\"],\n",
        "        \"B\": [\"one\", \"one\", \"two\", \"three\", \"two\", \"two\", \"one\", \"three\"],\n",
        "        \"C\": rng.random(8),\n",
        "        \"D\": rng.random(8),\n",
        "    }\n",
        ")\n",
        "\n",
        "# shape: (8, 4)\n",
        "# ┌─────┬───────┬──────────┬──────────┐\n",
        "# │ A   ┆ B     ┆ C        ┆ D        │\n",
        "# │ --- ┆ ---   ┆ ---      ┆ ---      │\n",
        "# │ str ┆ str   ┆ f64      ┆ f64      │\n",
        "# ╞═════╪═══════╪══════════╪══════════╡\n",
        "# │ foo ┆ one   ┆ 0.636962 ┆ 0.543625 │\n",
        "# ├╌╌╌╌╌┼╌╌╌╌╌╌╌┼╌╌╌╌╌╌╌╌╌╌┼╌╌╌╌╌╌╌╌╌╌┤\n",
        "# │ bar ┆ one   ┆ 0.269787 ┆ 0.935072 │\n",
        "# ├╌╌╌╌╌┼╌╌╌╌╌╌╌┼╌╌╌╌╌╌╌╌╌╌┼╌╌╌╌╌╌╌╌╌╌┤\n",
        "# │ foo ┆ two   ┆ 0.040974 ┆ 0.815854 │\n",
        "# ├╌╌╌╌╌┼╌╌╌╌╌╌╌┼╌╌╌╌╌╌╌╌╌╌┼╌╌╌╌╌╌╌╌╌╌┤\n",
        "# │ bar ┆ three ┆ 0.016528 ┆ 0.002739 │\n",
        "# ├╌╌╌╌╌┼╌╌╌╌╌╌╌┼╌╌╌╌╌╌╌╌╌╌┼╌╌╌╌╌╌╌╌╌╌┤\n",
        "# │ foo ┆ two   ┆ 0.8132   ┆ 0.857404 │\n",
        "# ├╌╌╌╌╌┼╌╌╌╌╌╌╌┼╌╌╌╌╌╌╌╌╌╌┼╌╌╌╌╌╌╌╌╌╌┤\n",
        "# │ bar ┆ two   ┆ 0.912756 ┆ 0.033586 │\n",
        "# ├╌╌╌╌╌┼╌╌╌╌╌╌╌┼╌╌╌╌╌╌╌╌╌╌┼╌╌╌╌╌╌╌╌╌╌┤\n",
        "# │ foo ┆ one   ┆ 0.606636 ┆ 0.729655 │\n",
        "# ├╌╌╌╌╌┼╌╌╌╌╌╌╌┼╌╌╌╌╌╌╌╌╌╌┼╌╌╌╌╌╌╌╌╌╌┤\n",
        "# │ foo ┆ three ┆ 0.729497 ┆ 0.175656 │\n",
        "# └─────┴───────┴──────────┴──────────┘\n",
        "\n",
        "df.groupby([\"A\", \"B\"]).sum()\n",
        "# shape: (6, 4)\n",
        "# ┌─────┬───────┬──────────┬──────────┐\n",
        "# │ A   ┆ B     ┆ C_sum    ┆ D_sum    │\n",
        "# │ --- ┆ ---   ┆ ---      ┆ ---      │\n",
        "# │ str ┆ str   ┆ f64      ┆ f64      │\n",
        "# ╞═════╪═══════╪══════════╪══════════╡\n",
        "# │ foo ┆ two   ┆ 0.854244 ┆ 1.673258 │\n",
        "# ├╌╌╌╌╌┼╌╌╌╌╌╌╌┼╌╌╌╌╌╌╌╌╌╌┼╌╌╌╌╌╌╌╌╌╌┤\n",
        "# │ bar ┆ one   ┆ 0.269787 ┆ 0.935072 │\n",
        "# ├╌╌╌╌╌┼╌╌╌╌╌╌╌┼╌╌╌╌╌╌╌╌╌╌┼╌╌╌╌╌╌╌╌╌╌┤\n",
        "# │ bar ┆ three ┆ 0.016528 ┆ 0.002739 │\n",
        "# ├╌╌╌╌╌┼╌╌╌╌╌╌╌┼╌╌╌╌╌╌╌╌╌╌┼╌╌╌╌╌╌╌╌╌╌┤\n",
        "# │ bar ┆ two   ┆ 0.912756 ┆ 0.033586 │\n",
        "# ├╌╌╌╌╌┼╌╌╌╌╌╌╌┼╌╌╌╌╌╌╌╌╌╌┼╌╌╌╌╌╌╌╌╌╌┤\n",
        "# │ foo ┆ one   ┆ 1.243597 ┆ 1.2732   │\n",
        "# ├╌╌╌╌╌┼╌╌╌╌╌╌╌┼╌╌╌╌╌╌╌╌╌╌┼╌╌╌╌╌╌╌╌╌╌┤\n",
        "# │ foo ┆ three ┆ 0.729497 ┆ 0.175656 │\n",
        "# └─────┴───────┴──────────┴──────────┘"
      ],
      "metadata": {
        "id": "asXsaKY06DJf"
      },
      "execution_count": null,
      "outputs": []
    },
    {
      "cell_type": "markdown",
      "source": [
        "**テキストデータを扱う**　\n"
      ],
      "metadata": {
        "id": "qZThOAM26iUv"
      }
    },
    {
      "cell_type": "code",
      "source": [
        "df_str = pl.DataFrame(\n",
        "   {\"orig\": [\"A\", \"B\", \"Aaba\", \"Baca\", None, \"CABA\", \"dog\", \"cat\"]}\n",
        ")\n",
        "\n",
        "df_str.with_columns([\n",
        "    # シリーズの操作\n",
        "    df_str[\"orig\"].str.lengths().alias(\"len\"),\n",
        "    df_str[\"orig\"].str.to_lowercase().alias(\"lower\"),\n",
        "    # エクスプレッションの操作\n",
        "    pl.col(\"orig\").str.to_uppercase().alias(\"upper\"),\n",
        "    pl.col(\"orig\").str.slice(1, 3).alias(\"slice\"),\n",
        "])"
      ],
      "metadata": {
        "id": "dV4atzMZ6k6L"
      },
      "execution_count": null,
      "outputs": []
    },
    {
      "cell_type": "markdown",
      "source": [
        "加算演算子で文字列を結合"
      ],
      "metadata": {
        "id": "Mg3FvYQU6she"
      }
    },
    {
      "cell_type": "code",
      "source": [
        "df_str[\"orig\"] + \"_\" + df_str[\"orig\"]\n",
        "# shape: (8,)\n",
        "# Series: 'orig' [str]\n",
        "# [\n",
        "#     \"A_A\"\n",
        "#     \"B_B\"\n",
        "#     \"Aaba_Aaba\"\n",
        "#     \"Baca_Baca\"\n",
        "#     null\n",
        "#     \"CABA_CABA\"\n",
        "#     \"dog_dog\"\n",
        "#     \"cat_cat\"\n",
        "# ]"
      ],
      "metadata": {
        "id": "QW2-r0oZ6vqE"
      },
      "execution_count": null,
      "outputs": []
    },
    {
      "cell_type": "markdown",
      "source": [
        "**正規表現検索で一致部分を抽出**\n",
        "\n",
        ".str.extract()メソッドは、キャプチャグループを含む正規表現を渡すと、マッチした部分を返す\n",
        "\n",
        "デフォルトでは最初のマッチグループを返す\n",
        "\n",
        "$2が欲しい場合はgroup_index = 2"
      ],
      "metadata": {
        "id": "4jPbbxAw6yAX"
      }
    },
    {
      "cell_type": "markdown",
      "source": [
        "# Generators"
      ],
      "metadata": {
        "id": "HvYLZCZPnZSv"
      }
    },
    {
      "cell_type": "markdown",
      "source": [
        "反復可能な項目のセットを一度に１つずつ特別な方法で返す関数\n",
        "\n",
        "一連の項目に対する反復処理がforステートメントの使用を開始するとジェネレータが実行される\n",
        "ジェネレータの関数コードがyieldステートメントに到達するとジェネレータはその実行をforループに戻しセットから新しい値を返す。\n",
        "\n",
        "ジェネレータ関数は必要な数だけ値を作成しそれぞれを順番に生成できる\n",
        "\n",
        "7つのランダムな整数を返すジェネレータ関数の簡単な例"
      ],
      "metadata": {
        "id": "6i6LFAcHndOD"
      }
    },
    {
      "cell_type": "code",
      "source": [
        "import random\n",
        "def lottery():\n",
        "\n",
        "  #returns 6 numbers between 1 and 40\n",
        "  for i in range(6):\n",
        "      yield random.randint(1, 40)\n",
        "\n",
        "  # returns a 7th number between 1 and 15\n",
        "  yield random.randint(1,15)\n",
        "for random_number in lottery():\n",
        "  print('And the next number is... %d!' %(random_number))"
      ],
      "metadata": {
        "colab": {
          "base_uri": "https://localhost:8080/"
        },
        "id": "pcXTgkvxotAj",
        "outputId": "ad9c30f9-e592-414d-d858-3dbe20f6960f"
      },
      "execution_count": null,
      "outputs": [
        {
          "output_type": "stream",
          "name": "stdout",
          "text": [
            "And the next number is... 32!\n",
            "And the next number is... 26!\n",
            "And the next number is... 11!\n",
            "And the next number is... 5!\n",
            "And the next number is... 36!\n",
            "And the next number is... 23!\n",
            "And the next number is... 6!\n"
          ]
        }
      ]
    },
    {
      "cell_type": "markdown",
      "source": [
        "フィボナッチ数列を返す"
      ],
      "metadata": {
        "id": "vIU4bX44pX7-"
      }
    },
    {
      "cell_type": "code",
      "source": [
        "a = 1\n",
        "b = 2\n",
        "a, b = b, a\n",
        "print(a, b)"
      ],
      "metadata": {
        "colab": {
          "base_uri": "https://localhost:8080/"
        },
        "id": "DHgBse7ZpdeH",
        "outputId": "421e1340-8660-4d7f-abab-340a4a3d7385"
      },
      "execution_count": null,
      "outputs": [
        {
          "output_type": "stream",
          "name": "stdout",
          "text": [
            "2 1\n"
          ]
        }
      ]
    },
    {
      "cell_type": "markdown",
      "source": [
        "aとbの値を同時に切り替える"
      ],
      "metadata": {
        "id": "-b4bPo31sRO1"
      }
    },
    {
      "cell_type": "code",
      "source": [
        "#fill in this function\n",
        "def fib():\n",
        "  a, b = 1, 1\n",
        "  while 1:\n",
        "    yield a\n",
        "    a, b = b, a + b\n",
        "  pass #this is a null statement which does nothing when executed, useful as a placeholder.\n",
        "\n",
        "  #testing code\n",
        "import types\n",
        "if type(fib()) == types.GeneratorType:\n",
        "  print('Good, The fib function is a generator.')\n",
        "\n",
        "  counter = 0\n",
        "  for n in fib():\n",
        "    print(n)\n",
        "    counter += 1\n",
        "    if counter == 10:\n",
        "      break\n"
      ],
      "metadata": {
        "colab": {
          "base_uri": "https://localhost:8080/"
        },
        "id": "j6HNorSmpwny",
        "outputId": "b1c7d5e4-553a-46ff-c383-1847af45e2df"
      },
      "execution_count": null,
      "outputs": [
        {
          "output_type": "stream",
          "name": "stdout",
          "text": [
            "Good, The fib function is a generator.\n",
            "1\n",
            "1\n",
            "2\n",
            "3\n",
            "5\n",
            "8\n",
            "13\n",
            "21\n",
            "34\n",
            "55\n"
          ]
        }
      ]
    },
    {
      "cell_type": "markdown",
      "source": [
        "# List Comprehensions"
      ],
      "metadata": {
        "id": "csWjl9Drt93K"
      }
    },
    {
      "cell_type": "markdown",
      "source": [
        "リスト内包表記\n",
        "別のリストに基づいて新しいリストを1行の読みやすい行で作成する"
      ],
      "metadata": {
        "id": "qgPOOQ0ZuBeX"
      }
    },
    {
      "cell_type": "code",
      "source": [
        "sentence = 'the quick brown fox jumps over the lazy dog'\n",
        "words = sentence.split()\n",
        "word_lengths = []\n",
        "for word in words:\n",
        "  if word != 'the':\n",
        "    word_lengths.append(len(word))\n",
        "print(words)\n",
        "print(word_lengths)"
      ],
      "metadata": {
        "colab": {
          "base_uri": "https://localhost:8080/"
        },
        "id": "cYlZeWCvuOBo",
        "outputId": "7dbf715c-97c3-4b05-d09b-c9e9efb9f3ab"
      },
      "execution_count": null,
      "outputs": [
        {
          "output_type": "stream",
          "name": "stdout",
          "text": [
            "['the', 'quick', 'brown', 'fox', 'jumps', 'over', 'the', 'lazy', 'dog']\n",
            "[5, 5, 3, 5, 4, 4, 3]\n"
          ]
        }
      ]
    },
    {
      "cell_type": "markdown",
      "source": [
        "リスト内包表記を使用すると↑を次のコードのように簡略化できる"
      ],
      "metadata": {
        "id": "0qY-dKLsuqJ5"
      }
    },
    {
      "cell_type": "code",
      "source": [
        "sentence = 'the quick brown for jumps over the lazy dog'\n",
        "words = sentence.split()\n",
        "word_lengths = [len(word) for word in words if word != 'the']\n",
        "print(words)\n",
        "print(word_lengths)"
      ],
      "metadata": {
        "colab": {
          "base_uri": "https://localhost:8080/"
        },
        "id": "30U_Ai0QuzHx",
        "outputId": "86270800-12fa-471e-b8ca-894141021ee9"
      },
      "execution_count": null,
      "outputs": [
        {
          "output_type": "stream",
          "name": "stdout",
          "text": [
            "['the', 'quick', 'brown', 'for', 'jumps', 'over', 'the', 'lazy', 'dog']\n",
            "[5, 5, 3, 5, 4, 4, 3]\n"
          ]
        }
      ]
    },
    {
      "cell_type": "markdown",
      "source": [
        "Using a list omprehension create a new list called 'newlist' out of the list 'numbers'.which contains only the positive numbers from the list, as integers,"
      ],
      "metadata": {
        "id": "RBgDvsRsuyoK"
      }
    },
    {
      "cell_type": "code",
      "source": [
        "numbers = [34.6, -203.4, 44.9, 68.3, -12.2, 44.6, 12.7]\n",
        "newlist = [int(x) for x in numbers if x > 0]\n",
        "print(newlist)"
      ],
      "metadata": {
        "colab": {
          "base_uri": "https://localhost:8080/"
        },
        "id": "qoLJVDm4vKEr",
        "outputId": "686569eb-d682-445b-bf00-0b340d3c0ad3"
      },
      "execution_count": null,
      "outputs": [
        {
          "output_type": "stream",
          "name": "stdout",
          "text": [
            "[34, 44, 68, 44, 12]\n"
          ]
        }
      ]
    },
    {
      "cell_type": "markdown",
      "source": [
        "# ラムダ関数"
      ],
      "metadata": {
        "id": "T7iHyrkmw94I"
      }
    },
    {
      "cell_type": "markdown",
      "source": [
        "関数をどこかで定義して呼び出す代わりに、使用するのと同じ場所で定義されたインライン関数であるPythonのラムダ関数が使用可能\n",
        "名前を持つ必要がないため、匿名関数とも呼ばれる"
      ],
      "metadata": {
        "id": "7GNHBh6dxBb2"
      }
    },
    {
      "cell_type": "code",
      "source": [
        "your_function_name = lambda inputs : output"
      ],
      "metadata": {
        "id": "NA0Vvn74xQvQ"
      },
      "execution_count": null,
      "outputs": []
    },
    {
      "cell_type": "markdown",
      "source": [
        "ラムダ関数を使用したコード例"
      ],
      "metadata": {
        "id": "WjGT0Fo9xdOp"
      }
    },
    {
      "cell_type": "code",
      "source": [
        "a = 1\n",
        "b = 2\n",
        "c = lambda x,y : x + y\n",
        "print(c)"
      ],
      "metadata": {
        "colab": {
          "base_uri": "https://localhost:8080/"
        },
        "id": "hfXCg8-sxlR3",
        "outputId": "5edeea9d-6db3-4861-e88a-5d667e80e4b6"
      },
      "execution_count": null,
      "outputs": [
        {
          "output_type": "stream",
          "name": "stdout",
          "text": [
            "<function <lambda> at 0x7f94094db9d0>\n"
          ]
        }
      ]
    },
    {
      "cell_type": "code",
      "source": [
        "l = [2,4,7,3,14,19]\n",
        "for i in l:\n",
        "  my_lambda = lambda x : (x % 2) == 1\n",
        "  print(my_lambda(i))"
      ],
      "metadata": {
        "colab": {
          "base_uri": "https://localhost:8080/"
        },
        "id": "pexEhJHsHiYe",
        "outputId": "bd3052f2-cfea-4c63-b363-e1a67f98f6cc"
      },
      "execution_count": null,
      "outputs": [
        {
          "output_type": "stream",
          "name": "stdout",
          "text": [
            "False\n",
            "False\n",
            "True\n",
            "True\n",
            "False\n",
            "True\n"
          ]
        }
      ]
    },
    {
      "cell_type": "markdown",
      "source": [
        "# 複数の関数引数"
      ],
      "metadata": {
        "id": "LSktWBkFH-7A"
      }
    },
    {
      "cell_type": "code",
      "source": [
        "def myfunction(first, second, third):\n",
        "  # do something with the 3 variables"
      ],
      "metadata": {
        "id": "hhA1XFTxIEbK"
      },
      "execution_count": null,
      "outputs": []
    },
    {
      "cell_type": "markdown",
      "source": [
        "可変数の引数を受け取る関数の宣言"
      ],
      "metadata": {
        "id": "MO0D4CPnIRCc"
      }
    },
    {
      "cell_type": "markdown",
      "source": [
        "therest変数は変数のリストであり、最初の3つの引数の後にfoo関数に与えられたすべての引数を受け取る"
      ],
      "metadata": {
        "id": "HSCzd_VXIzGa"
      }
    },
    {
      "cell_type": "code",
      "source": [
        "def foo(first, second, third, *therest):\n",
        "  print('First: %s' % first)\n",
        "  print('Second: %s' % second)\n",
        "  print('Third: %s' % third)\n",
        "  print('And all the rest... %s' % list(therest))"
      ],
      "metadata": {
        "id": "3AcgJzQtIUc4"
      },
      "execution_count": null,
      "outputs": []
    },
    {
      "cell_type": "markdown",
      "source": [
        "引数の順序が重要にならないようにキーワードで関数の引数を送信する"
      ],
      "metadata": {
        "id": "bbCSVDnXJIuu"
      }
    },
    {
      "cell_type": "code",
      "source": [
        "def foo(first, second, third, *therest):\n",
        "    print(\"First: %s\" %(first))\n",
        "    print(\"Second: %s\" %(second))\n",
        "    print(\"Third: %s\" %(third))\n",
        "    print(\"And all the rest... %s\" %(list(therest)))\n",
        "\n",
        "foo(1, 2, 3, 4, 5)"
      ],
      "metadata": {
        "colab": {
          "base_uri": "https://localhost:8080/"
        },
        "id": "p6NCYrbnI6Xl",
        "outputId": "d5f0ac59-5b6a-442e-8607-43b95c13f451"
      },
      "execution_count": null,
      "outputs": [
        {
          "output_type": "stream",
          "name": "stdout",
          "text": [
            "First: 1\n",
            "Second: 2\n",
            "Third: 3\n",
            "And all the rest... [4, 5]\n"
          ]
        }
      ]
    },
    {
      "cell_type": "markdown",
      "source": [
        "bar関数は3つの引数を受け取る\n",
        "\n",
        "追加のaction引数が受信され数値の合計を指示すると合計が出力される\n",
        "\n",
        "また、関数に渡されたnumberパラメータの値がfirstと等しい場合は最初の引数を返す"
      ],
      "metadata": {
        "id": "-PUII_3hJ5Bh"
      }
    },
    {
      "cell_type": "code",
      "source": [
        "def bar(first, second, third, **options):\n",
        "  if options.get('action') == 'sum':\n",
        "    print('The sum is: %d' %(first + second + third))\n",
        "\n",
        "  if options.get('number') == 'first':\n",
        "    return first\n",
        "\n",
        "  result = bar(1,2,3, action = 'sum', number = 'first')\n",
        "  print('Result: %d' %(result))"
      ],
      "metadata": {
        "id": "zcgNDbnkJOzs"
      },
      "execution_count": null,
      "outputs": []
    },
    {
      "cell_type": "markdown",
      "source": [
        "Fill the foo and bar functions so they can receive a variable amount of arguments(3 or more) the foo function must return the amount of extra arguments received. The bar must return True if the argument with the keyword magicnumber is worth 7. and False otherwise."
      ],
      "metadata": {
        "id": "OpRjpnD7K6gW"
      }
    },
    {
      "cell_type": "code",
      "source": [
        "def foo(a, b, c, *args):\n",
        "  return len(args)\n",
        "def bar(a, b, c, **kwargs):\n",
        "  return kwargs['magicnumber'] == 7\n",
        "\n",
        "\n",
        "if foo(1,2,3,4) == 1:\n",
        "  print('Good.')\n",
        "\n",
        "if foo(1,2,3,4,5) == 2:\n",
        "  print('Better.')\n",
        "\n",
        "if bar(1,2,3, magicnumber=6) == False:\n",
        "  print('Great.')\n",
        "\n",
        "if bar(1,2,3, magicnumber=7) == True:\n",
        "  print('Awesome!')"
      ],
      "metadata": {
        "colab": {
          "base_uri": "https://localhost:8080/"
        },
        "id": "KsSI9s-ZKLr_",
        "outputId": "82fcbdb6-a91f-46b2-b729-51827e540338"
      },
      "execution_count": null,
      "outputs": [
        {
          "output_type": "stream",
          "name": "stdout",
          "text": [
            "Good.\n",
            "Better.\n",
            "Great.\n",
            "Awesome!\n"
          ]
        }
      ]
    },
    {
      "cell_type": "markdown",
      "source": [
        "# 正規表現"
      ],
      "metadata": {
        "id": "CLsbqAGBLWNM"
      }
    },
    {
      "cell_type": "markdown",
      "source": [
        "Pythonでは re モジュールを使用する。\n",
        "特定のタスクに正規表現を使用するときは代替案を考え最後の手段として正規表現を利用する。\n",
        "\n"
      ],
      "metadata": {
        "id": "tpCIKY9QLcPB"
      }
    },
    {
      "cell_type": "markdown",
      "source": [],
      "metadata": {
        "id": "FbMNc-ulL45p"
      }
    },
    {
      "cell_type": "code",
      "source": [
        "# Example:\n",
        "import re \n",
        "pattern  re.compile(r\"\\[(on|off)\\]\") #Slight optimization\n",
        "print(re.search(pattern, \"Nada...:-(\"))\n",
        "#Doesn`t returnm anything.\n",
        "# End Example\n",
        "\n",
        "#Exercise: make a regular expresion thet will match an email\n",
        "def test_email(your_patern):\n",
        "  pattern = re.compile(your_patern)\n",
        "  emails = [\"John@example.com\",\"python-list@python.org\", \"wha.t.`lan?ug{}ly@email.com\"]\n",
        "  for email in emails:\n",
        "    if not re.match(pattern, email):\n",
        "      print(\"You failed to match %s\" % (email))\n",
        "    elif not your_pattern:\n",
        "      print(\"Forgot to enter a pattern!\")\n",
        "    else:"
      ],
      "metadata": {
        "id": "zy-9n8E_L5TD"
      },
      "execution_count": null,
      "outputs": []
    },
    {
      "cell_type": "markdown",
      "source": [
        "# 例外処理"
      ],
      "metadata": {
        "id": "HAh4YYADOdbp"
      }
    },
    {
      "cell_type": "markdown",
      "source": [
        "When programming, errors happern. It`s just a fact of lihe, Perhaps the user gave bad input. Maybe a network resource was unavailable. Maybe the program ran out of memory. Or the programmer may have even made a mistake!\n",
        "\n",
        "Python`s solution to errors are exceptions. You might have seen an exception before"
      ],
      "metadata": {
        "id": "7GfI9oLyOfZO"
      }
    },
    {
      "cell_type": "code",
      "source": [
        "print(a)\n",
        "\n",
        "#error\n",
        "Traceback (most recent call last):\n",
        "File \"<stdin>\", line 1, in <module>\n",
        "NameError: name 'a' is not defined\n",
        "</module></stdin>"
      ],
      "metadata": {
        "id": "PkZ8PK5GPOY0"
      },
      "execution_count": null,
      "outputs": []
    },
    {
      "cell_type": "markdown",
      "source": [
        "a変数に値を割り当てるのを忘れていた場合\n",
        "例外処理となる\n",
        "例外処理に特別な動作をさせたいときは\n",
        "\n",
        "try/exceptブロックを記述する\n",
        "\n"
      ],
      "metadata": {
        "id": "G2YVRF5SP_aN"
      }
    },
    {
      "cell_type": "code",
      "source": [
        "def do_stuff_with_number(n):\n",
        "  print(n)\n",
        "\n",
        "def catch_this():\n",
        "  the_list = (1,2,3,4,5)\n",
        "\n",
        "    for i in range(20):\n",
        "        try:\n",
        "            do_stuff_with_number(the_list[i])\n",
        "        exept IndexError: # Raised when accessing a non-existing index of a list\n",
        "            do_stuff_with_number(0)\n",
        "\n",
        "catch_this()"
      ],
      "metadata": {
        "colab": {
          "base_uri": "https://localhost:8080/",
          "height": 135
        },
        "id": "hCgLpFNHQUhJ",
        "outputId": "46527131-b16c-4e8e-dc03-efc12effe43c"
      },
      "execution_count": null,
      "outputs": [
        {
          "output_type": "error",
          "ename": "SyntaxError",
          "evalue": "ignored",
          "traceback": [
            "\u001b[0;36m  File \u001b[0;32m\"<ipython-input-5-70c18aeba80f>\"\u001b[0;36m, line \u001b[0;32m10\u001b[0m\n\u001b[0;31m    exept IndexError: # Raised when accessing a non-existing index of a list\u001b[0m\n\u001b[0m    ^\u001b[0m\n\u001b[0;31mSyntaxError\u001b[0m\u001b[0;31m:\u001b[0m invalid syntax\n"
          ]
        }
      ]
    },
    {
      "cell_type": "code",
      "source": [
        "actor = {'name': 'John Cleese', \"rank\":\"awesome\"}\n",
        "\n",
        "def get_last_name():\n",
        "  return actor['name'].split()[1]\n",
        "\n",
        "get_last_name()\n",
        "print('All exceptions caught! Good job!')\n",
        "print('The actor`s last name is %s' % get_last_name())"
      ],
      "metadata": {
        "colab": {
          "base_uri": "https://localhost:8080/"
        },
        "id": "1w03v32WRBU9",
        "outputId": "451bd314-fdfd-40cf-9a09-28e990345cb0"
      },
      "execution_count": null,
      "outputs": [
        {
          "output_type": "stream",
          "name": "stdout",
          "text": [
            "All exceptions caught! Good job!\n",
            "The actor`s last name is Cleese\n"
          ]
        }
      ]
    },
    {
      "cell_type": "markdown",
      "source": [
        "# セット"
      ],
      "metadata": {
        "id": "lpLVl9GnRrc3"
      }
    },
    {
      "cell_type": "markdown",
      "source": [
        "重複するエントリが存在しないリスト\n",
        "\n",
        "段落で使用されている単語のリストを収集したい時の例"
      ],
      "metadata": {
        "id": "-mvQPA5ORwVG"
      }
    },
    {
      "cell_type": "code",
      "source": [
        "print(set('my name is Eric and Eric is my name'.split()))"
      ],
      "metadata": {
        "colab": {
          "base_uri": "https://localhost:8080/"
        },
        "id": "xLtwZYe4Rz8B",
        "outputId": "14bfbe7d-5433-4e4b-fa72-c1942abb44b7"
      },
      "execution_count": null,
      "outputs": [
        {
          "output_type": "stream",
          "name": "stdout",
          "text": [
            "{'Eric', 'and', 'name', 'my', 'is'}\n"
          ]
        }
      ]
    },
    {
      "cell_type": "markdown",
      "source": [
        "二回使用された単語は一度のみ登録される。\n",
        "\n",
        "セットはほかのセット間の差や交差を計算する機能がある\n",
        "\n",
        "イベントAとイベントBの参加者のリストの例"
      ],
      "metadata": {
        "id": "_KtDKO1USEUT"
      }
    },
    {
      "cell_type": "code",
      "source": [
        "a = set(['Jake', 'John', 'Eric'])\n",
        "print(a)\n",
        "b = set(['John', 'Jill'])\n",
        "print(b)"
      ],
      "metadata": {
        "colab": {
          "base_uri": "https://localhost:8080/"
        },
        "id": "g7TXKTDzSVuK",
        "outputId": "729a7d39-6d4f-479a-dcc5-2ea8cbb83608"
      },
      "execution_count": null,
      "outputs": [
        {
          "output_type": "stream",
          "name": "stdout",
          "text": [
            "{'John', 'Eric', 'Jake'}\n",
            "{'John', 'Jill'}\n"
          ]
        }
      ]
    },
    {
      "cell_type": "markdown",
      "source": [
        "両方のイベントに参加したメンバーを確認したいときは交差メソッドを使用する"
      ],
      "metadata": {
        "id": "5lCL1vlhSlmA"
      }
    },
    {
      "cell_type": "code",
      "source": [
        "a = set([\"Jake\", \"John\", \"Eric\"])\n",
        "b = set([\"John\", \"Jill\"])\n",
        "#intersection(交差)\n",
        "print(a.intersection(b))\n",
        "print(b.intersection(a))"
      ],
      "metadata": {
        "colab": {
          "base_uri": "https://localhost:8080/"
        },
        "id": "L_OJpo_kSs2p",
        "outputId": "01297366-67a7-4c13-8098-4eac556a67be"
      },
      "execution_count": null,
      "outputs": [
        {
          "output_type": "stream",
          "name": "stdout",
          "text": [
            "{'John'}\n",
            "{'John'}\n"
          ]
        }
      ]
    },
    {
      "cell_type": "markdown",
      "source": [
        "最低でもどちらかのイベントに参加したメンバー確認するのには\n",
        "\n",
        "summetric_difference メソッドを使用する"
      ],
      "metadata": {
        "id": "APjezJB-S2lY"
      }
    },
    {
      "cell_type": "code",
      "source": [
        "a = set(['Jake', 'John','Eric'])\n",
        "b = set(['John', 'Jill'])\n",
        "\n",
        "print(a.symmetric_difference(b))\n",
        "print(b.symmetric_difference(a))"
      ],
      "metadata": {
        "colab": {
          "base_uri": "https://localhost:8080/"
        },
        "id": "ijjS5QAqS_Sc",
        "outputId": "d29c483f-09a1-4733-d70e-d356a8db3b60"
      },
      "execution_count": null,
      "outputs": [
        {
          "output_type": "stream",
          "name": "stdout",
          "text": [
            "{'Eric', 'Jake', 'Jill'}\n",
            "{'Jill', 'Eric', 'Jake'}\n"
          ]
        }
      ]
    },
    {
      "cell_type": "markdown",
      "source": [
        "片方のイベントにのみ参加したメンバーを確認するには\n",
        "\n",
        "差分メソッドを使用する"
      ],
      "metadata": {
        "id": "snXJZ2NbTkBW"
      }
    },
    {
      "cell_type": "code",
      "source": [
        "a = set([\"Jake\", \"John\", \"Eric\"])\n",
        "b = set([\"John\", \"Jill\"])\n",
        "\n",
        "print(a.difference(b))\n",
        "print(b.difference(a))"
      ],
      "metadata": {
        "colab": {
          "base_uri": "https://localhost:8080/"
        },
        "id": "FHGubAw_TqfP",
        "outputId": "9c2abb25-3e95-4fbf-e26f-4501bf3960c5"
      },
      "execution_count": null,
      "outputs": [
        {
          "output_type": "stream",
          "name": "stdout",
          "text": [
            "{'Eric', 'Jake'}\n",
            "{'Jill'}\n"
          ]
        }
      ]
    },
    {
      "cell_type": "markdown",
      "source": [
        "すべての参加者のリストを受け取るにはunionメソッドを使用する"
      ],
      "metadata": {
        "id": "Y6ZuTNoqT1u0"
      }
    },
    {
      "cell_type": "code",
      "source": [
        "a = set([\"Jake\", \"John\", \"Eric\"])\n",
        "b = set([\"John\", \"Jill\"])\n",
        "\n",
        "print(a.union(b))"
      ],
      "metadata": {
        "colab": {
          "base_uri": "https://localhost:8080/"
        },
        "id": "-ICGCHaHT8fU",
        "outputId": "44960558-50dd-4060-fb76-e9a3adfbb059"
      },
      "execution_count": null,
      "outputs": [
        {
          "output_type": "stream",
          "name": "stdout",
          "text": [
            "{'John', 'Eric', 'Jill', 'Jake'}\n"
          ]
        }
      ]
    },
    {
      "cell_type": "code",
      "source": [
        "a = ['Jake','John','Eric']\n",
        "b = ['John','Jill']\n",
        "\n",
        "A = set(a)\n",
        "B = set(b)\n",
        "\n",
        "print(A.difference(B))"
      ],
      "metadata": {
        "colab": {
          "base_uri": "https://localhost:8080/"
        },
        "id": "9qf5Nek4Wz3s",
        "outputId": "cd09537f-56cd-4df4-e602-214c9b131f0c"
      },
      "execution_count": null,
      "outputs": [
        {
          "output_type": "stream",
          "name": "stdout",
          "text": [
            "{'Eric', 'Jake'}\n"
          ]
        }
      ]
    },
    {
      "cell_type": "markdown",
      "source": [
        "# Serialization"
      ],
      "metadata": {
        "id": "QeWLYMWjXWNV"
      }
    },
    {
      "cell_type": "markdown",
      "source": [
        "JSONをエンコード及びデコードするための組み込みのJSONライブラリ\n",
        "\n"
      ],
      "metadata": {
        "id": "Uf6OIkLtXY5W"
      }
    },
    {
      "cell_type": "code",
      "source": [
        "import json"
      ],
      "metadata": {
        "id": "uyK4c1QhXppt"
      },
      "execution_count": null,
      "outputs": []
    },
    {
      "cell_type": "markdown",
      "source": [
        "JSONデータには2つの基本的な警視kいがある。\n",
        "\n",
        "・文字列\n",
        "\n",
        "・データ構造\n",
        "\n",
        "データ構造は互いにネストされたリストと辞書で構成されている。\n",
        "\n",
        "データ構造から要素を追加、一覧表示、検索、削除が可能\n",
        "\n",
        "String形式はデータを別のプログラムに渡したりデータ構造にロードするために使用される。\n",
        "\n",
        "JSONをデータ構造にロードしなおすには、 loads メソッドを使用する。このメソッドは文字列を受け取り、それをJSONオブジェクトのデータ構造に戻す"
      ],
      "metadata": {
        "id": "v22Zb1otXtXd"
      }
    },
    {
      "cell_type": "code",
      "source": [
        "import json\n",
        "print(json.loads(json_string))"
      ],
      "metadata": {
        "id": "pDmID11xYafi"
      },
      "execution_count": null,
      "outputs": []
    },
    {
      "cell_type": "markdown",
      "source": [
        "データ構造をJSONにエンコードするには dumps メソッドを使用する。このメソッドはオブジェクトを受け取りStringを返す"
      ],
      "metadata": {
        "id": "d_hcMyaoYjEx"
      }
    },
    {
      "cell_type": "code",
      "source": [
        "import json\n",
        "json_string = json.dumps([1,2,3,'a','b','c'])\n",
        "print(json_string)"
      ],
      "metadata": {
        "colab": {
          "base_uri": "https://localhost:8080/"
        },
        "id": "iefMFzdEYsQh",
        "outputId": "fd0fc236-07b3-428d-bc9d-54541bcfeb14"
      },
      "execution_count": null,
      "outputs": [
        {
          "output_type": "stream",
          "name": "stdout",
          "text": [
            "[1, 2, 3, \"a\", \"b\", \"c\"]\n"
          ]
        }
      ]
    },
    {
      "cell_type": "markdown",
      "source": [
        "より高速に動作する代替手段\n",
        "\n",
        "pickle"
      ],
      "metadata": {
        "id": "xbsSj1RTY9DO"
      }
    },
    {
      "cell_type": "code",
      "source": [
        "import pickle\n",
        "pickled_string = pickle.dumps([1,2,3,'a','b','c'])\n",
        "print(pickle.loads(pickled_string))"
      ],
      "metadata": {
        "colab": {
          "base_uri": "https://localhost:8080/"
        },
        "id": "6ZWxYNGPZC0_",
        "outputId": "93e96c39-af9c-40bc-967e-9364fdd91032"
      },
      "execution_count": null,
      "outputs": [
        {
          "output_type": "stream",
          "name": "stdout",
          "text": [
            "[1, 2, 3, 'a', 'b', 'c']\n"
          ]
        }
      ]
    },
    {
      "cell_type": "code",
      "source": [
        "import json\n",
        "\n",
        "#fix this function, so it adds the given name\n",
        "#and salary pair to salaries_json, and return it\n",
        "\n",
        "def add_employee(salaries_json, name, salary):\n",
        "  salaries = json.loads(salaries_json)\n",
        "  salaries[name] = salary\n",
        "\n",
        "  return json.dumps(salaries)\n",
        "\n",
        "  #test code\n",
        "  salaries = '{\"Alfred\" : 300, \"Jane\" : 400 }'\n",
        "  new_salaries = add_employee(salaries, \"Me\", 800)\n",
        "  decoded_salaries = json.loads(new_salaries)\n",
        "  print(decoded_salaries[\"Alfred\"])\n",
        "  print(decoded_salaries[\"Jane\"])\n",
        "  print(decoded_salaries[\"Me\"])\n"
      ],
      "metadata": {
        "id": "7rg7ioBjZUqj"
      },
      "execution_count": null,
      "outputs": []
    },
    {
      "cell_type": "markdown",
      "source": [
        "# 部分関数"
      ],
      "metadata": {
        "id": "A2bqdgitanBo"
      }
    },
    {
      "cell_type": "markdown",
      "source": [
        "部分関数を使用するとxパラメータを持つ関数をより限定された関数に設定されたパラメータと固定値が少ない関数に導出できる"
      ],
      "metadata": {
        "id": "b7sRzhc9aoyU"
      }
    },
    {
      "cell_type": "code",
      "source": [
        "from functools import partial"
      ],
      "metadata": {
        "id": "eht1sAjUazIC"
      },
      "execution_count": null,
      "outputs": []
    },
    {
      "cell_type": "markdown",
      "source": [
        "this code will return 8"
      ],
      "metadata": {
        "id": "E-ZqWa-qa5hb"
      }
    },
    {
      "cell_type": "code",
      "source": [
        "from functools import partial\n",
        "\n",
        "def multiply(x, y):\n",
        "  return x * y\n",
        "\n",
        "#create a new function that multiplies by 2\n",
        "\n",
        "dbl = partial(multiply, 2)\n",
        "print(dbl(4))"
      ],
      "metadata": {
        "colab": {
          "base_uri": "https://localhost:8080/"
        },
        "id": "CEX70wdaa-fa",
        "outputId": "ee4409ac-4151-44e1-83fa-856c4229213e"
      },
      "execution_count": null,
      "outputs": [
        {
          "output_type": "stream",
          "name": "stdout",
          "text": [
            "8\n"
          ]
        }
      ]
    },
    {
      "cell_type": "markdown",
      "source": [
        "An important note: the default values will start replacing variables from the left.\n",
        "\n",
        "The 2 will replace x.y will equal 4 when dbl(4)is called. It does not make a dufference in this example, but it does in the example below."
      ],
      "metadata": {
        "id": "UK0n2jfdbOzl"
      }
    },
    {
      "cell_type": "code",
      "source": [
        "from functools import partial\n",
        "\n",
        "def func(u, v, w, x):\n",
        "  return u*4 + v*3 + w*2 + x\n",
        "  \n",
        "p = partial(func,5,6,7)\n",
        "print(p(8))"
      ],
      "metadata": {
        "colab": {
          "base_uri": "https://localhost:8080/"
        },
        "id": "XfO-_PTUbZI2",
        "outputId": "a4bcb55b-9342-453b-9174-2529e07840f0"
      },
      "execution_count": null,
      "outputs": [
        {
          "output_type": "stream",
          "name": "stdout",
          "text": [
            "60\n"
          ]
        }
      ]
    },
    {
      "cell_type": "markdown",
      "source": [
        "# Code Introspection"
      ],
      "metadata": {
        "id": "qAeLZGRLcjGy"
      }
    },
    {
      "cell_type": "markdown",
      "source": [
        "コードイントロスペクションは、クラス、関数、キーワードを調べて、それらが何であり何をするかを知る機能\n",
        "\n"
      ],
      "metadata": {
        "id": "AM6B9zqFcleo"
      }
    },
    {
      "cell_type": "code",
      "source": [
        "help()\n",
        "dir()\n",
        "hasattr()\n",
        "id()\n",
        "type()\n",
        "repr()\n",
        "callable()\n",
        "issubclass()\n",
        "isinstance()\n",
        "\n",
        "__doc__\n",
        "__name__"
      ],
      "metadata": {
        "colab": {
          "base_uri": "https://localhost:8080/",
          "height": 587
        },
        "id": "tHheetAwc5Ax",
        "outputId": "9138dc6f-290d-4e57-a866-cbb695a78adc"
      },
      "execution_count": null,
      "outputs": [
        {
          "output_type": "stream",
          "name": "stdout",
          "text": [
            "\n",
            "Welcome to Python 3.8's help utility!\n",
            "\n",
            "If this is your first time using Python, you should definitely check out\n",
            "the tutorial on the Internet at https://docs.python.org/3.8/tutorial/.\n",
            "\n",
            "Enter the name of any module, keyword, or topic to get help on writing\n",
            "Python programs and using Python modules.  To quit this help utility and\n",
            "return to the interpreter, just type \"quit\".\n",
            "\n",
            "To get a list of available modules, keywords, symbols, or topics, type\n",
            "\"modules\", \"keywords\", \"symbols\", or \"topics\".  Each module also comes\n",
            "with a one-line summary of what it does; to list the modules whose name\n",
            "or summary contain a given string such as \"spam\", type \"modules spam\".\n",
            "\n",
            "\n",
            "You are now leaving help and returning to the Python interpreter.\n",
            "If you want to ask for help on a particular object directly from the\n",
            "interpreter, you can type \"help(object)\".  Executing \"help('string')\"\n",
            "has the same effect as typing a particular string at the help> prompt.\n"
          ]
        },
        {
          "output_type": "error",
          "ename": "TypeError",
          "evalue": "ignored",
          "traceback": [
            "\u001b[0;31m---------------------------------------------------------------------------\u001b[0m",
            "\u001b[0;31mTypeError\u001b[0m                                 Traceback (most recent call last)",
            "\u001b[0;32m<ipython-input-21-c442eebdce4d>\u001b[0m in \u001b[0;36m<module>\u001b[0;34m\u001b[0m\n\u001b[1;32m      1\u001b[0m \u001b[0mhelp\u001b[0m\u001b[0;34m(\u001b[0m\u001b[0;34m)\u001b[0m\u001b[0;34m\u001b[0m\u001b[0;34m\u001b[0m\u001b[0m\n\u001b[1;32m      2\u001b[0m \u001b[0mdir\u001b[0m\u001b[0;34m(\u001b[0m\u001b[0;34m)\u001b[0m\u001b[0;34m\u001b[0m\u001b[0;34m\u001b[0m\u001b[0m\n\u001b[0;32m----> 3\u001b[0;31m \u001b[0mhasattr\u001b[0m\u001b[0;34m(\u001b[0m\u001b[0;34m)\u001b[0m\u001b[0;34m\u001b[0m\u001b[0;34m\u001b[0m\u001b[0m\n\u001b[0m\u001b[1;32m      4\u001b[0m \u001b[0mid\u001b[0m\u001b[0;34m(\u001b[0m\u001b[0;34m)\u001b[0m\u001b[0;34m\u001b[0m\u001b[0;34m\u001b[0m\u001b[0m\n\u001b[1;32m      5\u001b[0m \u001b[0mtype\u001b[0m\u001b[0;34m(\u001b[0m\u001b[0;34m)\u001b[0m\u001b[0;34m\u001b[0m\u001b[0;34m\u001b[0m\u001b[0m\n",
            "\u001b[0;31mTypeError\u001b[0m: hasattr expected 2 arguments, got 0"
          ]
        }
      ]
    },
    {
      "cell_type": "code",
      "source": [
        "# Define the Vehicle class\n",
        "\n",
        "class Vehicle: \n",
        "  name = \"\"\n",
        "  kind = \"car\"\n",
        "  color = \"\"\n",
        "  value = 100.00\n",
        "  def description(self):\n",
        "      desc_str = \"%s is a %s %s worth $%.2f.\" % (self.name, self.color, self.kind, self.value)\n",
        "\n",
        "      return desc_str\n",
        "\n",
        "# Print a list of all attributes of the Veficle class.\n",
        "\n",
        "print(dir(Vehicle))"
      ],
      "metadata": {
        "id": "2Kk0uBuxdH5k",
        "colab": {
          "base_uri": "https://localhost:8080/"
        },
        "outputId": "56536e3d-1633-4759-a27c-55def977a58f"
      },
      "execution_count": null,
      "outputs": [
        {
          "output_type": "stream",
          "name": "stdout",
          "text": [
            "['__class__', '__delattr__', '__dict__', '__dir__', '__doc__', '__eq__', '__format__', '__ge__', '__getattribute__', '__gt__', '__hash__', '__init__', '__init_subclass__', '__le__', '__lt__', '__module__', '__ne__', '__new__', '__reduce__', '__reduce_ex__', '__repr__', '__setattr__', '__sizeof__', '__str__', '__subclasshook__', '__weakref__', 'color', 'description', 'kind', 'name', 'value']\n"
          ]
        }
      ]
    },
    {
      "cell_type": "markdown",
      "source": [
        "# Closures"
      ],
      "metadata": {
        "id": "Gl5ZEy-jeBkQ"
      }
    },
    {
      "cell_type": "markdown",
      "source": [
        "メモリ内に存在しない場合でも囲むスコープの値を記憶するオブジェクト\n",
        "\n",
        "ネストされた関数は別の関数内で定義された関数\n",
        "入れ子になった関数は、外側のスコープの変数にアクセスできることに注意することが重要\n",
        "\n",
        "ただしPythonでは読み取り専用のみ。\n",
        "ただしこれらの変数でnonlocalキーワードを使用して変数を変更することが可能"
      ],
      "metadata": {
        "id": "kvaJMBLoeDuT"
      }
    },
    {
      "cell_type": "code",
      "source": [
        "def transmit_to_space(message):\n",
        "    \"This is the enclosing function\"\n",
        "    def data_transmitter():\n",
        "        \"The nested function\"\n",
        "        print(message)\n",
        "\n",
        "    data_transmitter()\n",
        "\n",
        "print(transmit_to_space(\"Test message\"))"
      ],
      "metadata": {
        "colab": {
          "base_uri": "https://localhost:8080/"
        },
        "id": "pp6O2Jp5eo4w",
        "outputId": "559dbbfe-ea8c-44b9-f72a-8f76b2e3732f"
      },
      "execution_count": null,
      "outputs": [
        {
          "output_type": "stream",
          "name": "stdout",
          "text": [
            "Test message\n",
            "None\n"
          ]
        }
      ]
    },
    {
      "cell_type": "markdown",
      "source": [
        "data_transmitter機能がmessageにアクセスできるから機能している"
      ],
      "metadata": {
        "id": "53QdtjVOfZPE"
      }
    },
    {
      "cell_type": "code",
      "source": [
        "def print_msg(number):\n",
        "  def printer():\n",
        "    \"Here we are using the nonlocal keyword\"\n",
        "    nonlocal number\n",
        "    number=3\n",
        "    print(number)\n",
        "  printer()\n",
        "  print(number)\n",
        "\n",
        "print_msg(9)"
      ],
      "metadata": {
        "colab": {
          "base_uri": "https://localhost:8080/"
        },
        "id": "MHcaB_B8fhmm",
        "outputId": "92db0cca-0740-40a7-ee0e-d5d784f03aec"
      },
      "execution_count": null,
      "outputs": [
        {
          "output_type": "stream",
          "name": "stdout",
          "text": [
            "3\n",
            "3\n"
          ]
        }
      ]
    },
    {
      "cell_type": "markdown",
      "source": [
        "nonlocalを使用しない場合出力は 3 9になる。\n",
        "\n"
      ],
      "metadata": {
        "id": "aOQca2hhf-UF"
      }
    },
    {
      "cell_type": "code",
      "source": [
        "def transmit_to_space(message):\n",
        "  \"This is the enclosing function\"\n",
        "  def data_transmitter():\n",
        "    \"The nested function\"\n",
        "    print(message)\n",
        "  return data_transmitter\n",
        "\n",
        "fun2 = transmit_to_space(\"Burn the Sun!\")\n",
        "fun2 ()"
      ],
      "metadata": {
        "colab": {
          "base_uri": "https://localhost:8080/"
        },
        "id": "-Hn9GWOcgKUU",
        "outputId": "d35cd537-4a90-468c-8dab-1b2ce3908afc"
      },
      "execution_count": null,
      "outputs": [
        {
          "output_type": "stream",
          "name": "stdout",
          "text": [
            "Burn the Sun!\n"
          ]
        }
      ]
    },
    {
      "cell_type": "code",
      "source": [
        "def multiply_of(n):\n",
        "    def multiplier(number):\n",
        "        return number*n\n",
        "    return multiplier\n",
        "\n",
        "multiplywith5 = multiplier_of(5)\n",
        "print(multiplywith5(9))"
      ],
      "metadata": {
        "colab": {
          "base_uri": "https://localhost:8080/",
          "height": 222
        },
        "id": "yvfxxWyjgbOn",
        "outputId": "dd46d39e-369e-4368-e758-992cb85723b7"
      },
      "execution_count": null,
      "outputs": [
        {
          "output_type": "error",
          "ename": "NameError",
          "evalue": "ignored",
          "traceback": [
            "\u001b[0;31m---------------------------------------------------------------------------\u001b[0m",
            "\u001b[0;31mNameError\u001b[0m                                 Traceback (most recent call last)",
            "\u001b[0;32m<ipython-input-32-fd26b8777ad0>\u001b[0m in \u001b[0;36m<module>\u001b[0;34m\u001b[0m\n\u001b[1;32m      4\u001b[0m     \u001b[0;32mreturn\u001b[0m \u001b[0mmultiplier\u001b[0m\u001b[0;34m\u001b[0m\u001b[0;34m\u001b[0m\u001b[0m\n\u001b[1;32m      5\u001b[0m \u001b[0;34m\u001b[0m\u001b[0m\n\u001b[0;32m----> 6\u001b[0;31m \u001b[0mmultiplywith5\u001b[0m \u001b[0;34m=\u001b[0m \u001b[0mmultiplier_of\u001b[0m\u001b[0;34m(\u001b[0m\u001b[0;36m5\u001b[0m\u001b[0;34m)\u001b[0m\u001b[0;34m\u001b[0m\u001b[0;34m\u001b[0m\u001b[0m\n\u001b[0m\u001b[1;32m      7\u001b[0m \u001b[0mprint\u001b[0m\u001b[0;34m(\u001b[0m\u001b[0mmultiplywith5\u001b[0m\u001b[0;34m(\u001b[0m\u001b[0;36m9\u001b[0m\u001b[0;34m)\u001b[0m\u001b[0;34m)\u001b[0m\u001b[0;34m\u001b[0m\u001b[0;34m\u001b[0m\u001b[0m\n",
            "\u001b[0;31mNameError\u001b[0m: name 'multiplier_of' is not defined"
          ]
        }
      ]
    },
    {
      "cell_type": "markdown",
      "source": [
        "# Decorators"
      ],
      "metadata": {
        "id": "sEb7l7zAiWs2"
      }
    },
    {
      "cell_type": "markdown",
      "source": [
        "デコレーターを使用すると関数、メソッド、クラスなどの呼び出し可能なオブジェクトに簡単な変更を加えることができる"
      ],
      "metadata": {
        "id": "t9Rkp4pdiYur"
      }
    },
    {
      "cell_type": "code",
      "source": [
        "@decorator\n",
        "def functions(arg):\n",
        "    return \"value\""
      ],
      "metadata": {
        "colab": {
          "base_uri": "https://localhost:8080/",
          "height": 205
        },
        "id": "cSsOkojjikS4",
        "outputId": "2b1b9199-1d60-44a1-ad59-880383f39ecd"
      },
      "execution_count": null,
      "outputs": [
        {
          "output_type": "error",
          "ename": "NameError",
          "evalue": "ignored",
          "traceback": [
            "\u001b[0;31m---------------------------------------------------------------------------\u001b[0m",
            "\u001b[0;31mNameError\u001b[0m                                 Traceback (most recent call last)",
            "\u001b[0;32m<ipython-input-34-c85fd4d19ca9>\u001b[0m in \u001b[0;36m<module>\u001b[0;34m\u001b[0m\n\u001b[0;32m----> 1\u001b[0;31m \u001b[0;34m@\u001b[0m\u001b[0mdecorator\u001b[0m\u001b[0;34m\u001b[0m\u001b[0;34m\u001b[0m\u001b[0m\n\u001b[0m\u001b[1;32m      2\u001b[0m \u001b[0;32mdef\u001b[0m \u001b[0mfunctions\u001b[0m\u001b[0;34m(\u001b[0m\u001b[0marg\u001b[0m\u001b[0;34m)\u001b[0m\u001b[0;34m:\u001b[0m\u001b[0;34m\u001b[0m\u001b[0;34m\u001b[0m\u001b[0m\n\u001b[1;32m      3\u001b[0m     \u001b[0;32mreturn\u001b[0m \u001b[0;34m\"value\"\u001b[0m\u001b[0;34m\u001b[0m\u001b[0;34m\u001b[0m\u001b[0m\n",
            "\u001b[0;31mNameError\u001b[0m: name 'decorator' is not defined"
          ]
        }
      ]
    },
    {
      "cell_type": "code",
      "source": [
        "def function(arg):\n",
        "    return \"value\"\n",
        "  function = decorator(function) # this passes the functino to the decorator, and reassigns it to the functions"
      ],
      "metadata": {
        "colab": {
          "base_uri": "https://localhost:8080/",
          "height": 153
        },
        "id": "UBr8pfQaioTn",
        "outputId": "8ea9dfbe-592d-4125-cc3e-0efb03de4af4"
      },
      "execution_count": null,
      "outputs": [
        {
          "output_type": "error",
          "ename": "IndentationError",
          "evalue": "ignored",
          "traceback": [
            "\u001b[0;36m  File \u001b[0;32m\"<tokenize>\"\u001b[0;36m, line \u001b[0;32m3\u001b[0m\n\u001b[0;31m    function = decorator(function) # this passes the functino to the decorator, and reassigns it to the functions\u001b[0m\n\u001b[0m    ^\u001b[0m\n\u001b[0;31mIndentationError\u001b[0m\u001b[0;31m:\u001b[0m unindent does not match any outer indentation level\n"
          ]
        }
      ]
    },
    {
      "cell_type": "code",
      "source": [
        "def repeater(old_function):\n",
        "  def new_function(*args, **kwds): # See learnpython.org/en\n",
        "\n",
        "      old_function(*args, **kwds)\n",
        "      olt_function(*args, **kwds)\n",
        "\n",
        "  return new_function"
      ],
      "metadata": {
        "id": "nSPYIA0wjAg1"
      },
      "execution_count": null,
      "outputs": []
    },
    {
      "cell_type": "code",
      "source": [
        "@repeater\n",
        "def multiply(num1, num2):\n",
        "    print(num1 * num2)\n",
        "\n",
        "multiply(2, 3)\n",
        "6\n",
        "6"
      ],
      "metadata": {
        "colab": {
          "base_uri": "https://localhost:8080/",
          "height": 378
        },
        "id": "ITVO9-pljeTW",
        "outputId": "2a938f6c-8045-429a-a401-fe7f846b5027"
      },
      "execution_count": null,
      "outputs": [
        {
          "output_type": "stream",
          "name": "stdout",
          "text": [
            "6\n"
          ]
        },
        {
          "output_type": "error",
          "ename": "NameError",
          "evalue": "ignored",
          "traceback": [
            "\u001b[0;31m---------------------------------------------------------------------------\u001b[0m",
            "\u001b[0;31mNameError\u001b[0m                                 Traceback (most recent call last)",
            "\u001b[0;32m<ipython-input-39-b13cf66ec164>\u001b[0m in \u001b[0;36m<module>\u001b[0;34m\u001b[0m\n\u001b[1;32m      3\u001b[0m     \u001b[0mprint\u001b[0m\u001b[0;34m(\u001b[0m\u001b[0mnum1\u001b[0m \u001b[0;34m*\u001b[0m \u001b[0mnum2\u001b[0m\u001b[0;34m)\u001b[0m\u001b[0;34m\u001b[0m\u001b[0;34m\u001b[0m\u001b[0m\n\u001b[1;32m      4\u001b[0m \u001b[0;34m\u001b[0m\u001b[0m\n\u001b[0;32m----> 5\u001b[0;31m \u001b[0mmultiply\u001b[0m\u001b[0;34m(\u001b[0m\u001b[0;36m2\u001b[0m\u001b[0;34m,\u001b[0m \u001b[0;36m3\u001b[0m\u001b[0;34m)\u001b[0m\u001b[0;34m\u001b[0m\u001b[0;34m\u001b[0m\u001b[0m\n\u001b[0m\u001b[1;32m      6\u001b[0m \u001b[0;36m6\u001b[0m\u001b[0;34m\u001b[0m\u001b[0;34m\u001b[0m\u001b[0m\n\u001b[1;32m      7\u001b[0m \u001b[0;36m6\u001b[0m\u001b[0;34m\u001b[0m\u001b[0;34m\u001b[0m\u001b[0m\n",
            "\u001b[0;32m<ipython-input-37-12c2b3f1a8b7>\u001b[0m in \u001b[0;36mnew_function\u001b[0;34m(*args, **kwds)\u001b[0m\n\u001b[1;32m      3\u001b[0m \u001b[0;34m\u001b[0m\u001b[0m\n\u001b[1;32m      4\u001b[0m       \u001b[0mold_function\u001b[0m\u001b[0;34m(\u001b[0m\u001b[0;34m*\u001b[0m\u001b[0margs\u001b[0m\u001b[0;34m,\u001b[0m \u001b[0;34m**\u001b[0m\u001b[0mkwds\u001b[0m\u001b[0;34m)\u001b[0m\u001b[0;34m\u001b[0m\u001b[0;34m\u001b[0m\u001b[0m\n\u001b[0;32m----> 5\u001b[0;31m       \u001b[0molt_function\u001b[0m\u001b[0;34m(\u001b[0m\u001b[0;34m*\u001b[0m\u001b[0margs\u001b[0m\u001b[0;34m,\u001b[0m \u001b[0;34m**\u001b[0m\u001b[0mkwds\u001b[0m\u001b[0;34m)\u001b[0m\u001b[0;34m\u001b[0m\u001b[0;34m\u001b[0m\u001b[0m\n\u001b[0m\u001b[1;32m      6\u001b[0m \u001b[0;34m\u001b[0m\u001b[0m\n\u001b[1;32m      7\u001b[0m   \u001b[0;32mreturn\u001b[0m \u001b[0mnew_function\u001b[0m\u001b[0;34m\u001b[0m\u001b[0;34m\u001b[0m\u001b[0m\n",
            "\u001b[0;31mNameError\u001b[0m: name 'olt_function' is not defined"
          ]
        }
      ]
    },
    {
      "cell_type": "markdown",
      "source": [
        "出力の変更"
      ],
      "metadata": {
        "id": "x8QW9K6bjqZg"
      }
    },
    {
      "cell_type": "code",
      "source": [
        "def double_out(old_function):\n",
        "  def new_function(*args, **kwds):\n",
        "      return 2 * old_function(*args, **kwds) #modufy the return value\n",
        "  return new_function"
      ],
      "metadata": {
        "id": "bkOKh8zyjsnX"
      },
      "execution_count": null,
      "outputs": []
    },
    {
      "cell_type": "markdown",
      "source": [
        "入力の変更"
      ],
      "metadata": {
        "id": "uXnv9Pu4kqTx"
      }
    },
    {
      "cell_type": "code",
      "source": [
        "def double_Ii(old_function):\n",
        "  def new_function(arg): #only works if the old function has one argument\n",
        "      return old_function(arg * 2) #modify the argument passed\n",
        "  return new_function"
      ],
      "metadata": {
        "id": "BR8BDkLmktZ3"
      },
      "execution_count": null,
      "outputs": []
    },
    {
      "cell_type": "markdown",
      "source": [
        "add do checking"
      ],
      "metadata": {
        "id": "kknVcpXZlJpr"
      }
    },
    {
      "cell_type": "code",
      "source": [
        "def check(old_function):\n",
        "  def new_function(arg):\n",
        "    if arg < 0: raise (ValueError, \"Negative Argument\")\n",
        "    #This causes an error, which is better than it doing the wrong thing\n",
        "    old_function(arg)\n",
        "  return new_function"
      ],
      "metadata": {
        "id": "_Kh4Ls9qlLRS"
      },
      "execution_count": null,
      "outputs": []
    },
    {
      "cell_type": "markdown",
      "source": [
        "出力に可変数をかける"
      ],
      "metadata": {
        "id": "h9FHhkxklr_7"
      }
    },
    {
      "cell_type": "code",
      "source": [
        "def multiply(multiplier):\n",
        "  def multiply_generator(old_function):\n",
        "      def new_function(*args, **kwds):\n",
        "          return multiplier * old_function(*args, **kwds)\n",
        "      return new_function\n",
        "  return multiply_generator # it returns the new generator\n",
        "\n",
        "# Usage\n",
        "\n",
        "@multiply(3) # multiply is not a generator , but multiply(3) is\n",
        "def return_num(num):\n",
        "    return num\n",
        "\n",
        "# Now return_num is decorated and reassigned into itself\n",
        "\n",
        "return_num(5) # should return 15"
      ],
      "metadata": {
        "colab": {
          "base_uri": "https://localhost:8080/"
        },
        "id": "St-ExOdfludl",
        "outputId": "286746ed-bad0-464e-cf78-63b3cb4ea579"
      },
      "execution_count": null,
      "outputs": [
        {
          "output_type": "execute_result",
          "data": {
            "text/plain": [
              "15"
            ]
          },
          "metadata": {},
          "execution_count": 43
        }
      ]
    },
    {
      "cell_type": "markdown",
      "source": [
        "Make a decorator factory which returns a decorator that decorates functions with one argument. The factory should take one argument, a type. and then returns a decorator that makes function should check if the input is the correct type. If it is wrong, it should print(\"Bad Type\")"
      ],
      "metadata": {
        "id": "seWWbrJ7oDBr"
      }
    },
    {
      "cell_type": "code",
      "source": [
        "def type_check(correct_type):\n",
        "    def check(old_function):\n",
        "      def new_function(arg):\n",
        "        if (isinstance(arg, correct_type)):\n",
        "          return old_function(arg)\n",
        "        else:\n",
        "          print(\"Bad Type\")\n",
        "      return new_function\n",
        "    return check\n",
        "@type_check(int)\n",
        "def times2(num):\n",
        "    return num*2\n",
        "\n",
        "print(times2(2))\n",
        "times2('Not A Number')\n",
        "\n",
        "@type_check(str)\n",
        "def first_letter(word):\n",
        "    return word[0]\n",
        "\n",
        "print(first_letter('Hello World'))\n",
        "first_letter(['Not', 'A', 'String'])"
      ],
      "metadata": {
        "colab": {
          "base_uri": "https://localhost:8080/"
        },
        "id": "jiK3TrPPnC5K",
        "outputId": "7f6093ab-ba75-401b-ec7f-7c2fbbec1e90"
      },
      "execution_count": null,
      "outputs": [
        {
          "output_type": "stream",
          "name": "stdout",
          "text": [
            "4\n",
            "Bad Type\n",
            "H\n",
            "Bad Type\n"
          ]
        }
      ]
    },
    {
      "cell_type": "markdown",
      "source": [
        "# Map, Filter, Reduce"
      ],
      "metadata": {
        "id": "Evrg7FXdooH-"
      }
    },
    {
      "cell_type": "markdown",
      "source": [
        "この３つの関数を使用すると一度に多数の反復可能オブジェクトに関数を適用できる。\n",
        "\n"
      ],
      "metadata": {
        "id": "y_tcV_AAopk0"
      }
    },
    {
      "cell_type": "markdown",
      "source": [
        "**Map**"
      ],
      "metadata": {
        "id": "J-hb07VKo9Cn"
      }
    },
    {
      "cell_type": "markdown",
      "source": [
        "map(func, *iterables)\n",
        "\n",
        "Where func is the function on which each element in iterales (as many as they are) would be applied on. Notice the asterisk on iterables\n",
        "\n",
        "It means there can be as many iterales as possible, in so far func has that you note the following:\n",
        "\n",
        "1. 結果をリストとして取得するには\n",
        "list(map(func, *iterables))\n",
        "\n",
        "2. 引数の数はリストの要素数と同じでなければならない\n",
        "\n",
        "\n",
        "\n",
        "\n",
        "\n"
      ],
      "metadata": {
        "id": "9GllWzySo_HJ"
      }
    },
    {
      "cell_type": "markdown",
      "source": [
        "例\n",
        "\n",
        "通常"
      ],
      "metadata": {
        "id": "Z-GvDCxvq2Dn"
      }
    },
    {
      "cell_type": "code",
      "source": [
        "my_pets = ['alfred', 'tabitha', 'william', 'arla']\n",
        "uppered_pets = []\n",
        "\n",
        "for pet in my_pets:\n",
        "    pet_ = pet.upper()\n",
        "    uppered_pets.append(pet_)\n",
        "\n",
        "print(uppered_pets)"
      ],
      "metadata": {
        "colab": {
          "base_uri": "https://localhost:8080/"
        },
        "id": "3se5yDRLq4oh",
        "outputId": "fecd3341-0901-42dd-c98f-dcad627e542d"
      },
      "execution_count": null,
      "outputs": [
        {
          "output_type": "stream",
          "name": "stdout",
          "text": [
            "['ALFRED', 'TABITHA', 'WILLIAM', 'ARLA']\n"
          ]
        }
      ]
    },
    {
      "cell_type": "markdown",
      "source": [
        "map()関数を使うと簡単に短く記述できる"
      ],
      "metadata": {
        "id": "k5K4NNxYtSlR"
      }
    },
    {
      "cell_type": "code",
      "source": [
        "my_pets = ['alfred', 'tabitha', 'william', 'arla']\n",
        "\n",
        "uppered_pets = list(map(str.upper, my_pets))\n",
        "\n",
        "print(uppered_pets)"
      ],
      "metadata": {
        "colab": {
          "base_uri": "https://localhost:8080/"
        },
        "id": "zcREjoRWtW_R",
        "outputId": "c3bc4c43-0225-46d3-f4ae-ffae0fb7f876"
      },
      "execution_count": null,
      "outputs": [
        {
          "output_type": "stream",
          "name": "stdout",
          "text": [
            "['ALFRED', 'TABITHA', 'WILLIAM', 'ARLA']\n"
          ]
        }
      ]
    },
    {
      "cell_type": "markdown",
      "source": [
        "Which would also output the same result.Note that using the defined map() syntax aboce, func in this case is str.upper and iterables is the my_pets list -- just one iterabe. Also note that we did not call the str.upper function (doing this:str.upper()), as the map function does that for us on each element in the my_pets list.\n",
        "\n"
      ],
      "metadata": {
        "id": "nd-MJT0Zt1et"
      }
    },
    {
      "cell_type": "markdown",
      "source": [
        "What's mor eimportant to note is that the str.upper function requires only one argument by definition and so we passed just one iterable to it So if the function you're passing requires two, or three, or n arguments, then you need to pass in two, three or n iterables to it, Let me clarify this with another example,"
      ],
      "metadata": {
        "id": "4CTn4E0Hudt8"
      }
    },
    {
      "cell_type": "markdown",
      "source": [
        "Say I have a list of circle areas that I calculated someWhere, all in five decimal places, And I need to round each element in the list up to its position decimal places, meaning that I have to round up the first element in the list to one decimal places, etc. With map() this is a piece of cake. "
      ],
      "metadata": {
        "id": "_ALHsMKCvbFP"
      }
    },
    {
      "cell_type": "code",
      "source": [
        "circle_areas = [3.5673, 5.57668, 4.00914, 56.24241, 9.01344, 32.00013]\n",
        "\n",
        "result = list(map(round, circle_areas, range(1, 7)))\n",
        "\n",
        "print(result)"
      ],
      "metadata": {
        "colab": {
          "base_uri": "https://localhost:8080/"
        },
        "id": "fcfGe310vDLI",
        "outputId": "b435c4f6-52dd-4344-b864-db6b028711a6"
      },
      "execution_count": null,
      "outputs": [
        {
          "output_type": "stream",
          "name": "stdout",
          "text": [
            "[3.6, 5.58, 4.009, 56.2424, 9.01344, 32.00013]\n"
          ]
        }
      ]
    },
    {
      "cell_type": "code",
      "source": [
        "circle_areas = [3.56773, 5.57668, 4.00914, 56.24241, 9.01344, 32.00013]\n",
        "\n",
        "result = list(map(round, circle_areas, range(1, 3)))\n",
        "\n",
        "print(result)"
      ],
      "metadata": {
        "colab": {
          "base_uri": "https://localhost:8080/"
        },
        "id": "Uu8tMfTEu79W",
        "outputId": "10b94f82-f4b4-430f-e284-3a9e8fbc3400"
      },
      "execution_count": null,
      "outputs": [
        {
          "output_type": "stream",
          "name": "stdout",
          "text": [
            "[3.6, 5.58]\n"
          ]
        }
      ]
    },
    {
      "cell_type": "markdown",
      "source": [
        "The same thing happens if circle_areas is less than the length of the second iterable. Python simply stops when it can't find the next element in one of the iterables,\n",
        "\n",
        "To consolidate our knowledge of the map() function,we are going to use it to implement our own custom zip() function, The zip() function is a function that takes a number of iterables and then creates a tuple containing each of the elements in the iterables, Like map(), in Python 3, it returns a genertor object, which can be eaasily converted to a list by calling the built-in list function on it, Use the below interpreter session to get a grip of zip() before we create ours with map()"
      ],
      "metadata": {
        "id": "vFuJg2GJALP6"
      }
    },
    {
      "cell_type": "code",
      "source": [
        "my_strings = ['a','b','c','d','e']\n",
        "my_numbers = [1,2,3,4,5]\n",
        "\n",
        "results = list(zip(my_strings, my_numbers))\n",
        "\n",
        "print(results)"
      ],
      "metadata": {
        "colab": {
          "base_uri": "https://localhost:8080/"
        },
        "id": "LDuWH1LCALq4",
        "outputId": "38971bb1-ebbc-428b-c22d-478f0d68ba0c"
      },
      "execution_count": null,
      "outputs": [
        {
          "output_type": "stream",
          "name": "stdout",
          "text": [
            "[('a', 1), ('b', 2), ('c', 3), ('d', 4), ('e', 5)]\n"
          ]
        }
      ]
    },
    {
      "cell_type": "code",
      "source": [
        "my_strings = ['a','b','c','d','e']\n",
        "my_numbers = [1,2,3,4,5]\n",
        "\n",
        "results = list(map(lambda x, y: (x,y), my_strings, my_numbers))\n",
        "\n",
        "print(results)"
      ],
      "metadata": {
        "colab": {
          "base_uri": "https://localhost:8080/"
        },
        "id": "mZkrypvIBype",
        "outputId": "df0e5aab-d161-43dc-d2d8-690d569ec5c5"
      },
      "execution_count": null,
      "outputs": [
        {
          "output_type": "stream",
          "name": "stdout",
          "text": [
            "[('a', 1), ('b', 2), ('c', 3), ('d', 4), ('e', 5)]\n"
          ]
        }
      ]
    },
    {
      "cell_type": "markdown",
      "source": [
        "Just look at that! We have the same result as zip.\n",
        "\n",
        "Did you also notice that I didn't ecen need to create a function using the def my_function() standard way? That's how flexible map(), and Python in general, is | simply used a lambda function,\n",
        "\n",
        "This is not to say that using the standard function definition method (of def function_name()) isn't allowed, it still is, I simply preferred to write less code (be \"Pythonic\").\n",
        "\n",
        "That's all about map, Onto filter()"
      ],
      "metadata": {
        "id": "veY-yUmZCO6y"
      }
    },
    {
      "cell_type": "markdown",
      "source": [
        "**Filter**"
      ],
      "metadata": {
        "id": "4oed0dLjC_77"
      }
    },
    {
      "cell_type": "markdown",
      "source": [
        "反復可能オブジェクトの各要素を関数に渡し、関数を通過したすべての要素の結果を返す。\n",
        "\n",
        "まず関数がブール値を返し、次に反復可能オブジェクトの各要素を関数に渡し、falseの要素をフィルタリングする必要がある。\n",
        "\n",
        "構文\n",
        "\n",
        "map()filter()\n",
        "\n",
        "filter(func, iterable)\n",
        "\n",
        "注意点\n",
        "\n",
        "1. map()とは異なり、イテラブルは一つだけ必要\n",
        "\n",
        "2. 引数はブール型を返すために必要　そうでない場合は単に渡されたものを返す。\n",
        "また、必要な反復可能値は１つだけなので、引数を１つだけとらなければならないのは暗黙的\n",
        "funcfilteriterablefunc\n",
        "\n",
        "3. filter反復可能な各要素を通してtrueと評価された要素のみを返す。\n",
        "\n",
        "例\n",
        "\n",
        "試験を受けた10人の学生のうち、75点以上（合格）した生徒を抽出する"
      ],
      "metadata": {
        "id": "AdlpkIZpDB42"
      }
    },
    {
      "cell_type": "code",
      "source": [
        "scores = [66, 90, 57, 59, 76, 60, 88, 64, 81, 65]\n",
        "\n",
        "def is_A_student(score):\n",
        "  return score > 75\n",
        "over_75 = list(filter(is_A_student, scores))\n",
        "\n",
        "print(over_75)"
      ],
      "metadata": {
        "colab": {
          "base_uri": "https://localhost:8080/"
        },
        "id": "27Qpq9dYEtvU",
        "outputId": "7b2846f2-0ef6-4200-bcca-77e19a5ac9d1"
      },
      "execution_count": null,
      "outputs": [
        {
          "output_type": "stream",
          "name": "stdout",
          "text": [
            "[90, 76, 88, 81]\n"
          ]
        }
      ]
    },
    {
      "cell_type": "markdown",
      "source": [
        "回文を検出する例"
      ],
      "metadata": {
        "id": "YjgMBUTKFRDG"
      }
    },
    {
      "cell_type": "code",
      "source": [
        "dromes = ('demigod','rewire','madam','freer','anutforajaroftuna','kiosk')\n",
        "\n",
        "palindromes = list(filter(lambda word: word == word[::-1], dromes))\n",
        "\n",
        "print(palindromes)"
      ],
      "metadata": {
        "colab": {
          "base_uri": "https://localhost:8080/"
        },
        "id": "XgLVIrADFXRT",
        "outputId": "78296077-5f8f-4b49-af10-07be4d7ba510"
      },
      "execution_count": null,
      "outputs": [
        {
          "output_type": "stream",
          "name": "stdout",
          "text": [
            "['madam', 'anutforajaroftuna']\n"
          ]
        }
      ]
    },
    {
      "cell_type": "markdown",
      "source": [
        "**Reduce**"
      ],
      "metadata": {
        "id": "_QpNRUN7GDzQ"
      }
    },
    {
      "cell_type": "markdown",
      "source": [
        "2つの引数の関数を反復可能オブジェクトの要素に累積的に適用し、必要に応じて最初の引数から開始する。　\n",
        "\n",
        "構文\n",
        "\n",
        "reduce(func, iterable[, initial])\n",
        "\n",
        "ここで、funcは各要素が累積的に適用される関数であり、iterableは計算で反復可能オブジェクトが空のときのデフフォルトとして機能します。\n",
        "\n",
        "注意点\n",
        "\n",
        "1. func requires two argunments,the first of which is the first element in iterable(if initial is not supplied) and the second element in iterale. if initial is suplied, then it becomes the first argument to func and the first element in iterable becomes the second element,\n",
        "\n",
        "2, reduce 'reduces'(I know, forgive me) iterable into a single value,\n",
        "\n",
        "As usual, let's see some examples,\n",
        "\n",
        "Let's create our own cersion of Python's built-in sum() function, The sum() function returns the sum of all the items in the iterable passed to it,\n",
        "\n"
      ],
      "metadata": {
        "id": "NDy3-fLpGG3C"
      }
    },
    {
      "cell_type": "code",
      "source": [
        "from functools import reduce\n",
        "\n",
        "numbers = [3,4,6,9,34,12]"
      ],
      "metadata": {
        "id": "9-l0izafHpwV"
      },
      "execution_count": null,
      "outputs": []
    },
    {
      "cell_type": "markdown",
      "source": [
        "The result, as you'll expect is 68,\n",
        "\n",
        "So,what happened?\n",
        "\n",
        "As usual, it's all about iterations: reduce takes the first and second elements in numbers and passes them to custom_sum respectively, custom_sum computes their sum and returns it to reduce, reduce then takes that result and applies it as the first element to custom_sum and takes the next element(third) in numbers as the second element to custom_sum, It does this continuously(cumulatively) until numbers is exhausted,\n",
        "\n"
      ],
      "metadata": {
        "id": "DuIDRwWNH9Kf"
      }
    },
    {
      "cell_type": "code",
      "source": [
        "from functools import reduce\n",
        "numbers = [3, 4 ,6, 9, 34, 12]\n",
        "\n",
        "def custom_sum(first, second):\n",
        "    return first + second\n",
        "\n",
        "result = reduce(custom_sum, numbers, 10)\n",
        "print(result)"
      ],
      "metadata": {
        "colab": {
          "base_uri": "https://localhost:8080/"
        },
        "id": "9KVBmqcXIpnk",
        "outputId": "e619151b-2ce6-4af4-a568-154329405e8e"
      },
      "execution_count": null,
      "outputs": [
        {
          "output_type": "stream",
          "name": "stdout",
          "text": [
            "78\n"
          ]
        }
      ]
    },
    {
      "cell_type": "code",
      "source": [
        "#### Map\n",
        "from functools import reduce\n",
        "\n",
        "my_floats = [4.35, 6.09, 3.25, 9.77, 2.16, 8.88, 4.59]\n",
        "my_names = [\"olumide\", \"akinremi\", \"josiah\", \"temidayo\", \"omoseun\"]\n",
        "my_numbers = [4, 6, 9, 23, 5]\n",
        "\n",
        "map_result = list(map(lambda x: round(x ** 2,3), my_floats))\n",
        "filter_result = list(filter(lambda name: len(name) <= 7, my_names))\n",
        "reduce_result = reduce(lambda num1, num2: num1 * num2, my_numbers)\n",
        "\n",
        "print(map_result)\n",
        "print(filter_result)\n",
        "print(reduce_result)"
      ],
      "metadata": {
        "colab": {
          "base_uri": "https://localhost:8080/"
        },
        "id": "V7alEvtwJJU4",
        "outputId": "7d78e07b-7694-45c1-abdc-c84d838249bc"
      },
      "execution_count": null,
      "outputs": [
        {
          "output_type": "stream",
          "name": "stdout",
          "text": [
            "[18.922, 37.088, 10.562, 95.453, 4.666, 78.854, 21.068]\n",
            "['olumide', 'josiah', 'omoseun']\n",
            "24840\n"
          ]
        }
      ]
    },
    {
      "cell_type": "markdown",
      "source": [
        "# PANDASのサンプル"
      ],
      "metadata": {
        "id": "v_QRhXxKN5ka"
      }
    },
    {
      "cell_type": "markdown",
      "source": [
        "DataFrame"
      ],
      "metadata": {
        "id": "M39Lf5rYVh15"
      }
    },
    {
      "cell_type": "code",
      "source": [
        "import pandas as pd\n",
        "\n",
        "index = [2017,2018,2019,2020]\n",
        "columns = [\"部員数\", \"マネージャー数\", \"成績\",]\n",
        "\n",
        "data = [\n",
        "      [30, 2, \"１回戦負け\"],\n",
        "    [35, 0, \"3回戦負け\"],\n",
        "    [50, 1, \"準優勝\"],\n",
        "    [70, 5, \"優勝\"]\n",
        "]\n",
        "\n",
        "df = pd.DataFrame(data=data, index=index, columns=columns)\n",
        "print(df)\n",
        "\n"
      ],
      "metadata": {
        "colab": {
          "base_uri": "https://localhost:8080/"
        },
        "id": "l7O8io6iN7pM",
        "outputId": "a97bf869-739a-4134-c8cd-586deab45512"
      },
      "execution_count": null,
      "outputs": [
        {
          "output_type": "stream",
          "name": "stdout",
          "text": [
            "      部員数  マネージャー数     成績\n",
            "2017   30        2  １回戦負け\n",
            "2018   35        0  3回戦負け\n",
            "2019   50        1    準優勝\n",
            "2020   70        5     優勝\n"
          ]
        }
      ]
    },
    {
      "cell_type": "markdown",
      "source": [
        "**ファイルの読み込み・書き出し**"
      ],
      "metadata": {
        "id": "jENLXeO7Vm2E"
      }
    },
    {
      "cell_type": "markdown",
      "source": [
        "読み込み\n",
        "（読み込みたいファイルがコード書くファイルと同階層に存在する場合はファイルパスの記載は不要\n",
        "\n",
        "pd.read_ファイル形式(\"ファイルのパス/ファイル名\")"
      ],
      "metadata": {
        "id": "TjcZDZNeVrw1"
      }
    },
    {
      "cell_type": "markdown",
      "source": [
        "**CSVファイルを読み込む**"
      ],
      "metadata": {
        "id": "E-v9d3WUWANo"
      }
    },
    {
      "cell_type": "code",
      "source": [
        "#Import pandas as pd pandasをpdという別名で読み込む\n",
        "import pandas as pd\n",
        "#Import the employee.csv data: employee\n",
        "employee = pd.read_csv('employee.csv')\n",
        "\n",
        "#Print out employee\n",
        "print(employee)"
      ],
      "metadata": {
        "colab": {
          "base_uri": "https://localhost:8080/"
        },
        "id": "eyS_TtyrWDQM",
        "outputId": "3d9ae5cb-ba31-4cc2-8e42-400c6798f134"
      },
      "execution_count": null,
      "outputs": [
        {
          "output_type": "stream",
          "name": "stdout",
          "text": [
            "   Unnamed: 0  id  name       job\n",
            "0           0   1  John  Engineer\n",
            "1           1   2  Lily     Sales\n"
          ]
        }
      ]
    },
    {
      "cell_type": "markdown",
      "source": [
        "指定した列を出力"
      ],
      "metadata": {
        "id": "ExXJDWi0_hOi"
      }
    },
    {
      "cell_type": "code",
      "source": [
        "import pandas as pd\n",
        "\n",
        "df = pd.read_csv('employee.csv')\n",
        "\n",
        "#列を指定して出力\n",
        "print('---select column')\n",
        "print(df['name'])\n",
        "print('---')\n",
        "\n"
      ],
      "metadata": {
        "colab": {
          "base_uri": "https://localhost:8080/"
        },
        "id": "KVgjVPup_jof",
        "outputId": "89e76fad-b2fc-4bf9-98f8-419ea0c2b261"
      },
      "execution_count": null,
      "outputs": [
        {
          "output_type": "stream",
          "name": "stdout",
          "text": [
            "---select column\n",
            "0    John\n",
            "1    Lily\n",
            "Name: name, dtype: object\n",
            "---\n"
          ]
        }
      ]
    },
    {
      "cell_type": "markdown",
      "source": [
        "指定した行を出力"
      ],
      "metadata": {
        "id": "aMFznJFg_-vn"
      }
    },
    {
      "cell_type": "code",
      "source": [
        "import pandas as pd\n",
        "\n",
        "df = pd.read_csv('employee.csv')\n",
        "\n",
        "print(\"---select row\")\n",
        "print(df.loc[0])"
      ],
      "metadata": {
        "colab": {
          "base_uri": "https://localhost:8080/"
        },
        "id": "CBVr_5NCABP3",
        "outputId": "2a500307-d535-4e0f-a223-6a32b39df948"
      },
      "execution_count": null,
      "outputs": [
        {
          "output_type": "stream",
          "name": "stdout",
          "text": [
            "---select row\n",
            "Unnamed: 0           0\n",
            "id                   1\n",
            "name              John\n",
            "job           Engineer\n",
            "Name: 0, dtype: object\n"
          ]
        }
      ]
    },
    {
      "cell_type": "markdown",
      "source": [
        "ソートして出力"
      ],
      "metadata": {
        "id": "BWxozFAiATT4"
      }
    },
    {
      "cell_type": "code",
      "source": [
        "#昇順\n",
        "df = df.sort_values('col_name')\n",
        "#降順\n",
        "df = df.sort_values('col_name',ascending=False)"
      ],
      "metadata": {
        "id": "4U3NzFfzAusP"
      },
      "execution_count": null,
      "outputs": []
    },
    {
      "cell_type": "markdown",
      "source": [
        "書き出し\n",
        "（書き出したファイルをコードのファイルと同階層に保存する場合はファイルパスの記載は不要"
      ],
      "metadata": {
        "id": "oHAlNHfuWpOn"
      }
    },
    {
      "cell_type": "markdown",
      "source": [
        "**CSVファイルを書き出す**"
      ],
      "metadata": {
        "id": "GSWhppQSW2Xl"
      }
    },
    {
      "cell_type": "markdown",
      "source": [
        "データフレームをcsv出力"
      ],
      "metadata": {
        "id": "TbGha69M14n5"
      }
    },
    {
      "cell_type": "code",
      "source": [
        "import pandas as pd\n",
        "df = pd.DataFrame([\n",
        "    ['0001', \"John\", \"Engineer\"],\n",
        "  [\"0002\", \"Lily\", \"Sales\"]],\n",
        "  columns=['id', 'name', 'job'])\n",
        "\n",
        "#csvファイルを書き出す処理\n",
        "df.to_csv('employee.csv')"
      ],
      "metadata": {
        "id": "SfsnQ0Ic1bjB"
      },
      "execution_count": null,
      "outputs": []
    },
    {
      "cell_type": "markdown",
      "source": [
        "出力する際のいろいろなオプション"
      ],
      "metadata": {
        "id": "7XteSAws1893"
      }
    },
    {
      "cell_type": "code",
      "source": [
        "import pandas as pd\n",
        "\n",
        "#書き出すDataFrameを定義\n",
        "index = [2017, 2018, 2019, 2020]\n",
        "columns = [\"部員数\", \"マネージャー数\", \"成績\",]\n",
        "\n",
        "data = [\n",
        "    [30, 2, \"１回戦負け\"],\n",
        "    [35, 0, \"3回戦負け\"],\n",
        "    [50, 1, \"準優勝\"],\n",
        "    [70, 5, \"優勝\"]\n",
        "]\n",
        "\n",
        "df = pd.DataFrame(data=data, index=index, columns=columns)\n",
        "\n",
        "#csvファイルを書き出す処理\n",
        "#内容に日本語を含む際はencodingオプションでutf-8を指定する\n",
        "df.to_csv(\"sample.csv\", encoding=\"utf-8\")"
      ],
      "metadata": {
        "id": "4ZC2NLjbW52e"
      },
      "execution_count": null,
      "outputs": []
    },
    {
      "cell_type": "markdown",
      "source": [
        "すでに存在するファイルに対して追記して上書きする場合"
      ],
      "metadata": {
        "id": "7KEmAyg45dvK"
      }
    },
    {
      "cell_type": "code",
      "source": [
        "import pandas as pd\n",
        "\n",
        "df = pd.DataFrame([\n",
        "  [\"0001\", \"ジョン\", \"Engineer\"],\n",
        "  [\"0002\", \"リリィ\", \"Sales\"]],\n",
        "  columns=['id','name','job'])\n",
        "w = pd.DataFrame([['0003','ジョー','Teacher']])\n",
        "\n",
        "  #CSVファイルを出力\n",
        "  #df.to_csv('employee.csv', index=False, encoding='utf=8',mode='a')\n",
        "\n",
        "  #CSVファイル(employee)に追記\n",
        "w.to_csv('employee.csv',index=False, encoding='utf-8',mode='a',header=False)"
      ],
      "metadata": {
        "id": "Bj0UM6LH5hcQ"
      },
      "execution_count": null,
      "outputs": []
    },
    {
      "cell_type": "markdown",
      "source": [
        "書き出し先にインデックスを表示しない場合"
      ],
      "metadata": {
        "id": "ntzwyggDXsKW"
      }
    },
    {
      "cell_type": "code",
      "source": [
        "df.read_csv(\"sample.csv\", index=False)"
      ],
      "metadata": {
        "id": "TNIxedCFXv3-"
      },
      "execution_count": null,
      "outputs": []
    },
    {
      "cell_type": "markdown",
      "source": [
        "書き出し先にカラムを表示しない場合"
      ],
      "metadata": {
        "id": "q54obvxYX24q"
      }
    },
    {
      "cell_type": "code",
      "source": [
        "df.read_csv(\"sample.csv\", header=False)"
      ],
      "metadata": {
        "id": "Y6QZ8dWtX7MI"
      },
      "execution_count": null,
      "outputs": []
    },
    {
      "cell_type": "markdown",
      "source": [
        "どちらも表示しない場合"
      ],
      "metadata": {
        "id": "sxkdn109X-IH"
      }
    },
    {
      "cell_type": "code",
      "source": [
        "df.read_csv(\"sample\", index=False, header=False)"
      ],
      "metadata": {
        "id": "VIgRbVZFYAbX"
      },
      "execution_count": null,
      "outputs": []
    },
    {
      "cell_type": "markdown",
      "source": [
        "書き出し先のインデックスに名前をつける場合"
      ],
      "metadata": {
        "id": "iK-8aavRQ2FA"
      }
    },
    {
      "cell_type": "code",
      "source": [
        "df.to_csv('some2.csv', index_label='date')"
      ],
      "metadata": {
        "id": "7U_WH-UZQ7FD"
      },
      "execution_count": null,
      "outputs": []
    },
    {
      "cell_type": "markdown",
      "source": [
        "欠損値(NaN)のある行を削除"
      ],
      "metadata": {
        "id": "WZYBDNjKRFId"
      }
    },
    {
      "cell_type": "code",
      "source": [
        "df = df.dropna()"
      ],
      "metadata": {
        "id": "Gr2gIXN6RKuB"
      },
      "execution_count": null,
      "outputs": []
    },
    {
      "cell_type": "markdown",
      "source": [
        "特定のカラムに欠損値のある行を削除"
      ],
      "metadata": {
        "id": "EKiNni0uRPOs"
      }
    },
    {
      "cell_type": "code",
      "source": [
        "#tempかdepthに欠損値がある行は削除\n",
        "#それ以外のカラムのみが欠損の行は削除されない"
      ],
      "metadata": {
        "id": "S1OstkCCRTpP"
      },
      "execution_count": null,
      "outputs": []
    },
    {
      "cell_type": "code",
      "source": [
        "df = df.dropna(subset=['temp','depth'])"
      ],
      "metadata": {
        "id": "qXeJ2KfkRdpn"
      },
      "execution_count": null,
      "outputs": []
    },
    {
      "cell_type": "markdown",
      "source": [
        "欠損値の穴埋め"
      ],
      "metadata": {
        "id": "rw8AR01tRk97"
      }
    },
    {
      "cell_type": "code",
      "source": [
        "#欠損値を0で埋める\n",
        "df = df.fillna(0)"
      ],
      "metadata": {
        "id": "v4YVoxJHRnbv"
      },
      "execution_count": null,
      "outputs": []
    },
    {
      "cell_type": "markdown",
      "source": [
        "一時間ごとのデータを日平均に変換"
      ],
      "metadata": {
        "id": "A4FX8zf4RyO2"
      }
    },
    {
      "cell_type": "code",
      "source": [
        "daily = hourly.resample('0').mean()"
      ],
      "metadata": {
        "id": "uK4fqaW2R5Q-"
      },
      "execution_count": null,
      "outputs": []
    },
    {
      "cell_type": "markdown",
      "source": [
        "グループ化して各グループごとの平均を取る"
      ],
      "metadata": {
        "id": "I03el7j8SKfA"
      }
    },
    {
      "cell_type": "code",
      "source": [
        "grouped_mean = df.groupby(['type','time']).mean()"
      ],
      "metadata": {
        "id": "lWsDotbiSSC_"
      },
      "execution_count": null,
      "outputs": []
    },
    {
      "cell_type": "markdown",
      "source": [
        "irisというデータセットを使う"
      ],
      "metadata": {
        "id": "XaMZT_qAYPdF"
      }
    },
    {
      "cell_type": "code",
      "source": [
        "from sklearn.datasets import load_iris\n",
        "import pandas as pd\n",
        "\n",
        "#irisデータセットをirisに格納\n",
        "iris = load_iris()\n",
        "\n",
        "#irisデータセットをDataFrameに変換\n",
        "df = pd.DataFrame(iris,data, columns=iris.feature_names)\n",
        "\n",
        "\n",
        "\n",
        "print(df)"
      ],
      "metadata": {
        "colab": {
          "base_uri": "https://localhost:8080/"
        },
        "id": "iG8cinehYPxF",
        "outputId": "1a2796ee-ecf9-42f2-c594-312469374986"
      },
      "execution_count": null,
      "outputs": [
        {
          "output_type": "stream",
          "name": "stdout",
          "text": [
            "                   sepal length (cm) sepal width (cm) petal length (cm)  \\\n",
            "30    35    50  70               NaN              NaN               NaN   \n",
            "2     0     1   5                NaN              NaN               NaN   \n",
            "１回戦負け 3回戦負け 準優勝 優勝               NaN              NaN               NaN   \n",
            "\n",
            "                   petal width (cm)  \n",
            "30    35    50  70              NaN  \n",
            "2     0     1   5               NaN  \n",
            "１回戦負け 3回戦負け 準優勝 優勝              NaN  \n"
          ]
        }
      ]
    },
    {
      "cell_type": "code",
      "source": [
        "len(iris)\n",
        "\n",
        "\n"
      ],
      "metadata": {
        "colab": {
          "base_uri": "https://localhost:8080/"
        },
        "id": "SI6w-uPBZRpZ",
        "outputId": "351f08ef-0bd4-4129-b0db-99153b8384e9"
      },
      "execution_count": null,
      "outputs": [
        {
          "output_type": "execute_result",
          "data": {
            "text/plain": [
              "8"
            ]
          },
          "metadata": {},
          "execution_count": 77
        }
      ]
    },
    {
      "cell_type": "markdown",
      "source": [
        "複数column(dateとhourをまとめてdatetime型のindex(date_hour)として読み込む"
      ],
      "metadata": {
        "id": "FQumeNr8bzLW"
      }
    },
    {
      "cell_type": "code",
      "source": [
        "df = pd.read_csv('some.csv', parse_dates={'date_hour':['date','hour']}, index_col='date_hour')\n"
      ],
      "metadata": {
        "id": "6hb-AT9yQdmR"
      },
      "execution_count": null,
      "outputs": []
    },
    {
      "cell_type": "code",
      "source": [
        "import pandas as pd\n",
        "\n",
        "data = pd.read_csv(\"sample.csv\", encoding=\"cp932\")\n",
        "#encoding=\"cp932\"がないと文字化けすることがある\n",
        "\n",
        "print(type(data))\n",
        "\n",
        "#出力\n",
        "#CSVファイルを読み込むとDataFrame型で読み込まれる\n",
        "<class 'pandas.core.frame.DataFrame'>"
      ],
      "metadata": {
        "colab": {
          "base_uri": "https://localhost:8080/",
          "height": 135
        },
        "id": "-14QlTpdb0-R",
        "outputId": "0782e3a0-cf3f-46b8-f911-b73b743768ab"
      },
      "execution_count": null,
      "outputs": [
        {
          "output_type": "error",
          "ename": "SyntaxError",
          "evalue": "ignored",
          "traceback": [
            "\u001b[0;36m  File \u001b[0;32m\"<ipython-input-81-c22fe77b372f>\"\u001b[0;36m, line \u001b[0;32m10\u001b[0m\n\u001b[0;31m    <class 'pandas.core.frame.DataFrame'>\u001b[0m\n\u001b[0m    ^\u001b[0m\n\u001b[0;31mSyntaxError\u001b[0m\u001b[0;31m:\u001b[0m invalid syntax\n"
          ]
        }
      ]
    },
    {
      "cell_type": "markdown",
      "source": [
        "ファイル名を現在日技に指定してcsv作成"
      ],
      "metadata": {
        "id": "URS7n1rOCBrr"
      }
    },
    {
      "cell_type": "code",
      "source": [
        "import datetime\n",
        "import csv\n",
        "\n",
        "#現在日時の取得\n",
        "now = datetime.datetime.now()\n",
        "\n",
        "#ディレクトリの指定\n",
        "filename = './content' + now.strftime('%Y%m%d_%H%M%S') + 'csv'\n",
        "\n",
        "#一行目（カラム）の作成\n",
        "with open(filename,'w') as f:\n",
        "  writer = csv.writer(f)\n",
        "  writer.writerow(['time','x','y','z'])\n",
        "\n",
        "  x,y,z = 0,0,0\n",
        "  while(1):\n",
        "    x += 1\n",
        "    y += 1\n",
        "    z += 3\n",
        "    now_str = datetime.datetime.now().strftime('%H:%M:%S.%f')\n",
        "\n",
        "    #filenameを作成するファイル名に合わせる\n",
        "    #writer.writerowでlistをcsvに書き込む\n",
        "    with open(filename,'a', newline='') as f:\n",
        "      writer = csv.writer(f)\n",
        "      writer.writerow([now_str, x, y, z])\n",
        "                       \n",
        "    break"
      ],
      "metadata": {
        "id": "o1h8XS6oCFEG"
      },
      "execution_count": null,
      "outputs": []
    },
    {
      "cell_type": "markdown",
      "source": [
        "\n",
        "\n",
        "# Polarsのサンプル"
      ],
      "metadata": {
        "id": "DJMvvG44KqSi"
      }
    },
    {
      "cell_type": "markdown",
      "source": [
        "irisデータセットを使用した適当なサンプル"
      ],
      "metadata": {
        "id": "WCMrqgtuKuWz"
      }
    },
    {
      "cell_type": "code",
      "source": [
        "import polars as pl\n",
        "\n",
        "df = pl.read_csv(\"https://j.mp/iriscsv\")\n",
        "df_agg = (\n",
        "    df\n",
        "    .select([pl.col(\"^sepal_.*$\"),pl.col(\"species\")])\n",
        "    .with_column((pl.col(\"sepal_width\") * 2).alias(\"new_col\"))\n",
        "    .filter(pl.col(\"sepal_length\") > 5)\n",
        "    .groupby(\"species\")\n",
        "    .agg(pl.all().mean())\n",
        ")"
      ],
      "metadata": {
        "colab": {
          "base_uri": "https://localhost:8080/",
          "height": 240
        },
        "id": "sLcWj8GiKwYs",
        "outputId": "6acccd65-a55d-42a4-9bb5-e33d63fa0e04"
      },
      "execution_count": null,
      "outputs": [
        {
          "output_type": "error",
          "ename": "NameError",
          "evalue": "ignored",
          "traceback": [
            "\u001b[0;31m---------------------------------------------------------------------------\u001b[0m",
            "\u001b[0;31mNameError\u001b[0m                                 Traceback (most recent call last)",
            "\u001b[0;32m<ipython-input-5-fb736aa976ee>\u001b[0m in \u001b[0;36m<module>\u001b[0;34m\u001b[0m\n\u001b[0;32m----> 1\u001b[0;31m \u001b[0mdf\u001b[0m \u001b[0;34m=\u001b[0m \u001b[0mpl\u001b[0m\u001b[0;34m.\u001b[0m\u001b[0mread_csv\u001b[0m\u001b[0;34m(\u001b[0m\u001b[0;34m\"https://j.mp/iriscsv\"\u001b[0m\u001b[0;34m)\u001b[0m\u001b[0;34m\u001b[0m\u001b[0;34m\u001b[0m\u001b[0m\n\u001b[0m\u001b[1;32m      2\u001b[0m df_agg = (\n\u001b[1;32m      3\u001b[0m     \u001b[0mdf\u001b[0m\u001b[0;34m\u001b[0m\u001b[0;34m\u001b[0m\u001b[0m\n\u001b[1;32m      4\u001b[0m     \u001b[0;34m.\u001b[0m\u001b[0mselect\u001b[0m\u001b[0;34m(\u001b[0m\u001b[0;34m[\u001b[0m\u001b[0mpl\u001b[0m\u001b[0;34m.\u001b[0m\u001b[0mcol\u001b[0m\u001b[0;34m(\u001b[0m\u001b[0;34m\"^sepal_.*$\"\u001b[0m\u001b[0;34m)\u001b[0m\u001b[0;34m,\u001b[0m\u001b[0mpl\u001b[0m\u001b[0;34m.\u001b[0m\u001b[0mcol\u001b[0m\u001b[0;34m(\u001b[0m\u001b[0;34m\"species\"\u001b[0m\u001b[0;34m)\u001b[0m\u001b[0;34m]\u001b[0m\u001b[0;34m)\u001b[0m\u001b[0;34m\u001b[0m\u001b[0;34m\u001b[0m\u001b[0m\n\u001b[1;32m      5\u001b[0m     \u001b[0;34m.\u001b[0m\u001b[0mwith_column\u001b[0m\u001b[0;34m(\u001b[0m\u001b[0;34m(\u001b[0m\u001b[0mpl\u001b[0m\u001b[0;34m.\u001b[0m\u001b[0mcol\u001b[0m\u001b[0;34m(\u001b[0m\u001b[0;34m\"sepal_width\"\u001b[0m\u001b[0;34m)\u001b[0m \u001b[0;34m*\u001b[0m \u001b[0;36m2\u001b[0m\u001b[0;34m)\u001b[0m\u001b[0;34m.\u001b[0m\u001b[0malias\u001b[0m\u001b[0;34m(\u001b[0m\u001b[0;34m\"new_col\"\u001b[0m\u001b[0;34m)\u001b[0m\u001b[0;34m)\u001b[0m\u001b[0;34m\u001b[0m\u001b[0;34m\u001b[0m\u001b[0m\n",
            "\u001b[0;31mNameError\u001b[0m: name 'pl' is not defined"
          ]
        }
      ]
    },
    {
      "cell_type": "markdown",
      "source": [
        "Polarsでは処理をメソッドチェーンをつないで記述することが多い。基本的には書いた処理が順に走る\n",
        "\n",
        "read_csv: データの読み込み\n",
        "select: 列の選択\n",
        "with_columns: 列の追加\n",
        "filter: 列の選択\n",
        "groupby: グループ化\n",
        "agg: 集計"
      ],
      "metadata": {
        "id": "HyB2XcheLsvC"
      }
    },
    {
      "cell_type": "markdown",
      "source": [
        "**pl.Exprを使う**\n",
        "\n",
        "amapping from a series to a series\n",
        "\n",
        "例　文字列で入っているcost列を整数に変換する"
      ],
      "metadata": {
        "id": "FQO8aY7GMIl-"
      }
    },
    {
      "cell_type": "code",
      "source": [
        "pl.col(\"cost\").str.extract(\"\\$(.*)\").cast(pl.Int64)"
      ],
      "metadata": {
        "id": "mQul-8nvMWS9"
      },
      "execution_count": null,
      "outputs": []
    },
    {
      "cell_type": "markdown",
      "source": [
        "pl.colでcost列を指定し、それに対してstr.extractで$に続く部分を抽出し、最後にcastでint型に変換している"
      ],
      "metadata": {
        "id": "gZyT0AmlMiKW"
      }
    },
    {
      "cell_type": "code",
      "source": [
        "#整数に変換した列の追加\n",
        "df.with_columns(pl.col(\"cost\").str.extract(\"\\$(.*)\").cast(pl.Int64).alias(\"cost_int\"))\n",
        "\n",
        "#コストが100ドル以上の行を選択\n",
        "df.filter(pl.col(\"cost\").str.extract(\"\\$(.*)\").cast(pl.Inte64).alias(\"cost_int\"))\n",
        "\n",
        "#店舗ごとのコストの合計を計算\n",
        "df.groupby(\"store\").agg(pl.col(\"cost\").str.extract(\"\\$(.*)\").cast(pl.Int64).sum())"
      ],
      "metadata": {
        "colab": {
          "base_uri": "https://localhost:8080/",
          "height": 240
        },
        "id": "9AFRpzUrMz0S",
        "outputId": "908d33fe-4ad2-4c76-8575-7cf5944b706d"
      },
      "execution_count": null,
      "outputs": [
        {
          "output_type": "error",
          "ename": "NameError",
          "evalue": "ignored",
          "traceback": [
            "\u001b[0;31m---------------------------------------------------------------------------\u001b[0m",
            "\u001b[0;31mNameError\u001b[0m                                 Traceback (most recent call last)",
            "\u001b[0;32m<ipython-input-7-9489d11bf4a1>\u001b[0m in \u001b[0;36m<module>\u001b[0;34m\u001b[0m\n\u001b[1;32m      1\u001b[0m \u001b[0;31m#整数に変換した列の追加\u001b[0m\u001b[0;34m\u001b[0m\u001b[0;34m\u001b[0m\u001b[0;34m\u001b[0m\u001b[0m\n\u001b[0;32m----> 2\u001b[0;31m \u001b[0mdf\u001b[0m\u001b[0;34m.\u001b[0m\u001b[0mwith_columns\u001b[0m\u001b[0;34m(\u001b[0m\u001b[0mpl\u001b[0m\u001b[0;34m.\u001b[0m\u001b[0mcol\u001b[0m\u001b[0;34m(\u001b[0m\u001b[0;34m\"cost\"\u001b[0m\u001b[0;34m)\u001b[0m\u001b[0;34m.\u001b[0m\u001b[0mstr\u001b[0m\u001b[0;34m.\u001b[0m\u001b[0mextract\u001b[0m\u001b[0;34m(\u001b[0m\u001b[0;34m\"\\$(.*)\"\u001b[0m\u001b[0;34m)\u001b[0m\u001b[0;34m.\u001b[0m\u001b[0mcast\u001b[0m\u001b[0;34m(\u001b[0m\u001b[0mpl\u001b[0m\u001b[0;34m.\u001b[0m\u001b[0mInt64\u001b[0m\u001b[0;34m)\u001b[0m\u001b[0;34m.\u001b[0m\u001b[0malias\u001b[0m\u001b[0;34m(\u001b[0m\u001b[0;34m\"cost_int\"\u001b[0m\u001b[0;34m)\u001b[0m\u001b[0;34m)\u001b[0m\u001b[0;34m\u001b[0m\u001b[0;34m\u001b[0m\u001b[0m\n\u001b[0m\u001b[1;32m      3\u001b[0m \u001b[0;34m\u001b[0m\u001b[0m\n\u001b[1;32m      4\u001b[0m \u001b[0;31m#コストが100ドル以上の行を選択\u001b[0m\u001b[0;34m\u001b[0m\u001b[0;34m\u001b[0m\u001b[0;34m\u001b[0m\u001b[0m\n",
            "\u001b[0;31mNameError\u001b[0m: name 'df' is not defined"
          ]
        }
      ]
    },
    {
      "cell_type": "markdown",
      "source": [
        "# サンプル"
      ],
      "metadata": {
        "id": "RPK6CL-ZjtLq"
      }
    },
    {
      "cell_type": "code",
      "source": [
        "a='Hello'\n",
        "b='World'\n",
        "\n",
        "#文字の連結\n",
        "c=a+b\n",
        "print('%s+%s=%s'%(a,b,c))\n",
        "\n",
        "#文字列の繰り返し\n",
        "#f=a*10 \n",
        "#print(f)\n",
        "\n",
        "d=format('%s %s' % (a,b))\n",
        "print(d)\n",
        "\n",
        "\n",
        "#文字列の置換\n",
        "g=b.replace('or','OR')\n",
        "print(g)\n"
      ],
      "metadata": {
        "colab": {
          "base_uri": "https://localhost:8080/"
        },
        "id": "AZkmkcfnjyM9",
        "outputId": "c34a551b-10c4-4875-a672-dd5dcd7a708f"
      },
      "execution_count": null,
      "outputs": [
        {
          "output_type": "stream",
          "name": "stdout",
          "text": [
            "Hello+World=HelloWorld\n",
            "Hello World\n",
            "WORld\n"
          ]
        }
      ]
    },
    {
      "cell_type": "markdown",
      "source": [
        "**if**"
      ],
      "metadata": {
        "id": "yL08QNOEmMXF"
      }
    },
    {
      "cell_type": "code",
      "source": [
        "number = 1\n",
        "\n",
        "if number == 1:\n",
        "  print('1')\n",
        "elif number == 2:\n",
        "  print('2')\n",
        "else\n",
        "  print('another')"
      ],
      "metadata": {
        "id": "TQzMje97mA4P"
      },
      "execution_count": null,
      "outputs": []
    },
    {
      "cell_type": "markdown",
      "source": [
        "**for**"
      ],
      "metadata": {
        "id": "MhdfdY-zmP1N"
      }
    },
    {
      "cell_type": "code",
      "source": [
        "for number in range(10):\n",
        "  print(number)"
      ],
      "metadata": {
        "colab": {
          "base_uri": "https://localhost:8080/"
        },
        "id": "cu2tK7d5mSAa",
        "outputId": "4c191290-9946-407c-e0ff-e1d762625ab6"
      },
      "execution_count": null,
      "outputs": [
        {
          "output_type": "stream",
          "name": "stdout",
          "text": [
            "0\n",
            "1\n",
            "2\n",
            "3\n",
            "4\n",
            "5\n",
            "6\n",
            "7\n",
            "8\n",
            "9\n"
          ]
        }
      ]
    },
    {
      "cell_type": "markdown",
      "source": [
        "**while**"
      ],
      "metadata": {
        "id": "pNVistKemdR1"
      }
    },
    {
      "cell_type": "code",
      "source": [
        "number = 0\n",
        "print('start')\n",
        "while number < 10:\n",
        "  print(number)\n",
        "  number += 1\n",
        "print('end')"
      ],
      "metadata": {
        "colab": {
          "base_uri": "https://localhost:8080/"
        },
        "id": "91UJQZscmgeV",
        "outputId": "0a38dc44-1100-44ea-eef4-b8c7044c6231"
      },
      "execution_count": null,
      "outputs": [
        {
          "output_type": "stream",
          "name": "stdout",
          "text": [
            "start\n",
            "0\n",
            "1\n",
            "2\n",
            "3\n",
            "4\n",
            "5\n",
            "6\n",
            "7\n",
            "8\n",
            "9\n",
            "end\n"
          ]
        }
      ]
    },
    {
      "cell_type": "markdown",
      "source": [
        "**関数**"
      ],
      "metadata": {
        "id": "64Nq1KCRmrde"
      }
    },
    {
      "cell_type": "code",
      "source": [
        "def func1(number1, number2):\n",
        "  answer = number1 + number2\n",
        "  return answer\n",
        "total_number = func1(8, 25)\n",
        "print(total_number)\n",
        "\n",
        "#func1が関数名 number1 と number2が引数\n",
        "#func1を呼び出すときに8と25を引数に指定しているので\n",
        "#関数内で計算された結果の33が返ってくる"
      ],
      "metadata": {
        "colab": {
          "base_uri": "https://localhost:8080/"
        },
        "id": "y1LqDcx3mtMy",
        "outputId": "87d651e9-76d8-45e9-b5e3-d2303107177f"
      },
      "execution_count": null,
      "outputs": [
        {
          "output_type": "stream",
          "name": "stdout",
          "text": [
            "33\n"
          ]
        }
      ]
    },
    {
      "cell_type": "markdown",
      "source": [],
      "metadata": {
        "id": "ob06uAWTttXK"
      }
    },
    {
      "cell_type": "code",
      "source": [
        "from flask import Flask, render_template, request\n",
        "\n",
        "#Model \n",
        "class Task:\n",
        "  def __init__(self, description, status):\n",
        "    self.description = description\n",
        "    self.status = status\n",
        "app = Flask(__name__)\n",
        "\n",
        "@app.route('/')\n",
        "def index():\n",
        "  tasks = [\n",
        "      Task('Finish homework', 'in progress'),\n",
        "      Task('Buy groceries', 'done')\n",
        "  ]\n",
        "\n",
        "  return render_template('index.html', tasks=tasks)\n",
        "\n",
        "# Controller\n",
        "\n",
        "if __name__ == '__main__':\n",
        "  app.run()"
      ],
      "metadata": {
        "colab": {
          "base_uri": "https://localhost:8080/"
        },
        "id": "RuTyvjDktuHi",
        "outputId": "f0c2ab7b-4018-4b09-a5f1-95d3c85b22f6"
      },
      "execution_count": null,
      "outputs": [
        {
          "output_type": "stream",
          "name": "stdout",
          "text": [
            " * Serving Flask app \"__main__\" (lazy loading)\n",
            " * Environment: production\n",
            "\u001b[31m   WARNING: This is a development server. Do not use it in a production deployment.\u001b[0m\n",
            "\u001b[2m   Use a production WSGI server instead.\u001b[0m\n",
            " * Debug mode: off\n"
          ]
        },
        {
          "output_type": "stream",
          "name": "stderr",
          "text": [
            "INFO:werkzeug: * Running on http://127.0.0.1:5000/ (Press CTRL+C to quit)\n"
          ]
        }
      ]
    },
    {
      "cell_type": "code",
      "source": [
        "import pandas as pd\n",
        "\n",
        "df = pd.read_csv('sample.csv')\n",
        "\n",
        "print df\n",
        "print df['A']"
      ],
      "metadata": {
        "colab": {
          "base_uri": "https://localhost:8080/",
          "height": 135
        },
        "id": "67Pgeo4MvOPC",
        "outputId": "9723d297-39a4-4a05-a051-a604dc610a37"
      },
      "execution_count": null,
      "outputs": [
        {
          "output_type": "error",
          "ename": "SyntaxError",
          "evalue": "ignored",
          "traceback": [
            "\u001b[0;36m  File \u001b[0;32m\"<ipython-input-96-366c1f306efd>\"\u001b[0;36m, line \u001b[0;32m5\u001b[0m\n\u001b[0;31m    print df\u001b[0m\n\u001b[0m          ^\u001b[0m\n\u001b[0;31mSyntaxError\u001b[0m\u001b[0;31m:\u001b[0m Missing parentheses in call to 'print'. Did you mean print(df)?\n"
          ]
        }
      ]
    },
    {
      "cell_type": "markdown",
      "source": [],
      "metadata": {
        "id": "v6691yV8QG7o"
      }
    },
    {
      "cell_type": "code",
      "source": [
        "pop = {'Nevada' : {2001 : 2.4, 2002 : 2.9},\n",
        "       'Ohio' : {2000 : 1.5, 2001 : 1.7 }}\n",
        "       df = DataFrame(pop)\n",
        "       df[df['Nevada'] > 2]\n",
        "       df,iloc[-1:]['Nevada']"
      ],
      "metadata": {
        "id": "q2XwD5MDk7HQ"
      },
      "execution_count": null,
      "outputs": []
    },
    {
      "cell_type": "markdown",
      "source": [
        "# sandbox\n"
      ],
      "metadata": {
        "id": "PWlYr971kn9o"
      }
    },
    {
      "cell_type": "markdown",
      "source": [],
      "metadata": {
        "id": "TInZ6FYPFIeZ"
      }
    },
    {
      "cell_type": "code",
      "source": [
        "import pandas as pd\n",
        "\n",
        "print(pd.__version__)\n",
        "\n",
        "df = pd.read_csv('/content/sample2.csv')"
      ],
      "metadata": {
        "id": "K4A6L6_SFJGM"
      },
      "execution_count": null,
      "outputs": []
    },
    {
      "cell_type": "code",
      "source": [
        "x = int(input(\"Please enter an integer:\"))\n",
        "if x < 0 :\n",
        "  x = 0\n",
        "  print('Negative changed to zero')\n",
        "\n",
        "elif x == 0:\n",
        "  print('Zero')\n",
        "\n",
        "else:\n",
        "  print(\"more\")"
      ],
      "metadata": {
        "colab": {
          "base_uri": "https://localhost:8080/"
        },
        "id": "Oh-UVE0Zkq43",
        "outputId": "bc2322f6-b988-4b0d-8a12-868e10911ba6"
      },
      "execution_count": null,
      "outputs": [
        {
          "output_type": "stream",
          "name": "stdout",
          "text": [
            "Please enter an integer:0\n",
            "Zero\n"
          ]
        }
      ]
    },
    {
      "cell_type": "code",
      "source": [
        "words = ['cat','window','defenestrate']\n",
        "for w in words:\n",
        "  print(w, len(w))\n",
        "\n"
      ],
      "metadata": {
        "colab": {
          "base_uri": "https://localhost:8080/"
        },
        "id": "o7ByVCuKlIt2",
        "outputId": "f2466551-d785-445c-9659-aaa818df79c8"
      },
      "execution_count": null,
      "outputs": [
        {
          "output_type": "stream",
          "name": "stdout",
          "text": [
            "cat 3\n",
            "window 6\n",
            "defenestrate 12\n"
          ]
        }
      ]
    },
    {
      "cell_type": "code",
      "source": [
        "#Create a sample collection\n",
        "users = {'Hans': 'active','Eleonore': 'inactive'}\n",
        "\n",
        "#Strategy Iterate over a copy\n",
        "for user, status in users.copy().items():\n",
        "  if status == 'inactive':\n",
        "    del users[user]\n",
        "\n",
        "#Strategy Create a new collection\n",
        "active_users = {}\n",
        "for user, status in users.items():\n",
        "  if status == 'active':\n",
        "    active_users[user] = status"
      ],
      "metadata": {
        "id": "mgUsGElwlcPE"
      },
      "execution_count": null,
      "outputs": []
    },
    {
      "cell_type": "markdown",
      "source": [
        "関数の定義\n",
        "\n",
        "フィボナッチ数列を任意の上限値まで書き出す関数"
      ],
      "metadata": {
        "id": "MPpbARgnnQIO"
      }
    },
    {
      "cell_type": "code",
      "source": [
        "def fib(n):\n",
        "  #write Fibonacci series up to n\n",
        "\n",
        "  a, b = 0, 1\n",
        "  while a < n:\n",
        "    print(a, end=' ')\n",
        "    a, b = b, a+b\n",
        "  print()\n",
        "  #Now call the functin we just defined:\n",
        "  fib(2000)"
      ],
      "metadata": {
        "id": "D6lzxs8fmg91"
      },
      "execution_count": null,
      "outputs": []
    },
    {
      "cell_type": "markdown",
      "source": [
        "defは関数を定義するキーワード\n",
        "defの後には関数名と仮引数を（）で囲んだリストを続けて記述しなければならない。\n",
        "\n",
        "関数の本体の最初の行は文字列リテラルにすることも可能。その場合その文字列は関数のドキュメンテーション文字列(documentation string)またはdocstringと呼ばれる。\n"
      ],
      "metadata": {
        "id": "aywdoKmtnbEV"
      }
    },
    {
      "cell_type": "markdown",
      "source": [
        "関数を実行(execution)するとき関数のローカル変数のために使われる新たなシンボルテーブルが用意される。\n",
        "\n",
        "関数内で変数への代入を行うと、その値はすべてこのシンボルテーブルに記憶される。\n",
        "\n",
        "関数のなかではグローバル変数や外側の関数の変数に直接値を代入することはできないが、参照することは可能。\n",
        "\n"
      ],
      "metadata": {
        "id": "r0FZ0G1Rn_LU"
      }
    },
    {
      "cell_type": "code",
      "source": [
        "def fib2(n):\n",
        "  # retrun Fibonacci series up tp n\n",
        "\n",
        "  result = []\n",
        "  a, b = 0, 1\n",
        "  while a < n:\n",
        "    result.append(a) # see below\n",
        "    a, b = b, a+b\n",
        "  return result\n",
        "\n",
        "f100 = fib2(100) #call it\n",
        "f100             # write the result"
      ],
      "metadata": {
        "colab": {
          "base_uri": "https://localhost:8080/"
        },
        "id": "u01It0IEohaK",
        "outputId": "32b2bfa8-7dd9-4dad-85b4-5f520af89cad"
      },
      "execution_count": null,
      "outputs": [
        {
          "output_type": "execute_result",
          "data": {
            "text/plain": [
              "[0, 1, 1, 2, 3, 5, 8, 13, 21, 34, 55, 89]"
            ]
          },
          "metadata": {},
          "execution_count": 17
        }
      ]
    },
    {
      "cell_type": "markdown",
      "source": [
        "return文では関数から値を一つ返す\n",
        "returnの引数となる式がない場合はNoneが返る\n",
        "関数が終了したときもNoneが返る。"
      ],
      "metadata": {
        "id": "kw7yF8SypCUq"
      }
    },
    {
      "cell_type": "markdown",
      "source": [
        "デフォルトの引数値\n",
        "一つ以上の引数に対してデフォルトの値を指定する形式を使うと、定義されている引数より少ない個数の引数で呼び出せる関数が作成される"
      ],
      "metadata": {
        "id": "RRTBLylfpTxk"
      }
    },
    {
      "cell_type": "code",
      "source": [
        "def ask_ok(prompt, retries=4, reminder='Please try again'):\n",
        "  while True:\n",
        "    ok = input(prompt)\n",
        "    if ok in ('y','ye','yes'):\n",
        "      return True\n",
        "    if ok in ('n','no','nop','nope'):\n",
        "      return False\n",
        "    retries = retries -1\n",
        " \n",
        "    if retries < 0:\n",
        "      raise ValueError('invalid user response')\n",
        "    print(reminder)"
      ],
      "metadata": {
        "id": "McDAJxqOpj0i"
      },
      "execution_count": null,
      "outputs": []
    },
    {
      "cell_type": "markdown",
      "source": [
        "この関数の呼び出し方\n",
        "\n",
        "１．必須の引数のみ与える\n",
        "\n",
        "ask_ok('Do you really want to quit?')\n",
        "\n",
        "２．一つのオプション引数を与える\n",
        "\n",
        "ask_ok('OK to overwrite the file?',2)\n",
        "\n",
        "３．すべての引数を与える\n",
        "\n",
        "ask_ok('OK to overwrite the file?,2,'Come on, only yes or no!')"
      ],
      "metadata": {
        "id": "JFYi7aGlqOF6"
      }
    },
    {
      "cell_type": "code",
      "source": [
        "import pandas as pd\n",
        "import os\n",
        "\n",
        "os.chdir(\"/content\")\n",
        "\n",
        "df = pd.read_csv(\"tst.csv\")\n",
        "print df"
      ],
      "metadata": {
        "colab": {
          "base_uri": "https://localhost:8080/",
          "height": 135
        },
        "id": "Bf0XUD1IBrte",
        "outputId": "30fd1cf9-d03c-4a63-b5f1-9b7604805a54"
      },
      "execution_count": null,
      "outputs": [
        {
          "output_type": "error",
          "ename": "SyntaxError",
          "evalue": "ignored",
          "traceback": [
            "\u001b[0;36m  File \u001b[0;32m\"<ipython-input-7-e0ff4a5ed33b>\"\u001b[0;36m, line \u001b[0;32m7\u001b[0m\n\u001b[0;31m    print df\u001b[0m\n\u001b[0m          ^\u001b[0m\n\u001b[0;31mSyntaxError\u001b[0m\u001b[0;31m:\u001b[0m Missing parentheses in call to 'print'. Did you mean print(df)?\n"
          ]
        }
      ]
    },
    {
      "cell_type": "code",
      "source": [
        "import pandas as pd\n",
        "import pyodbc\n",
        "\n",
        "print(pyodbc.drivers())\n",
        "print()\n",
        "\n",
        "#connection用接続文字列\n",
        "conn_str = (\n",
        "    r'DRIVER={Microsoft Access Driver (*.mdb, *.accdb)};' \n",
        "    r'DBQ=(ドライブ名):\\(フォルダー名)\\ファイル名.accdb;'\n",
        ")\n",
        "\n",
        "with pyodbc.connect(conn_str) as conn:\n",
        "\n",
        "  df = pd.io.sql.read_sql(r'select * from テーブル名', conn)\n",
        "  print(df)\n",
        "  print()\n",
        "\n",
        "  "
      ],
      "metadata": {
        "colab": {
          "base_uri": "https://localhost:8080/",
          "height": 135
        },
        "id": "FqzQ7j3i3tL7",
        "outputId": "eb1693ff-3674-4550-95b3-e49ab04555b3"
      },
      "execution_count": null,
      "outputs": [
        {
          "output_type": "error",
          "ename": "SyntaxError",
          "evalue": "ignored",
          "traceback": [
            "\u001b[0;36m  File \u001b[0;32m\"<ipython-input-1-3f644601b67d>\"\u001b[0;36m, line \u001b[0;32m9\u001b[0m\n\u001b[0;31m    r'DRIVER={Microsoft Access Driver (*.mdb, *.accdb)};' :\u001b[0m\n\u001b[0m                                                          ^\u001b[0m\n\u001b[0;31mSyntaxError\u001b[0m\u001b[0;31m:\u001b[0m invalid syntax\n"
          ]
        }
      ]
    },
    {
      "cell_type": "code",
      "source": [
        "def map_rating_category(rating):\n",
        "  if rating > 4:\n",
        "    return 'Excellent'\n",
        "  elif rating > 2:\n",
        "    return 'Average'\n",
        "  else:\n",
        "    return 'Poor'\n",
        "\n",
        "rating_file = pd.read_csv(ratings.csv)\n",
        "rating_file['evalation'] = rating_file['rating'].apply(map_rating_category)"
      ],
      "metadata": {
        "id": "yd9wcZ2vxwAA"
      },
      "execution_count": null,
      "outputs": []
    },
    {
      "cell_type": "markdown",
      "source": [
        "行列演算にはDataFrameではなくNumpyの多次元配列を使用する"
      ],
      "metadata": {
        "id": "gzpqorAnybJS"
      }
    },
    {
      "cell_type": "code",
      "source": [
        "import numpy as np\n",
        "\n",
        "def rating_category(df_):\n",
        "  return np.select(\n",
        "      condlist=(\n",
        "          df_['rating'] > 4,\n",
        "          df_['rating'] > 2,\n",
        "      ),\n",
        "      choicelist=('Excellent', 'Average'),\n",
        "      default='Poor'\n",
        "  )\n",
        "\n",
        "  rating_file = pd.read_csv('ratings.csv')\n",
        "  rating_df = rating_file.assign(\n",
        "      evaluation = lambda df_: rating_category(df_)\n",
        "  )"
      ],
      "metadata": {
        "id": "KHvu-jYPykuM"
      },
      "execution_count": null,
      "outputs": []
    },
    {
      "cell_type": "code",
      "source": [
        "rating_file = pd.read_csv('ratings.csv')\n",
        "rating_matrix = csr_matrix(\n",
        "    pd.pivot_table(\n",
        "        rating_file[['userId', 'movieId', 'rating']],\n",
        "        index='userId',\n",
        "        columns='movieId'\n",
        "    ).fillna(0).values\n",
        ")"
      ],
      "metadata": {
        "id": "ellvq9r6zUHv"
      },
      "execution_count": null,
      "outputs": []
    },
    {
      "cell_type": "code",
      "source": [
        "import csv\n",
        "\n",
        "with open('ratings.csv', 'r') as f:\n",
        "  rating_reader = csv.DictReader(f)\n",
        "  ratings = [row for row in rating_reader]\n",
        "\n",
        "  with open('ratings.json','w') as f:\n",
        "    json.dump(ratings, f)"
      ],
      "metadata": {
        "id": "YJbrKQ770MQ-"
      },
      "execution_count": null,
      "outputs": []
    },
    {
      "cell_type": "markdown",
      "source": [
        "多数の要素が繰り返されるSeriesがある場合、元のSeriesをcategory型に変換したものを作成し、それに対して.str.<method>などを適用するほうが高速。\n",
        "このパフォーマンスの違いは、category型のSeriesの場合、文字列操作はSeriesの各要素だけでなく、.categoriesで実行されるうことになる。\n",
        "\n",
        "文字列の.categoriesを持つcategory型のSeriesには、文字列型のSeriesと比較していくつかの制限がある。\n",
        "\n",
        "list型の要素を操作する.strメソッドもそのようなSeriesでは使用不可"
      ],
      "metadata": {
        "id": "SrWpXPOF2oTB"
      }
    },
    {
      "cell_type": "markdown",
      "source": [
        "# Python メモ"
      ],
      "metadata": {
        "id": "BYOayreXtWb2"
      }
    },
    {
      "cell_type": "markdown",
      "source": [
        "インデントには空白4つを使用し、Tabは使用しない\n",
        "\n",
        "ソースコードの文字列が79文字以下になるように折り返す\n",
        "\n",
        "関数やクラスや関数内の大きめのコードブロックの区切りに空白行を入れる\n",
        "\n",
        "コメントはコメントのみの行に記述する\n",
        "\n",
        "演算子の前後とコンマのあとには空白を入れる\n",
        "括弧の隣には空白を入れない\n",
        "\n",
        "クラスや関数に一貫性のある名前をつける。\n",
        "\n",
        "UpperCamelCaseをクラス名に使うようにする\n",
        "\n"
      ],
      "metadata": {
        "id": "lH-65mP_tYqg"
      }
    },
    {
      "cell_type": "markdown",
      "source": [
        "# Vaex\n"
      ],
      "metadata": {
        "id": "oGHS5rlUxjNm"
      }
    },
    {
      "cell_type": "markdown",
      "source": [
        "Pandasと同様にデータフレームなどを扱うことが可能\n",
        "\n",
        "Pandasよりも膨大なデータの読み込みや計算を高速に実行できる"
      ],
      "metadata": {
        "id": "b_bhSY9Kxpn2"
      }
    },
    {
      "cell_type": "code",
      "source": [
        "import vaex\n",
        "import pandas as pd\n",
        "\n",
        "pandas_df = pd.DataFrame(\n",
        "    data=[{\n",
        "        'a': 1,\n",
        "        'b': 2,\n",
        "\n",
        "    }, {\n",
        "        'a': 3,\n",
        "        'b': 4,\n",
        "    }])\n",
        "\n",
        "vaex_df = vaex.from_pandas(df=pandas_df, copy_index=False)\n",
        "vaex_df"
      ],
      "metadata": {
        "colab": {
          "base_uri": "https://localhost:8080/",
          "height": 378
        },
        "id": "QIQQdct0x-Jl",
        "outputId": "abd9fc41-2a2b-4e5a-fb60-d70126fbbe9c"
      },
      "execution_count": null,
      "outputs": [
        {
          "output_type": "error",
          "ename": "ModuleNotFoundError",
          "evalue": "ignored",
          "traceback": [
            "\u001b[0;31m---------------------------------------------------------------------------\u001b[0m",
            "\u001b[0;31mModuleNotFoundError\u001b[0m                       Traceback (most recent call last)",
            "\u001b[0;32m<ipython-input-8-1347430d36da>\u001b[0m in \u001b[0;36m<module>\u001b[0;34m\u001b[0m\n\u001b[0;32m----> 1\u001b[0;31m \u001b[0;32mimport\u001b[0m \u001b[0mvaex\u001b[0m\u001b[0;34m\u001b[0m\u001b[0;34m\u001b[0m\u001b[0m\n\u001b[0m\u001b[1;32m      2\u001b[0m \u001b[0;32mimport\u001b[0m \u001b[0mpandas\u001b[0m \u001b[0;32mas\u001b[0m \u001b[0mpd\u001b[0m\u001b[0;34m\u001b[0m\u001b[0;34m\u001b[0m\u001b[0m\n\u001b[1;32m      3\u001b[0m \u001b[0;34m\u001b[0m\u001b[0m\n\u001b[1;32m      4\u001b[0m pandas_df = pd.DataFrame(\n\u001b[1;32m      5\u001b[0m     data=[{\n",
            "\u001b[0;31mModuleNotFoundError\u001b[0m: No module named 'vaex'",
            "",
            "\u001b[0;31m---------------------------------------------------------------------------\u001b[0;32m\nNOTE: If your import is failing due to a missing package, you can\nmanually install dependencies using either !pip or !apt.\n\nTo view examples of installing some common dependencies, click the\n\"Open Examples\" button below.\n\u001b[0;31m---------------------------------------------------------------------------\u001b[0m\n"
          ],
          "errorDetails": {
            "actions": [
              {
                "action": "open_url",
                "actionText": "Open Examples",
                "url": "/notebooks/snippets/importing_libraries.ipynb"
              }
            ]
          }
        }
      ]
    },
    {
      "cell_type": "markdown",
      "source": [
        "Vaexの使い方\n",
        "\n",
        "特定カラムへのアクセス"
      ],
      "metadata": {
        "id": "YamPBfMUykvE"
      }
    },
    {
      "cell_type": "code",
      "source": [
        "vaex_df['a']"
      ],
      "metadata": {
        "id": "ij13E-HFyr6m"
      },
      "execution_count": null,
      "outputs": []
    },
    {
      "cell_type": "markdown",
      "source": [
        "# Pandasメモ"
      ],
      "metadata": {
        "id": "VYd4d1XzBvVm"
      }
    },
    {
      "cell_type": "markdown",
      "source": [
        "正規表現を扱う際にはいくつかの注意が必要\n",
        "\n",
        "regexがTrueに設定されている場合でも、1文字のパターンをリテラル文字列として扱う。この動作は非推奨。"
      ],
      "metadata": {
        "id": "kEt6x_D43h0T"
      }
    },
    {
      "cell_type": "markdown",
      "source": [
        "str.replace()と同様の)文字列のリテラル置換を行いたい場合は、各文字をエスケープするのではなく、オプションのregexパラメータをFalseに設定する。"
      ],
      "metadata": {
        "id": "AN2G31I83yW7"
      }
    },
    {
      "cell_type": "markdown",
      "source": [
        "replaceメソッドは関数を呼び出して置換することも可能\n",
        "\n",
        "re.sub()を使用してすべてのpatに対して呼び出される。\n",
        "呼び出し可能オブジェクトは、1つの位置引数（正規表現オブジェクト）を受け取り、文字列を返す必要がある。"
      ],
      "metadata": {
        "id": "VDlEcWKI4GY-"
      }
    },
    {
      "cell_type": "code",
      "source": [
        "#小文字のアルファベットの綴りをすべて反転\n",
        "pat = r'[a-z]+'\n",
        "\n",
        "def repl(m):\n",
        "  return m.group(0)[::-1]\n",
        "\n",
        "  pd.Series(['foo 123','bar baz',np,nan], dtype='string').str.replace(\n",
        "      pat, repl, regex=True\n",
        "  )\n",
        "\n",
        "pat = r'(?P<one>\\w+)(?P<two>\\w+) (?P<three>\\w+)'\n",
        "\n",
        "def repl(m):\n",
        "  return m.group('two').swapcase()\n",
        "\n",
        "pd.Series(['Foo Bar Baz', np.nan], dtype='string').str.replace(\n",
        "    pat, repl, regex=True\n",
        ")"
      ],
      "metadata": {
        "id": "6YF15O0b4iaj"
      },
      "execution_count": null,
      "outputs": []
    },
    {
      "cell_type": "markdown",
      "source": [
        "replaceメソッドはパターンとしてre.compile()からコンパイルされた正規表現オブジェクトも受け入れる。"
      ],
      "metadata": {
        "id": "dUP-rltW6YkL"
      }
    },
    {
      "cell_type": "code",
      "source": [
        "import re\n",
        "\n",
        "regex_pat = re.compile(r'^.a|dog', flags=re.IGNORECASE)\n",
        "\n",
        "s3.str.replace(regex_pat, 'XX-XX ', regex=True)"
      ],
      "metadata": {
        "id": "wXLLa2096g-Z"
      },
      "execution_count": null,
      "outputs": []
    },
    {
      "cell_type": "markdown",
      "source": [
        "コンパイルされた正規表現オブジェクトでreplaceを呼び出すときにflags引数を使用するとValueErrorが発生する。"
      ],
      "metadata": {
        "id": "e5yokSkL6yi3"
      }
    },
    {
      "cell_type": "markdown",
      "source": [
        "結合\n",
        "\n",
        "seriesやIndexをそれ自体または他と結合するには、すべてcat()またはindex.str.catに基づいたいくつかの方法がある。"
      ],
      "metadata": {
        "id": "5VAcynut6-Nq"
      }
    },
    {
      "cell_type": "markdown",
      "source": [
        "各要素の最初の一致を抽出\n",
        "\n",
        "extractメソッドは少なくとも1つのキャプチャグループを持つ正規表現を受け取る。\n",
        "\n",
        "複数のグループを持つ正規表現を抽出するとグループごとに一つの列を持つデータフレームが返される。"
      ],
      "metadata": {
        "id": "O18NnDvb7Rxa"
      }
    },
    {
      "cell_type": "markdown",
      "source": [
        "一致しない要素はNaN行を返す。　乱雑な文字列のシリーズはタプルまたはre.matchオブジェクトにアクセスするのにget()を必要とせずにクリーンアップされたデータフレームに変換できる。\n",
        "\n",
        "一致が見つからず結果がNaNのみであってもデータ型は常にオブジェクトとなる。"
      ],
      "metadata": {
        "id": "erwSbQdg7ndI"
      }
    },
    {
      "cell_type": "markdown",
      "source": [
        "すべての一致を抽出\n",
        "\n",
        "extractallメソッドはすべての一致を返す。\n",
        "extractallの結果は常にMultiIndexを行に持つDataFrameとなる。"
      ],
      "metadata": {
        "id": "pzrHG4wM9gZN"
      }
    },
    {
      "cell_type": "markdown",
      "source": [
        "match、fullmatch、containsの違いは厳密さでfullmatchは文字列全体が正規表現と一致しているかどうかで判断し、matchは文字列の先頭部分が正規表現と一致しているかで判断する。containsは文字列内の任意の位置に正規表現と一致する部分が存在するかどうかで判断する。"
      ],
      "metadata": {
        "id": "Za1o5VXc91Yy"
      }
    },
    {
      "cell_type": "markdown",
      "source": [
        "欠損データの操作"
      ],
      "metadata": {
        "id": "Y5oqsnfGB02L"
      }
    },
    {
      "cell_type": "markdown",
      "source": [
        "NaNは計算速度と利便性の理由からデフォルトの欠損値マーカーではあるが、浮動小数点、整数、真偽値など、さまざまなデータ型でこの値を簡単に検出できる必要がある。\n",
        "しかし多くの場合PythonのNoneも見られ、欠落または利用不可またはNAも考慮する必要がある。"
      ],
      "metadata": {
        "id": "so513RiKCeUi"
      }
    },
    {
      "cell_type": "code",
      "source": [
        "df = pd.DataFrame(\n",
        "    np.random.randn(5,3),\n",
        "    index=['a','c','e','f','h'],\n",
        "    columns=['one','two','three'],\n",
        ")\n",
        "\n",
        "df['four'] = 'bar'\n",
        "\n",
        "df['five'] = df['one'] > 0\n",
        "\n",
        "df\n",
        "\n",
        "\n",
        "df2 = df.raindex([\"a\", \"b\", \"c\", \"d\", \"e\", \"f\", \"g\", \"h\"])\n",
        "\n",
        "df2"
      ],
      "metadata": {
        "id": "XO-VG81lB-19"
      },
      "execution_count": null,
      "outputs": []
    },
    {
      "cell_type": "markdown",
      "source": [
        "欠損値の検出を容易にするために、pandasはisna()およびnotna()関数を用意している。これらはSeriesおよびDataFrameオブジェクトのメソッドでもある。"
      ],
      "metadata": {
        "id": "4HHdIT2-B3uj"
      }
    },
    {
      "cell_type": "markdown",
      "source": [
        "Pythonではnanは同等ではなく、Noneは同等である。　"
      ],
      "metadata": {
        "id": "aPh3_ncNDLTP"
      }
    },
    {
      "cell_type": "markdown",
      "source": [
        "整数データ型と欠損データ\n",
        "\n",
        "NaNは浮動小数点であるため、欠損値が一つでもある整数の列は、浮動小数点データ型に変換される。pandasは、欠損値を含むことができる整数配列が存在している。"
      ],
      "metadata": {
        "id": "JFbXtcYoDUQR"
      }
    },
    {
      "cell_type": "code",
      "source": [
        "pd.Series([1, 2, np.nan, 4], dtype=pd.Int64Dtype())"
      ],
      "metadata": {
        "id": "SPqAESbSDm34"
      },
      "execution_count": null,
      "outputs": []
    },
    {
      "cell_type": "markdown",
      "source": [
        "文字型エイリアスdtype='Int64'を指定することでも使用可能。\n",
        "\n"
      ],
      "metadata": {
        "id": "0SjF4NGqDy_t"
      }
    },
    {
      "cell_type": "markdown",
      "source": [
        "時系列データ\n",
        "\n",
        "datetime64[ns]型の場合、NaTが欠損値を表す。\n",
        "これはNumPyの単一のデータ型で表すことができる疑似ネイティブのセンチネル値。pandasオブジェクトはNaTとNaNの互換性を持つ。"
      ],
      "metadata": {
        "id": "XXv6xmUgD7IE"
      }
    },
    {
      "cell_type": "markdown",
      "source": [
        "欠損データの挿入\n",
        "\n",
        "コンテナに割り当てるだけで欠損値を挿入することが可能。　使用される実際の欠損値はデータ型にとづいて選択される。\n"
      ],
      "metadata": {
        "id": "XsXvnavAER_U"
      }
    },
    {
      "cell_type": "markdown",
      "source": [
        "欠損データに対する計算\n",
        "\n",
        "欠損値はpandasオブジェクト間の算術演算を通じて自然に伝播する。"
      ],
      "metadata": {
        "id": "8D-S2LjIEgaG"
      }
    },
    {
      "cell_type": "markdown",
      "source": [
        "データ構造の概要で説明されている記述統計と計算方法はすべて欠損データを説明するために書かれている。\n",
        "\n",
        "・データを合計するときNaNはゼロとして扱われる。\n",
        "\n",
        "・データがすべてNaNの場合、結果は0となる。\n",
        "\n",
        "・cumsum()やcumprodなどの累積メソッドはデフォルトではNaN値を無視するが、結果の配列には保持する。この動作をオーバーライドしてNaN値を含めるにはskipna=Falseを使用する。"
      ],
      "metadata": {
        "id": "1X7wqNguEp9x"
      }
    },
    {
      "cell_type": "markdown",
      "source": [
        "pandasオブジェクトによる穴埋め\n",
        "\n",
        "整列可能な辞書またはシリーズを使用して穴埋めすることもできます。\n",
        "辞書のキーあるいはシリーズのインデックスは、穴埋めしたいフレームの列名と一致する必要があります。以下の例は、データフレームにその列の平均を入力しています。"
      ],
      "metadata": {
        "id": "y_JcTA_zFVNq"
      }
    },
    {
      "cell_type": "code",
      "source": [
        "dff = pd.DataFrame(np.random.randn(10, 3), columns=list('ABC '))\n",
        "\n",
        "dff.iloc[3:5, 0] = np.nan\n",
        "\n",
        "dff.iloc[4:6, 1] = np.nan\n",
        "\n",
        "dff.iloc[5:8, 2] = np.nan\n",
        "\n",
        "dff\n",
        "\n",
        "dff.fillna(dff.mean())\n",
        "\n",
        "dff.fillna(dff.mean()[\"B\":\"C\"])\n",
        "\n",
        "#穴埋めの値をそろえたもの\n",
        "dff.where(pd.notna(dff), dff.mean(), axis=\"columns\")"
      ],
      "metadata": {
        "id": "enL3dF7_GIsO"
      },
      "execution_count": null,
      "outputs": []
    },
    {
      "cell_type": "markdown",
      "source": [
        "データが欠損している軸ラベルの削除\n",
        "\n",
        "単純にデータを参照しているラベルをデータセットから除外したい場合はdropa()を使用する。"
      ],
      "metadata": {
        "id": "wuwIzkjfGguI"
      }
    },
    {
      "cell_type": "code",
      "source": [
        "df\n",
        "#    one       two     three\n",
        "# a  NaN -0.282863 -1.509059\n",
        "# c  NaN  1.212112 -0.173215\n",
        "# e  NaN  0.000000  0.000000\n",
        "# f  NaN  0.000000  0.000000\n",
        "# h  NaN -0.706771 -1.039575\n",
        "\n",
        "df.dropna(axis=0)\n",
        "# Empty DataFrame\n",
        "# Columns: [one, two, three]\n",
        "# Index: []\n",
        "\n",
        "df.dropna(axis=1)\n",
        "#         two     three\n",
        "# a -0.282863 -1.509059\n",
        "# c  1.212112 -0.173215\n",
        "# e  0.000000  0.000000\n",
        "# f  0.000000  0.000000\n",
        "# h -0.706771 -1.039575\n",
        "\n",
        "df[\"one\"].dropna()\n",
        "# Series([], Name: one, dtype: float64)"
      ],
      "metadata": {
        "id": "n9auMn-8GuAL"
      },
      "execution_count": null,
      "outputs": []
    },
    {
      "cell_type": "markdown",
      "source": [
        "シリーズにも同等のdropna()が用意されている。\n",
        "\n",
        "DataFrame.dropnaにはSeries.dropnaよりもかなり多くのオプションがある。"
      ],
      "metadata": {
        "id": "UGEhvgoKGu75"
      }
    },
    {
      "cell_type": "markdown",
      "source": [
        "補完\n",
        "\n",
        "シリーズオブジェクトとデータフレームオブジェクトの両方にinterpolate()があり、デフォルトでは欠落しているデータポイントで線形補完を実行する。"
      ],
      "metadata": {
        "id": "QGlSKHzmG9ck"
      }
    },
    {
      "cell_type": "markdown",
      "source": [
        "methodキーワードを用いることでインデックスに基づいた補完の実行も可能\n",
        "\n",
        "浮動小数点インデックスの場合。method='values'を使用する。"
      ],
      "metadata": {
        "id": "1v2Y7wDPHLj1"
      }
    },
    {
      "cell_type": "markdown",
      "source": [
        "method引数を用いることで、より高度な補完を実行することも可能。\n",
        "scipyがインストールされている場合は、一次元補完ルーチンの名前をmethodに渡すことが可能。適切な補完方法は扱うデータの種類によって異なる。\n",
        "\n",
        "・増加率の高い時系列を扱う場合はmethod='quadratic'が適切\n",
        "\n",
        "・累積分布関数に近似した値の場合はmethod='pchipが適切\n",
        "\n",
        "・スムーズなプロットを目指して欠損値を埋めるにはmethod='akima'を検討する"
      ],
      "metadata": {
        "id": "mAwE71GkHZ5s"
      }
    },
    {
      "cell_type": "markdown",
      "source": [
        "補完の制限\n",
        "\n",
        "pandasの他の穴埋めメソッドと同様にinterpolate()はキーワード引数limitを受け取ります。この引数を使用して最後の有効な観測以降に入力された連続したNaN値の数を制限できる。"
      ],
      "metadata": {
        "id": "8mHNMefwILbb"
      }
    },
    {
      "cell_type": "markdown",
      "source": [
        "値の置換\n",
        "\n",
        "任意の値をほかの値に置換したい場合\n",
        "\n",
        "replace()関数によって置換が可能"
      ],
      "metadata": {
        "id": "Kl3DmvCYJxfQ"
      }
    },
    {
      "cell_type": "code",
      "source": [
        "ser = pd.Series([0.0, 1.0, 2.0, 3.0, 4.0])\n",
        "\n",
        "ser.replace(0,5)"
      ],
      "metadata": {
        "id": "hH0guOehJ7iF"
      },
      "execution_count": null,
      "outputs": []
    },
    {
      "cell_type": "markdown",
      "source": [
        "文字列、正規表現の置換\n",
        "\n",
        "r'hello world'のようなrが前についた文字列は、接頭辞のない文字列とは異なるバックスラッシュに関するセマンティクスを持っている。\n",
        "\n",
        "生の文字列内のバックスラッシュはエスケープされたバックスラッシュとして解釈される。"
      ],
      "metadata": {
        "id": "CSATeuDIKGfA"
      }
    },
    {
      "cell_type": "markdown",
      "source": [
        "欠損データのキャストルールとインデクシング\n",
        "\n",
        "pandasは整数型とブール型の配列の格納をサポートしているが、これらの型は欠損データを格納できない。\n",
        "\n",
        "再インデックス化操作で欠損データが発生した場合、以下のルールに従ってキャストされる\n",
        "\n",
        "整数→浮動小数点\n",
        "\n",
        "真偽値→オブジェクト\n",
        "\n",
        "浮動小数点→キャストなし\n",
        "\n",
        "オブジェクト→キャストなし\n",
        "\n",
        "pandasは欠損値を持つことができる整数データ型も存在するが、シリーズや列を作成する際に明示的に指定する必要がある。"
      ],
      "metadata": {
        "id": "atfAAhq0KtOB"
      }
    },
    {
      "cell_type": "markdown",
      "source": [
        "算術演算・比較演算での伝播\n",
        "\n",
        "pd.NAを含む演算では欠損値が伝播する。　オペランドの１つが不明な場合、演算の結果も不明となる。\n",
        "\n",
        "pd.NAはnp.nanと同様に算術演算で伝播する。\n",
        "\n"
      ],
      "metadata": {
        "id": "sZ1mLxRMLrZQ"
      }
    },
    {
      "cell_type": "code",
      "source": [
        "pd.NA + 1\n",
        "\n",
        "'a' * pd.NA"
      ],
      "metadata": {
        "id": "2Mh5I4rdMDBY"
      },
      "execution_count": null,
      "outputs": []
    },
    {
      "cell_type": "markdown",
      "source": [
        "pandasはデフォルトで欠損値をスキップする。\n",
        "\n"
      ],
      "metadata": {
        "id": "S3Zp5I4ZMKRX"
      }
    },
    {
      "cell_type": "markdown",
      "source": [
        "論理演算\n",
        "\n",
        "論理演算についてはpd.NAは3値論理のルールに従う。この論理は、論理的に必要な場合のみ欠落した値を伝播するルール\n",
        "\n",
        "論理演算 or （｜）の場合、オペランドの片方がTrueであればほかの値に関係なく（欠損値がTrueであってもFalseであっても）結果はTrueになる。この場合、pd.NAは伝播しない。"
      ],
      "metadata": {
        "id": "7LJDtmsYMWnP"
      }
    },
    {
      "cell_type": "code",
      "source": [
        "True | False\n",
        "# True\n",
        "\n",
        "True | pd.NA\n",
        "# True\n",
        "\n",
        "pd.NA | True\n",
        "# True"
      ],
      "metadata": {
        "id": "EDp-aM0-NLNw"
      },
      "execution_count": null,
      "outputs": []
    },
    {
      "cell_type": "markdown",
      "source": [
        "オペランドの片方がFalseの場合、結果は他方のオペランドの値に依存する。この場合はpd.NAが伝播する"
      ],
      "metadata": {
        "id": "3230golMNNGQ"
      }
    },
    {
      "cell_type": "code",
      "source": [
        "False | True\n",
        "# True\n",
        "\n",
        "False | False\n",
        "# False\n",
        "\n",
        "False | pd.NA\n",
        "# <NA>"
      ],
      "metadata": {
        "id": "qf8phehbNYu9"
      },
      "execution_count": null,
      "outputs": []
    },
    {
      "cell_type": "markdown",
      "source": [
        "論理演算「and」のほかの動作も同様のロジックを使用して導出することが可能（この場合オペランドの１つがすでにFalseである場合にはpd.NAは伝播しない"
      ],
      "metadata": {
        "id": "u5DmCiT3Na7W"
      }
    },
    {
      "cell_type": "code",
      "source": [
        "False & True\n",
        "# False\n",
        "\n",
        "False & False\n",
        "# False\n",
        "\n",
        "False & pd.NA\n",
        "# False"
      ],
      "metadata": {
        "id": "-pb7FjYuNsnZ"
      },
      "execution_count": null,
      "outputs": []
    },
    {
      "cell_type": "markdown",
      "source": [
        "ブーリアンコンテキストでのNA\n",
        "\n",
        "欠損値をブール値に変換することはできない。\n",
        "\n",
        "if conditionいのいてconditionがpd.NAdになる可能性がある場合にはpd.NAは使用できない。\n",
        "\n",
        "isna()を使用してpd.NAをチェックしたり、条件がpd.NAであることを避けるために事前に欠落している値を埋めておく必要がある。"
      ],
      "metadata": {
        "id": "Skq165sgNuGx"
      }
    },
    {
      "cell_type": "markdown",
      "source": [
        "変換\n",
        "\n",
        "伝統的な型を使用しているデータフレームやシリーズがあり、np.nanを使用して表現されていないデータがある場合、シリーズにはconvert_dtypes()が、データフレームにはconvert_dtypes()があり、整数、文字列、ブーリアンの新しいデータ型を使用するようにデータを変換することが可能。\n",
        "\n",
        "データセットを読み込んだ後にread_csv()やread_excelなどのリーダーにデフォルトのデータ型を推測させる場合に便利"
      ],
      "metadata": {
        "id": "IcmdpF5CPj90"
      }
    },
    {
      "cell_type": "markdown",
      "source": [
        "**Group by**\n",
        "\n",
        "・分割(Splitting)\n",
        "ある基準にもとづいてデータをグループにわける\n",
        "\n",
        "・適用(Applying)\n",
        "各グループに独立して関数を適用する\n",
        "\n",
        "・結合(Combining)\n",
        "結果を一つのデータ構造にまとめる。\n",
        "\n",
        "・集計(Aggregation)\n",
        "各グループの要約統計量を計算する\n",
        "\n",
        "・変換(Transformation)\n",
        "グループ固有の計算を行い、同様のインデックスを持つオブジェクトを返す\n",
        "\n",
        "・フィルタリング(Filtration)\n",
        "TrueまたはFalseで評価されるグループ単位の計算に従っていくつかのグループを破棄する\n",
        "\n"
      ],
      "metadata": {
        "id": "hKEIV6CFRhpZ"
      }
    },
    {
      "cell_type": "markdown",
      "source": [
        "pandasのデータ構造上のオブジェクトインスタンスメソッドは一般的に豊富で表現力があるので、例えばデータフレーム関数を書くグループに対して簡単に呼び出したいと思うとき\n",
        "\n"
      ],
      "metadata": {
        "id": "Fl2FpWB5Sbw0"
      }
    },
    {
      "cell_type": "markdown",
      "source": [
        "オブジェクトをグループに分割する\n",
        "\n",
        "pandasのオブジェクトはどの軸でも分割することが可能。\n",
        "グループ化の抽象的な定義は、ラベルとグループ名の対応付けを提供すること。\n",
        "\n",
        "Group byオブジェクトの作成方法"
      ],
      "metadata": {
        "id": "3Kcdvdn4SsX1"
      }
    },
    {
      "cell_type": "code",
      "source": [
        "df = pd.DataFrame(\n",
        "    [\n",
        "        (\"bird\", \"Falconiformes\", 389.0),\n",
        "        (\"bird\", \"Psittaciformes\", 24.0),\n",
        "        (\"mammal\", \"Carnivora\", 80.2),\n",
        "        (\"mammal\", \"Primates\", np.nan),\n",
        "        (\"mammal\", \"Carnivora\", 58),\n",
        "    ],\n",
        "    index=['falcon','[parrot','lion','monkey','leopard'],\n",
        "    columns=('class','order','max_speed'),\n",
        ")\n",
        "\n",
        "df\n",
        "\n",
        "grouped = df.groupby('class')\n",
        "\n",
        "grouped = df.groupby('order', axis='columns')\n",
        "\n",
        "grouped =df.groupby(['class','order'])"
      ],
      "metadata": {
        "id": "5Dncje71TC-C"
      },
      "execution_count": null,
      "outputs": []
    },
    {
      "cell_type": "markdown",
      "source": [
        "マッピングはさまざまな方法で指定することが可能\n",
        "\n",
        "・各軸ラベルで呼び出されるPython関数\n",
        "\n",
        "・選択された軸と同じ長さのリストまたはNumPy配列\n",
        "\n",
        "・ラベルからグループ名へのマッピングを提供するSeries\n",
        "\n",
        "・DataFrameオブジェクトの場合、グループ化に使用される列名またはインデックスレベル名を示す文字列。"
      ],
      "metadata": {
        "id": "8LCKfLdHTv7l"
      }
    },
    {
      "cell_type": "code",
      "source": [
        "df = pd.DataFrame(\n",
        "    {\n",
        "        \"A\": [\"foo\", \"bar\", \"foo\", \"bar\", \"foo\", \"bar\", \"foo\", \"foo\"],\n",
        "        \"B\": [\"one\", \"one\", \"two\", \"three\", \"two\", \"two\", \"one\", \"three\"],\n",
        "        \"C\": np.random.randn(8),\n",
        "        \"D\": np.random.randn(8),\n",
        "    }\n",
        ")\n",
        "\n",
        "\n",
        "df\n",
        "#      A      B         C         D\n",
        "# 0  foo    one  0.469112 -0.861849\n",
        "# 1  bar    one -0.282863 -2.104569\n",
        "# 2  foo    two -1.509059 -0.494929\n",
        "# 3  bar  three -1.135632  1.071804\n",
        "# 4  foo    two  1.212112  0.721555\n",
        "# 5  bar    two -0.173215 -0.706771\n",
        "# 6  foo    one  0.119209 -1.039575\n",
        "# 7  foo  three -1.044236  0.271860"
      ],
      "metadata": {
        "id": "dvTAZlYBVBYS"
      },
      "execution_count": null,
      "outputs": []
    },
    {
      "cell_type": "markdown",
      "source": [
        "DataFrameの場合、groupbyを呼び出すとGroupByオブジェクトが得られる。\n",
        "\n",
        "マルチインデックスにA列とB列が存在する場合は、指定した列を除いてグループ化することも可能\n",
        "\n",
        "pandasのIndexオブジェクトは重複した値をサポートしている。重複したラベルを持つインデックスがGroupby操作のグループキーとして使用された場合、同じインデックスの値に対応するすべての値は１つのグループであるとみなされるため、集約関数の出力には一意のインデックス値のみが含まれることになる。"
      ],
      "metadata": {
        "id": "lLawGiGEVDKf"
      }
    },
    {
      "cell_type": "markdown",
      "source": [
        "分割は必要になるまで実行されない。"
      ],
      "metadata": {
        "id": "NLBZfvR7Vv-4"
      }
    },
    {
      "cell_type": "markdown",
      "source": [
        "Groupbyソート\n",
        "\n",
        "デフォルトではグループキーはgroupby操作の間にソートされる。　しかし、高速化のためにsort=Falseと記述することで制限することも可能。"
      ],
      "metadata": {
        "id": "xWkWikQpV2_S"
      }
    },
    {
      "cell_type": "code",
      "source": [
        "df2 = pd.DataFrame({'x': ['B','B','A','A'], 'Y': [1,2,3,4]})\n",
        "\n",
        "df2.groupby(['X']).sum()\n",
        "\n",
        "df2.groupby(['X'], sort=False).sum()"
      ],
      "metadata": {
        "id": "Db4EW90rWJyF"
      },
      "execution_count": null,
      "outputs": []
    },
    {
      "cell_type": "markdown",
      "source": [
        "Groupbyは各グループのなかではソートされた出現する順序を保持する。\n",
        "\n",
        "Groupbyによって作成されたグループは元のDataFrameで現れた順番になっている。"
      ],
      "metadata": {
        "id": "j784oYsaWkpl"
      }
    },
    {
      "cell_type": "markdown",
      "source": [
        "dropna=FalseとすることでNA値もグループキーに含めることが可能"
      ],
      "metadata": {
        "id": "9rIpdt6yW6uR"
      }
    },
    {
      "cell_type": "markdown",
      "source": [
        "Groupbyオブジェクトの属性\n",
        "\n",
        "groups属性は計算されたユニークなグループをキーとし、各グループに属する軸ラベルが対応する値となっているもの\n",
        "\n",
        "\n",
        "Pythonの標準的なlen関数をGroypbyオブジェクトに対して呼び出すと、単にgroupの長さを返すだけとなってしまう。"
      ],
      "metadata": {
        "id": "GQRLWRHMXEGT"
      }
    },
    {
      "cell_type": "markdown",
      "source": [
        "GroupbyでDataFrameの列を選択する\n",
        "\n",
        "DataFrameからGroupbyオブジェクトを作成した後、各列に対して異なる処理を行いたい場合、DataFrameからカラムを取得するのと同様の[]を使用すると以下のようになる。"
      ],
      "metadata": {
        "id": "5H-4ynsXYW4F"
      }
    },
    {
      "cell_type": "code",
      "source": [
        "from tables import group\n",
        "df = pd.DataFrame(\n",
        "    {\n",
        "        \"A\": [\"foo\", \"bar\", \"foo\", \"bar\", \"foo\", \"bar\", \"foo\", \"foo\"],\n",
        "        \"B\": [\"one\", \"one\", \"two\", \"three\", \"two\", \"two\", \"one\", \"three\"],\n",
        "        \"C\": np.random.randn(8),\n",
        "        \"D\": np.random.randn(8),\n",
        "    }\n",
        ")\n",
        "\n",
        "df\n",
        "\n",
        "grouped = df.groupby(['A'])\n",
        "\n",
        "grouped_C = grouped[\"C\"]\n",
        "\n",
        "grouped_D = grouped[\"D\"]"
      ],
      "metadata": {
        "id": "uS4oMaGfYpyv"
      },
      "execution_count": null,
      "outputs": []
    },
    {
      "cell_type": "markdown",
      "source": [
        "グループのイテレート\n",
        "\n",
        "説グループのイテレート\n",
        "\n",
        "GroupByオブジェクトがあれば、グループ化されたデータの反復処理は非常に自然で、itertools.groupbyと似た機能を持つ"
      ],
      "metadata": {
        "id": "8dy3ttxuZRjp"
      }
    },
    {
      "cell_type": "code",
      "source": [
        "grouped = df.groupby('A')\n",
        "\n",
        "for name, group in grouped:\n",
        "  print(name)\n",
        "  print(group)"
      ],
      "metadata": {
        "id": "q92I0mNgZumz"
      },
      "execution_count": null,
      "outputs": []
    },
    {
      "cell_type": "markdown",
      "source": [
        "グループの選択\n",
        "\n",
        "get_group()でグループのうち一つを選択可能"
      ],
      "metadata": {
        "id": "9ZNZvhuiZ4JS"
      }
    },
    {
      "cell_type": "code",
      "source": [
        "grouped.get_group('bar')"
      ],
      "metadata": {
        "id": "FrHRVZskZ_NB"
      },
      "execution_count": null,
      "outputs": []
    },
    {
      "cell_type": "markdown",
      "source": [
        "集計\n",
        "　Groupbyオブジェクトが作成されると、グループ化されたデータに対して計算を実行するためのいくつかのメソッドが利用できるようになります。\n",
        "\n",
        "aggregate()メソッドによる集計"
      ],
      "metadata": {
        "id": "v7m-yfSWaDsl"
      }
    },
    {
      "cell_type": "code",
      "source": [
        "grouped = df.groupby(\"A\")\n",
        "\n",
        "grouped[[\"C\",\"D\"]].aggregate(np.sum)\n",
        "#             C         D\n",
        "# A\n",
        "# bar  0.392940  1.732707\n",
        "# foo -1.796421  2.824590\n",
        "\n",
        "grouped = df.groupby([\"A\",\"B\"])\n",
        "\n",
        "grouped.aggregate(np.sum)\n",
        "#                   C         D\n",
        "# A   B\n",
        "# bar one    0.254161  1.511763\n",
        "#     three  0.215897 -0.990582\n",
        "#     two   -0.077118  1.211526\n",
        "# foo one   -0.983776  1.614581\n",
        "#     three -0.862495  0.024580\n",
        "#     two    0.049851  1.185429"
      ],
      "metadata": {
        "id": "mBguTKm6aVUc"
      },
      "execution_count": null,
      "outputs": []
    },
    {
      "cell_type": "markdown",
      "source": [
        "集約後はグループ化された軸に沿った新しいインデックスにグループ名を持つ。　複数のキーがある場合、結果はデフォルトでマルチインデックスになるが、as_indexオブジェクトで変更することも可能。"
      ],
      "metadata": {
        "id": "oj9PsKp_anlX"
      }
    },
    {
      "cell_type": "code",
      "source": [
        "grouped = df.groupby([\"A\",\"B\"], as_index=False)\n",
        "\n",
        "grouped.aggregate(np.sum)\n",
        "#      A      B         C         D\n",
        "# 0  bar    one  0.254161  1.511763\n",
        "# 1  bar  three  0.215897 -0.990582\n",
        "# 2  bar    two -0.077118  1.211526\n",
        "# 3  foo    one -0.983776  1.614581\n",
        "# 4  foo  three -0.862495  0.024580\n",
        "# 5  foo    two  0.049851  1.185429\n",
        "\n",
        "df.groupby(\"A\", as_index=False)[[\"C\",\"D\"]].sum()\n",
        "#      A         C         D\n",
        "# 0  bar  0.392940  1.732707\n",
        "# 1  foo -1.796421  2.824590"
      ],
      "metadata": {
        "id": "I59-eujOa6va"
      },
      "execution_count": null,
      "outputs": []
    },
    {
      "cell_type": "markdown",
      "source": [
        "reset_indexデータフレーム関数を使用すると、結果のMultiIndexに列名が格納されるため、同じ結果得ることが可能。"
      ],
      "metadata": {
        "id": "pUc1SSTLbRDX"
      }
    },
    {
      "cell_type": "markdown",
      "source": [
        "各グループのサイズ（行数）を計算することも可能\n",
        "\n",
        "Groupbyのsizeメソッドとして実装されている。\n",
        "\n",
        "インデックスがグループ名で、値が各グループのサイズであるシリーズを返す"
      ],
      "metadata": {
        "id": "wfByODlIbZBl"
      }
    },
    {
      "cell_type": "markdown",
      "source": [
        "各グループのユニークな値の数の計算も可能"
      ],
      "metadata": {
        "id": "HuXe7sozejY9"
      }
    },
    {
      "cell_type": "code",
      "source": [
        "ll = [['foo', 1], ['foo', 2], ['foo', 2], ['bar', 1], ['bar', 1]]\n",
        "\n",
        "df4 = pd.DataFrame(ll,columns=['A','B'])\n",
        "\n",
        "df4\n",
        "\n",
        "df4.groupby(\"A\")[\"B\"].nunique()"
      ],
      "metadata": {
        "id": "tJDXex1ter0r"
      },
      "execution_count": null,
      "outputs": []
    },
    {
      "cell_type": "markdown",
      "source": [
        "集計関数は、デフォルトのas_index=Trueでは集計対象のグループが名前付きカラムであればそのグループを返さない。グループ化されたカラムは返されるオブジェクトのインデックスとなる。\n",
        "\n",
        "as_index=Falseを渡すと、名前付きカラムの場合、集約しているグループを返す。\n",
        "\n",
        "\n",
        "\n",
        "*   mean() グループの平均\n",
        "*   sun() グループの合計\n",
        "*   size() グループのサイズ\n",
        "*   count() グループの数\n",
        "*   std() グループの標準偏差\n",
        "*   var() グループの分散\n",
        "*   sem() グループの標準誤差\n",
        "*   describe() グループの要約統計量\n",
        "*   first() グループの最初の値\n",
        "*   last() グループの最後の値\n",
        "*   nth() n番目、またはnがリストの場合はサブセット\n",
        "*   min() グループの最小値\n",
        "*   max() グループの最大値\n",
        "\n",
        "\n",
        "上記の集計関数は、欠損値を除外する。Seriesをスカラー値に変換する関数はすべて集約関数として動作する。　nth()はリデューサーまたはフィルターとして動作する。\n",
        "\n"
      ],
      "metadata": {
        "id": "URPaf4NgfDeO"
      }
    },
    {
      "cell_type": "markdown",
      "source": [
        "複数の関数を同時に適用する\n",
        "\n",
        "グループ化されたSeriesに集約する関数のリストまたは辞書を渡してデータフレームを出力させる。"
      ],
      "metadata": {
        "id": "rMPgfvujgaBT"
      }
    },
    {
      "cell_type": "code",
      "source": [
        "grouped = df.groupby(\"A\")\n",
        "\n",
        "grouped[\"C\"].agg([np.sum, no.mean, no.std])"
      ],
      "metadata": {
        "id": "SW1B0vTugsiQ"
      },
      "execution_count": null,
      "outputs": []
    },
    {
      "cell_type": "markdown",
      "source": [
        "グループ化されたDataFrameに対しては、各列に適用する関数のリストを渡すことが可能。階層インデックスを持つ集約結果を生成することができる。\n",
        "\n",
        "結果として得られる集計は関数そのものの名前が付けられる。　もし、名前を変更する必要がある場合は、以下のようにSeriesの連鎖操作を追加する。"
      ],
      "metadata": {
        "id": "Am895gAwg2zq"
      }
    },
    {
      "cell_type": "code",
      "source": [
        "(\n",
        "    grouped[\"C\"]\n",
        "    .agg([np.sum, np.mean, np.std])\n",
        "    .rename(columns={\"sum\": \"foo\", \"mean\": \"bar\", \"std\": \"baz\"})\n",
        ")"
      ],
      "metadata": {
        "id": "VZrz-6CkhT2K"
      },
      "execution_count": null,
      "outputs": []
    },
    {
      "cell_type": "markdown",
      "source": [
        "グループ化されたDataFrameの場合も同様の方法で名前の変更が可能"
      ],
      "metadata": {
        "id": "yUumHOmyhqkF"
      }
    },
    {
      "cell_type": "markdown",
      "source": [
        "出力カラムは基本的に一意であるべきであり、同じカラムに同じ関数を適用することは不可能。\n",
        "pandasは複数のラムダ関数を渡すことが可能なので、その場合pandasは匿名ラムダ関数の名前を加工して、それぞれのラムダの後ろに_<i>を追加する。"
      ],
      "metadata": {
        "id": "yKFuaFxchxhx"
      }
    },
    {
      "cell_type": "markdown",
      "source": [
        "名前付き集計\n",
        "\n",
        "出力の列名を制御しながら列固有の集約をサポートするために、pandasはDataFrameGroupby.agg()とSeriesGroupby.agg()において名前付き集計として知られる特殊な構文を受け入れる。\n",
        "\n",
        "・キーワードは出力列名\n",
        "\n",
        "・pandasは引数が何であるかを明確にするために、フィールド['column','aggfunc']を持つ名前付きタプルpandas.NameAggを提供する。　通常通り集約は呼び出し可能関数か文字列のエイリアスとなる。"
      ],
      "metadata": {
        "id": "tGijTZJziRaL"
      }
    },
    {
      "cell_type": "code",
      "source": [
        "animals = pd.DataFrame(\n",
        "    {\n",
        "        \"kind\":[\"cat\",\"dog\",\"cat\",\"dog\"]\n",
        "        \"height\":[9.1,6.0, 9.5, 34.0],\n",
        "        \"weight\": [7.9, 7.5, 9.9, 198.0],]\n",
        "    }\n",
        ")\n",
        "\n",
        "animals\n",
        "\n",
        "animals.groupby(\"kind\").agg(\n",
        "    min_height=pd.NamedAgg(column=\"height\", aggfunc='min'),\n",
        "    max_height=pd.NamedAgg(column=\"height\", aggfunc=\"max\"),\n",
        "    average_weight=pd.NamedAgg(column=\"weight\", aggfunc=np.mean),\n",
        ")"
      ],
      "metadata": {
        "id": "aN6t6oVhjKZX"
      },
      "execution_count": null,
      "outputs": []
    },
    {
      "cell_type": "markdown",
      "source": [
        "追加のキーワード引数は集約関数に渡されない。(column, aggfunc)のペアだけが渡されることになる。　もし渡す集約関数が追加の引数を必要とする場合は、functools.partial()で部分的に適用する。\n",
        "\n",
        "名前付き集計はシリーズgroupbyでも有効。この場合、列の選択はないので、値は関数のみとなる。"
      ],
      "metadata": {
        "id": "lm60oKrAkqZC"
      }
    },
    {
      "cell_type": "markdown",
      "source": [
        "データフレームの列にさまざまな関数を適用する\n",
        "\n",
        "aggregateに辞書を渡すことでDataFrameのカラムに異なる集計を適用することが可能\n"
      ],
      "metadata": {
        "id": "D96A06AglGaN"
      }
    },
    {
      "cell_type": "code",
      "source": [
        "grouped.agg({\"C\": np.sum, \"D\": lambda x: np.std(x, ddof=1)})"
      ],
      "metadata": {
        "id": "G2GGRCzZlQhf"
      },
      "execution_count": null,
      "outputs": []
    },
    {
      "cell_type": "markdown",
      "source": [
        "関数名には文字列も使用可能\n",
        "\n",
        "文字列が有効であるためには、Groupbyで実装されているかディスパッチによって利用可能である必要がある。"
      ],
      "metadata": {
        "id": "pszjtu70laLM"
      }
    }
  ]
}